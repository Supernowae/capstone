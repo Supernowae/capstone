{
 "cells": [
  {
   "cell_type": "code",
   "execution_count": 4,
   "metadata": {
    "ExecuteTime": {
     "end_time": "2020-08-01T18:19:46.681540Z",
     "start_time": "2020-08-01T18:19:45.792559Z"
    }
   },
   "outputs": [],
   "source": [
    "from datetime import datetime,timedelta\n",
    "\n",
    "import os\n",
    "os.chdir('Python')\n",
    "#from past_features import *\n",
    "#from elo_features import *\n",
    "#from categorical_features import *\n",
    "#from stategy_assessment import *\n",
    "from utilities import *\n",
    "#from additional_stuff import *\n",
    "os.chdir('../')\n",
    "\n",
    "import pandas as pd"
   ]
  },
  {
   "cell_type": "markdown",
   "metadata": {},
   "source": [
    "# Import data"
   ]
  },
  {
   "cell_type": "code",
   "execution_count": 22,
   "metadata": {
    "ExecuteTime": {
     "end_time": "2020-08-01T21:50:19.389463Z",
     "start_time": "2020-08-01T21:50:19.261308Z"
    }
   },
   "outputs": [],
   "source": [
    "data = load(\"Generated Data/atp_data\")\n",
    "features = load(\"Generated Data/atp_data_features\")\n",
    "feat_gen = load(\"Generated Data/general_features\")\n",
    "#features=pd.read_csv(\"../Generated Data/atp_data_features.csv\")"
   ]
  },
  {
   "cell_type": "code",
   "execution_count": 23,
   "metadata": {
    "ExecuteTime": {
     "end_time": "2020-08-01T21:50:35.952902Z",
     "start_time": "2020-08-01T21:50:35.829446Z"
    }
   },
   "outputs": [
    {
     "data": {
      "text/html": [
       "<div>\n",
       "<style scoped>\n",
       "    .dataframe tbody tr th:only-of-type {\n",
       "        vertical-align: middle;\n",
       "    }\n",
       "\n",
       "    .dataframe tbody tr th {\n",
       "        vertical-align: top;\n",
       "    }\n",
       "\n",
       "    .dataframe thead th {\n",
       "        text-align: right;\n",
       "    }\n",
       "</style>\n",
       "<table border=\"1\" class=\"dataframe\">\n",
       "  <thead>\n",
       "    <tr style=\"text-align: right;\">\n",
       "      <th></th>\n",
       "      <th>generalft0</th>\n",
       "      <th>generalft1</th>\n",
       "      <th>generalft2</th>\n",
       "      <th>generalft3</th>\n",
       "      <th>generalft4</th>\n",
       "      <th>generalft_3000</th>\n",
       "      <th>generalft_3001</th>\n",
       "      <th>generalft_3002</th>\n",
       "      <th>generalft_3003</th>\n",
       "      <th>generalft_3004</th>\n",
       "    </tr>\n",
       "  </thead>\n",
       "  <tbody>\n",
       "    <tr>\n",
       "      <th>0</th>\n",
       "      <td>11</td>\n",
       "      <td>48</td>\n",
       "      <td>37</td>\n",
       "      <td>0</td>\n",
       "      <td>12</td>\n",
       "      <td>11</td>\n",
       "      <td>48</td>\n",
       "      <td>37</td>\n",
       "      <td>0</td>\n",
       "      <td>10</td>\n",
       "    </tr>\n",
       "    <tr>\n",
       "      <th>1</th>\n",
       "      <td>48</td>\n",
       "      <td>11</td>\n",
       "      <td>-37</td>\n",
       "      <td>1</td>\n",
       "      <td>51</td>\n",
       "      <td>48</td>\n",
       "      <td>11</td>\n",
       "      <td>-37</td>\n",
       "      <td>1</td>\n",
       "      <td>35</td>\n",
       "    </tr>\n",
       "    <tr>\n",
       "      <th>2</th>\n",
       "      <td>90</td>\n",
       "      <td>187</td>\n",
       "      <td>97</td>\n",
       "      <td>0</td>\n",
       "      <td>85</td>\n",
       "      <td>90</td>\n",
       "      <td>187</td>\n",
       "      <td>97</td>\n",
       "      <td>0</td>\n",
       "      <td>58</td>\n",
       "    </tr>\n",
       "    <tr>\n",
       "      <th>3</th>\n",
       "      <td>187</td>\n",
       "      <td>90</td>\n",
       "      <td>-97</td>\n",
       "      <td>1</td>\n",
       "      <td>154</td>\n",
       "      <td>187</td>\n",
       "      <td>90</td>\n",
       "      <td>-97</td>\n",
       "      <td>1</td>\n",
       "      <td>93</td>\n",
       "    </tr>\n",
       "    <tr>\n",
       "      <th>4</th>\n",
       "      <td>98</td>\n",
       "      <td>70</td>\n",
       "      <td>-28</td>\n",
       "      <td>1</td>\n",
       "      <td>66</td>\n",
       "      <td>98</td>\n",
       "      <td>70</td>\n",
       "      <td>-28</td>\n",
       "      <td>1</td>\n",
       "      <td>48</td>\n",
       "    </tr>\n",
       "  </tbody>\n",
       "</table>\n",
       "</div>"
      ],
      "text/plain": [
       "   generalft0  generalft1  generalft2  generalft3  generalft4  generalft_3000  \\\n",
       "0          11          48          37           0          12              11   \n",
       "1          48          11         -37           1          51              48   \n",
       "2          90         187          97           0          85              90   \n",
       "3         187          90         -97           1         154             187   \n",
       "4          98          70         -28           1          66              98   \n",
       "\n",
       "   generalft_3001  generalft_3002  generalft_3003  generalft_3004  \n",
       "0              48              37               0              10  \n",
       "1              11             -37               1              35  \n",
       "2             187              97               0              58  \n",
       "3              90             -97               1              93  \n",
       "4              70             -28               1              48  "
      ]
     },
     "execution_count": 23,
     "metadata": {},
     "output_type": "execute_result"
    }
   ],
   "source": [
    "#data.groupby(pd.Grouper(key='Date',freq='Y')).agg('count')\n",
    "feat_gen.head()"
   ]
  },
  {
   "cell_type": "markdown",
   "metadata": {
    "ExecuteTime": {
     "end_time": "2020-07-30T08:40:28.105301Z",
     "start_time": "2020-07-30T08:40:28.102165Z"
    }
   },
   "source": [
    "# Noramalizing"
   ]
  },
  {
   "cell_type": "code",
   "execution_count": 8,
   "metadata": {
    "ExecuteTime": {
     "end_time": "2020-08-01T18:20:51.524765Z",
     "start_time": "2020-08-01T18:20:50.921130Z"
    }
   },
   "outputs": [],
   "source": [
    "from sklearn.preprocessing import MinMaxScaler"
   ]
  },
  {
   "cell_type": "code",
   "execution_count": 9,
   "metadata": {
    "ExecuteTime": {
     "end_time": "2020-08-01T18:20:52.996952Z",
     "start_time": "2020-08-01T18:20:52.991662Z"
    }
   },
   "outputs": [],
   "source": [
    "scaler = MinMaxScaler(copy=False)"
   ]
  },
  {
   "cell_type": "code",
   "execution_count": 17,
   "metadata": {
    "ExecuteTime": {
     "end_time": "2020-08-01T18:24:20.405328Z",
     "start_time": "2020-08-01T18:24:20.389371Z"
    }
   },
   "outputs": [
    {
     "name": "stdout",
     "output_type": "stream",
     "text": [
      "31748\n"
     ]
    }
   ],
   "source": [
    "def skd(data):\n",
    "    print(features.shape[0])\n",
    "    \n",
    "skd(data)"
   ]
  },
  {
   "cell_type": "code",
   "execution_count": 21,
   "metadata": {
    "ExecuteTime": {
     "end_time": "2020-08-01T21:47:45.660853Z",
     "start_time": "2020-08-01T21:47:45.622757Z"
    }
   },
   "outputs": [
    {
     "name": "stdout",
     "output_type": "stream",
     "text": [
      "<class 'pandas.core.frame.DataFrame'>\n",
      "RangeIndex: 31748 entries, 0 to 31747\n",
      "Data columns (total 23 columns):\n",
      "ATP           31748 non-null int64\n",
      "Location      31748 non-null object\n",
      "Tournament    31748 non-null object\n",
      "Date          31748 non-null datetime64[ns]\n",
      "Series        31748 non-null object\n",
      "Court         31748 non-null object\n",
      "Surface       31748 non-null object\n",
      "Round         31748 non-null object\n",
      "Best of       31748 non-null int64\n",
      "Winner        31748 non-null object\n",
      "Loser         31748 non-null object\n",
      "WRank         31748 non-null int64\n",
      "LRank         31748 non-null int64\n",
      "Wsets         31546 non-null float64\n",
      "Lsets         31544 non-null float64\n",
      "Comment       31748 non-null object\n",
      "PSW           28821 non-null float64\n",
      "PSL           28821 non-null float64\n",
      "B365W         31571 non-null float64\n",
      "B365L         31594 non-null float64\n",
      "elo_winner    31748 non-null float64\n",
      "elo_loser     31748 non-null float64\n",
      "proba_elo     31748 non-null float64\n",
      "dtypes: datetime64[ns](1), float64(9), int64(4), object(9)\n",
      "memory usage: 5.6+ MB\n"
     ]
    }
   ],
   "source": [
    "features.info()"
   ]
  },
  {
   "cell_type": "markdown",
   "metadata": {},
   "source": [
    "# splitting and cleaning"
   ]
  },
  {
   "cell_type": "code",
   "execution_count": 13,
   "metadata": {
    "ExecuteTime": {
     "end_time": "2020-08-01T18:22:55.330707Z",
     "start_time": "2020-08-01T18:22:55.232473Z"
    }
   },
   "outputs": [],
   "source": [
    "#start_date=datetime.datetime(2013,1,1) #first day of testing set\n",
    "start_date=datetime(2013,1,1) #first day of testing set\n",
    "test_beginning_match=data[data.Date==start_date].index[0] #id of the first match of the testing set\n",
    "span_matches=len(data)-test_beginning_match+1\n",
    "duration_val_matches=500\n",
    "duration_train_matches=10400\n",
    "duration_test_matches=2000"
   ]
  },
  {
   "cell_type": "code",
   "execution_count": 14,
   "metadata": {
    "ExecuteTime": {
     "end_time": "2020-08-01T18:22:58.891477Z",
     "start_time": "2020-08-01T18:22:58.857278Z"
    }
   },
   "outputs": [],
   "source": [
    "def split_and_clean(features_raw, data, duration_train_matches, \n",
    "                    duration_val_matches,duration_test_matches, \n",
    "                    span_matches,test_beginning_match, odded=0, scaler=None):\n",
    "    '''\n",
    "    Scaling the features before splitting\n",
    "    Splitting the features in the sets\n",
    "    cleaning for NaN\n",
    "    \n",
    "    Some classifiers desire scaled features\n",
    "    some classifiers do not accept NaN\n",
    "    And there is the question if the odds should influence the opinion of the models, \n",
    "    so you can decide if odds should be considered, or not. \n",
    "    '''\n",
    "    \n",
    "    #scale and normalizing\n",
    "    if scaler != None:\n",
    "        features = pd.DataFrame(scaler.fit_transform(features_raw), columns = features_raw.columns)\n",
    "    else:\n",
    "        features = features_raw\n",
    "    \n",
    "    \n",
    "    # Number of matches in our dataset (ie. nb. of outcomes divided by 2)\n",
    "    nm=int(len(features)/2)\n",
    "\n",
    "    # Id of the first and last match of the testing,validation,training set\n",
    "    beg_test=test_beginning_match\n",
    "    end_test=min(test_beginning_match+duration_test_matches-1,nm-1)\n",
    "    end_val=min(beg_test-1,nm-1)\n",
    "    beg_val=beg_test-duration_val_matches\n",
    "    end_train=beg_val-1\n",
    "    beg_train=beg_val-duration_train_matches\n",
    "\n",
    "    train_indices=range(2*beg_train,2*end_train+2)\n",
    "    val_indices=range(2*beg_val,2*end_val+2)\n",
    "    test_indices=range(2*beg_test,2*end_test+2)\n",
    "    print([train_indices, val_indices, test_indices])\n",
    "    \n",
    "    # Split in train/validation/test\n",
    "    xval=features.iloc[val_indices,:].reset_index(drop=True)\n",
    "    xtest=features.iloc[test_indices,:].reset_index(drop=True)\n",
    "    xtrain=features.iloc[train_indices,:].reset_index(drop=True)\n",
    "    ytrain=pd.Series([1,0]*int(len(train_indices)/2))\n",
    "    yval=pd.Series([1,0]*int(len(val_indices)/2))\n",
    "    ytest=pd.Series([1,0]*int(len(test_indices)/2))\n",
    "    \n",
    "    # make the dataset with or without odds\n",
    "    if odded:\n",
    "        cols_to_drop = ['duoft3','playerft53', 'playerft57', 'duoft_3003']\n",
    "        cols_to_clean = ['odds','recentft0', 'recentft1','recentft2','recentft3','recentft4','recentft5','recentft6',\n",
    "                'recentft_3000', 'recentft_3001','recentft_3002','recentft_3003','recentft_3004','recentft_3005','recentft_3006']\n",
    "    else:\n",
    "        cols_to_drop = ['duoft3','playerft53', 'playerft57','odds', 'duoft_3003']\n",
    "        cols_to_clean = ['recentft0', 'recentft1','recentft2','recentft3','recentft4','recentft5','recentft6',\n",
    "                'recentft_3000', 'recentft_3001','recentft_3002','recentft_3003','recentft_3004','recentft_3005','recentft_3006']\n",
    "        \n",
    "    def row_clean(df, ctc):\n",
    "        lines_to_drop = []\n",
    "        for i in ctc:\n",
    "            aff_rows = df.loc[pd.isna(df[i]), :].index \n",
    "            lines_to_drop.extend(aff_rows)\n",
    "        return list(set(lines_to_drop))\n",
    "    \n",
    "    # cleaning data\n",
    "    xtrain_na_free  =  xtrain.drop(cols_to_drop, axis = 1)\n",
    "    xval_na_free  =  xval.drop(cols_to_drop, axis = 1)\n",
    "    xtest_na_free  =  xtest.drop(cols_to_drop, axis = 1)\n",
    "\n",
    "    xtrain_na_only_ind = row_clean(xtrain_na_free,cols_to_clean)\n",
    "    xtrain_na_free = xtrain_na_free.drop(xtrain_na_only_ind,axis=0)\n",
    "    ytrain_na_free = ytrain.drop(xtrain_na_only_ind,axis=0)\n",
    "\n",
    "    xval_na_only_ind = row_clean(xval_na_free,cols_to_clean)\n",
    "    xval_na_free = xval_na_free.drop(xval_na_only_ind,axis=0)\n",
    "    yval_na_free = yval.drop(xval_na_only_ind,axis=0)\n",
    "\n",
    "    xtest_na_only_ind = row_clean(xtest_na_free,cols_to_clean)\n",
    "    xtest_na_free = xtest_na_free.drop(xtest_na_only_ind,axis=0)\n",
    "    ytest_na_free = ytest.drop(xtest_na_only_ind,axis=0)\n",
    "\n",
    "    print(f'Lenght \"xtrain\" before: {xtrain.shape[0]}; after: {xtrain_na_free.shape[0]}; diminution: {len(xtrain_na_only_ind)}')\n",
    "    print(f'Lenght \"xval\" before: {xval.shape[0]}; after: {xval_na_free.shape[0]}; diminution: {len(xval_na_only_ind)}')\n",
    "    print(f'Lenght \"xtest\" before: {xtest.shape[0]}; after: {xtest_na_free.shape[0]}; diminution: {len(xtest_na_only_ind)}')\n",
    "    \n",
    "    return xtrain_na_free, ytrain_na_free"
   ]
  },
  {
   "cell_type": "code",
   "execution_count": 15,
   "metadata": {
    "ExecuteTime": {
     "end_time": "2020-08-01T18:23:07.527073Z",
     "start_time": "2020-08-01T18:23:07.109383Z"
    }
   },
   "outputs": [
    {
     "ename": "NameError",
     "evalue": "name 'features' is not defined",
     "output_type": "error",
     "traceback": [
      "\u001b[0;31m---------------------------------------------------------------------------\u001b[0m",
      "\u001b[0;31mNameError\u001b[0m                                 Traceback (most recent call last)",
      "\u001b[0;32m<ipython-input-15-244e05f6cd71>\u001b[0m in \u001b[0;36m<module>\u001b[0;34m\u001b[0m\n\u001b[0;32m----> 1\u001b[0;31m xtrain, ytrain = split_and_clean(features, data, \n\u001b[0m\u001b[1;32m      2\u001b[0m                                  \u001b[0mduration_train_matches\u001b[0m\u001b[0;34m,\u001b[0m\u001b[0;34m\u001b[0m\u001b[0;34m\u001b[0m\u001b[0m\n\u001b[1;32m      3\u001b[0m                                  \u001b[0mduration_val_matches\u001b[0m\u001b[0;34m,\u001b[0m\u001b[0;34m\u001b[0m\u001b[0;34m\u001b[0m\u001b[0m\n\u001b[1;32m      4\u001b[0m                                  \u001b[0mduration_test_matches\u001b[0m\u001b[0;34m,\u001b[0m\u001b[0;34m\u001b[0m\u001b[0;34m\u001b[0m\u001b[0m\n\u001b[1;32m      5\u001b[0m                                  \u001b[0mspan_matches\u001b[0m\u001b[0;34m,\u001b[0m\u001b[0;34m\u001b[0m\u001b[0;34m\u001b[0m\u001b[0m\n",
      "\u001b[0;31mNameError\u001b[0m: name 'features' is not defined"
     ]
    }
   ],
   "source": [
    "xtrain, ytrain = split_and_clean(features, data, \n",
    "                                 duration_train_matches,\n",
    "                                 duration_val_matches,\n",
    "                                 duration_test_matches, \n",
    "                                 span_matches,\n",
    "                                 test_beginning_match, \n",
    "                                 odded=0, \n",
    "                                 scaler = None)"
   ]
  },
  {
   "cell_type": "code",
   "execution_count": 12,
   "metadata": {
    "ExecuteTime": {
     "end_time": "2020-07-30T12:31:50.923065Z",
     "start_time": "2020-07-30T12:31:48.591789Z"
    }
   },
   "outputs": [
    {
     "name": "stdout",
     "output_type": "stream",
     "text": [
      "[range(5114, 25914), range(25914, 26914), range(26914, 30914)]\n",
      "Lenght \"xtrain\" before: 20800; after: 19564; diminution: 1236\n",
      "Lenght \"xval\" before: 1000; after: 963; diminution: 37\n",
      "Lenght \"xtest\" before: 4000; after: 3762; diminution: 238\n"
     ]
    }
   ],
   "source": [
    "xtrain, ytrain = split_and_clean(features, data, \n",
    "                                 duration_train_matches,\n",
    "                                 duration_val_matches,\n",
    "                                 duration_test_matches, \n",
    "                                 span_matches,\n",
    "                                 test_beginning_match, \n",
    "                                 odded=0, \n",
    "                                 scaler = scaler)"
   ]
  },
  {
   "cell_type": "code",
   "execution_count": 92,
   "metadata": {
    "ExecuteTime": {
     "end_time": "2020-07-30T11:45:36.388642Z",
     "start_time": "2020-07-30T11:45:36.223702Z"
    }
   },
   "outputs": [
    {
     "data": {
      "image/png": "[encoded data removed]",
      "text/plain": [
       "<Figure size 432x288 with 1 Axes>"
      ]
     },
     "metadata": {
      "needs_background": "light"
     },
     "output_type": "display_data"
    }
   ],
   "source": [
    "feat = xtrain.playerft52\n",
    "\n",
    "plt.hist(feat);"
   ]
  },
  {
   "cell_type": "markdown",
   "metadata": {
    "ExecuteTime": {
     "end_time": "2020-07-30T12:32:24.621980Z",
     "start_time": "2020-07-30T12:32:24.618307Z"
    }
   },
   "source": [
    "# Grid searching"
   ]
  },
  {
   "cell_type": "code",
   "execution_count": 14,
   "metadata": {
    "ExecuteTime": {
     "end_time": "2020-07-30T12:48:00.309871Z",
     "start_time": "2020-07-30T12:48:00.112975Z"
    }
   },
   "outputs": [],
   "source": [
    "from sklearn.metrics import confusion_matrix, accuracy_score\n",
    "from sklearn.ensemble import AdaBoostClassifier\n",
    "\n",
    "from sklearn.metrics import classification_report\n",
    "\n",
    "from sklearn.model_selection import GridSearchCV\n",
    "\n",
    "from sklearn.linear_model import LogisticRegression"
   ]
  },
  {
   "cell_type": "code",
   "execution_count": 24,
   "metadata": {
    "ExecuteTime": {
     "end_time": "2020-07-31T08:40:15.435352Z",
     "start_time": "2020-07-31T08:35:49.399756Z"
    }
   },
   "outputs": [
    {
     "name": "stdout",
     "output_type": "stream",
     "text": [
      "run\n",
      "Fitting 5 folds for each of 4 candidates, totalling 20 fits\n"
     ]
    },
    {
     "name": "stderr",
     "output_type": "stream",
     "text": [
      "[Parallel(n_jobs=-1)]: Using backend LokyBackend with 4 concurrent workers.\n",
      "[Parallel(n_jobs=-1)]: Done   1 tasks      | elapsed:   50.6s\n",
      "[Parallel(n_jobs=-1)]: Done   2 tasks      | elapsed:   50.7s\n",
      "[Parallel(n_jobs=-1)]: Done   3 tasks      | elapsed:   52.4s\n",
      "[Parallel(n_jobs=-1)]: Done   4 tasks      | elapsed:   52.6s\n",
      "[Parallel(n_jobs=-1)]: Done   5 tasks      | elapsed:  1.6min\n",
      "[Parallel(n_jobs=-1)]: Done   6 tasks      | elapsed:  1.6min\n",
      "[Parallel(n_jobs=-1)]: Done   7 tasks      | elapsed:  1.7min\n",
      "[Parallel(n_jobs=-1)]: Done   8 tasks      | elapsed:  1.7min\n",
      "[Parallel(n_jobs=-1)]: Done   9 tasks      | elapsed:  2.4min\n",
      "[Parallel(n_jobs=-1)]: Done  10 tasks      | elapsed:  2.4min\n",
      "[Parallel(n_jobs=-1)]: Done  11 tasks      | elapsed:  2.4min\n",
      "[Parallel(n_jobs=-1)]: Done  12 tasks      | elapsed:  2.5min\n",
      "[Parallel(n_jobs=-1)]: Done  13 tasks      | elapsed:  3.1min\n",
      "[Parallel(n_jobs=-1)]: Done  15 out of  20 | elapsed:  3.2min remaining:  1.1min\n",
      "[Parallel(n_jobs=-1)]: Done  17 out of  20 | elapsed:  3.9min remaining:   41.6s\n",
      "[Parallel(n_jobs=-1)]: Done  20 out of  20 | elapsed:  4.0min finished\n",
      "/opt/anaconda3/envs/nf/lib/python3.6/site-packages/sklearn/linear_model/_logistic.py:1501: UserWarning: l1_ratio parameter is only used when penalty is 'elasticnet'. Got (penalty=l2)\n",
      "  \"(penalty={})\".format(self.penalty))\n",
      "[Parallel(n_jobs=1)]: Using backend SequentialBackend with 1 concurrent workers.\n",
      "[Parallel(n_jobs=1)]: Done   1 out of   1 | elapsed:    0.4s remaining:    0.0s\n",
      "[Parallel(n_jobs=1)]: Done   1 out of   1 | elapsed:    0.4s finished\n",
      "/opt/anaconda3/envs/nf/lib/python3.6/site-packages/sklearn/linear_model/_logistic.py:1501: UserWarning: l1_ratio parameter is only used when penalty is 'elasticnet'. Got (penalty=l2)\n",
      "  \"(penalty={})\".format(self.penalty))\n",
      "[Parallel(n_jobs=1)]: Using backend SequentialBackend with 1 concurrent workers.\n",
      "[Parallel(n_jobs=1)]: Done   1 out of   1 | elapsed:    0.5s remaining:    0.0s\n",
      "[Parallel(n_jobs=1)]: Done   1 out of   1 | elapsed:    0.5s finished\n",
      "/opt/anaconda3/envs/nf/lib/python3.6/site-packages/sklearn/linear_model/_logistic.py:1501: UserWarning: l1_ratio parameter is only used when penalty is 'elasticnet'. Got (penalty=l2)\n",
      "  \"(penalty={})\".format(self.penalty))\n",
      "[Parallel(n_jobs=1)]: Using backend SequentialBackend with 1 concurrent workers.\n",
      "[Parallel(n_jobs=1)]: Done   1 out of   1 | elapsed:    0.5s remaining:    0.0s\n",
      "[Parallel(n_jobs=1)]: Done   1 out of   1 | elapsed:    0.5s finished\n",
      "/opt/anaconda3/envs/nf/lib/python3.6/site-packages/sklearn/linear_model/_logistic.py:1501: UserWarning: l1_ratio parameter is only used when penalty is 'elasticnet'. Got (penalty=l2)\n",
      "  \"(penalty={})\".format(self.penalty))\n",
      "[Parallel(n_jobs=1)]: Using backend SequentialBackend with 1 concurrent workers.\n",
      "[Parallel(n_jobs=1)]: Done   1 out of   1 | elapsed:    0.4s remaining:    0.0s\n",
      "[Parallel(n_jobs=1)]: Done   1 out of   1 | elapsed:    0.4s finished\n",
      "/opt/anaconda3/envs/nf/lib/python3.6/site-packages/sklearn/linear_model/_logistic.py:1501: UserWarning: l1_ratio parameter is only used when penalty is 'elasticnet'. Got (penalty=l2)\n",
      "  \"(penalty={})\".format(self.penalty))\n",
      "[Parallel(n_jobs=1)]: Using backend SequentialBackend with 1 concurrent workers.\n",
      "[Parallel(n_jobs=1)]: Done   1 out of   1 | elapsed:    0.5s remaining:    0.0s\n",
      "[Parallel(n_jobs=1)]: Done   1 out of   1 | elapsed:    0.5s finished\n",
      "/opt/anaconda3/envs/nf/lib/python3.6/site-packages/sklearn/linear_model/_logistic.py:1501: UserWarning: l1_ratio parameter is only used when penalty is 'elasticnet'. Got (penalty=l2)\n",
      "  \"(penalty={})\".format(self.penalty))\n",
      "[Parallel(n_jobs=1)]: Using backend SequentialBackend with 1 concurrent workers.\n",
      "[Parallel(n_jobs=1)]: Done   1 out of   1 | elapsed:    0.3s remaining:    0.0s\n",
      "[Parallel(n_jobs=1)]: Done   1 out of   1 | elapsed:    0.3s finished\n",
      "/opt/anaconda3/envs/nf/lib/python3.6/site-packages/sklearn/linear_model/_logistic.py:1501: UserWarning: l1_ratio parameter is only used when penalty is 'elasticnet'. Got (penalty=l2)\n",
      "  \"(penalty={})\".format(self.penalty))\n",
      "[Parallel(n_jobs=1)]: Using backend SequentialBackend with 1 concurrent workers.\n",
      "[Parallel(n_jobs=1)]: Done   1 out of   1 | elapsed:    0.3s remaining:    0.0s\n",
      "[Parallel(n_jobs=1)]: Done   1 out of   1 | elapsed:    0.3s finished\n",
      "/opt/anaconda3/envs/nf/lib/python3.6/site-packages/sklearn/linear_model/_logistic.py:1501: UserWarning: l1_ratio parameter is only used when penalty is 'elasticnet'. Got (penalty=l2)\n",
      "  \"(penalty={})\".format(self.penalty))\n",
      "[Parallel(n_jobs=1)]: Using backend SequentialBackend with 1 concurrent workers.\n",
      "[Parallel(n_jobs=1)]: Done   1 out of   1 | elapsed:    0.5s remaining:    0.0s\n",
      "[Parallel(n_jobs=1)]: Done   1 out of   1 | elapsed:    0.5s finished\n",
      "/opt/anaconda3/envs/nf/lib/python3.6/site-packages/sklearn/linear_model/_logistic.py:1501: UserWarning: l1_ratio parameter is only used when penalty is 'elasticnet'. Got (penalty=l2)\n",
      "  \"(penalty={})\".format(self.penalty))\n",
      "[Parallel(n_jobs=1)]: Using backend SequentialBackend with 1 concurrent workers.\n",
      "[Parallel(n_jobs=1)]: Done   1 out of   1 | elapsed:    0.5s remaining:    0.0s\n",
      "[Parallel(n_jobs=1)]: Done   1 out of   1 | elapsed:    0.5s finished\n",
      "/opt/anaconda3/envs/nf/lib/python3.6/site-packages/sklearn/linear_model/_logistic.py:1501: UserWarning: l1_ratio parameter is only used when penalty is 'elasticnet'. Got (penalty=l2)\n",
      "  \"(penalty={})\".format(self.penalty))\n",
      "[Parallel(n_jobs=1)]: Using backend SequentialBackend with 1 concurrent workers.\n",
      "[Parallel(n_jobs=1)]: Done   1 out of   1 | elapsed:    0.4s remaining:    0.0s\n",
      "[Parallel(n_jobs=1)]: Done   1 out of   1 | elapsed:    0.4s finished\n",
      "/opt/anaconda3/envs/nf/lib/python3.6/site-packages/sklearn/linear_model/_logistic.py:1501: UserWarning: l1_ratio parameter is only used when penalty is 'elasticnet'. Got (penalty=l2)\n",
      "  \"(penalty={})\".format(self.penalty))\n",
      "[Parallel(n_jobs=1)]: Using backend SequentialBackend with 1 concurrent workers.\n",
      "[Parallel(n_jobs=1)]: Done   1 out of   1 | elapsed:    0.4s remaining:    0.0s\n",
      "[Parallel(n_jobs=1)]: Done   1 out of   1 | elapsed:    0.4s finished\n",
      "/opt/anaconda3/envs/nf/lib/python3.6/site-packages/sklearn/linear_model/_logistic.py:1501: UserWarning: l1_ratio parameter is only used when penalty is 'elasticnet'. Got (penalty=l2)\n",
      "  \"(penalty={})\".format(self.penalty))\n",
      "[Parallel(n_jobs=1)]: Using backend SequentialBackend with 1 concurrent workers.\n",
      "[Parallel(n_jobs=1)]: Done   1 out of   1 | elapsed:    0.4s remaining:    0.0s\n",
      "[Parallel(n_jobs=1)]: Done   1 out of   1 | elapsed:    0.4s finished\n",
      "/opt/anaconda3/envs/nf/lib/python3.6/site-packages/sklearn/linear_model/_logistic.py:1501: UserWarning: l1_ratio parameter is only used when penalty is 'elasticnet'. Got (penalty=l2)\n",
      "  \"(penalty={})\".format(self.penalty))\n",
      "[Parallel(n_jobs=1)]: Using backend SequentialBackend with 1 concurrent workers.\n",
      "[Parallel(n_jobs=1)]: Done   1 out of   1 | elapsed:    0.4s remaining:    0.0s\n",
      "[Parallel(n_jobs=1)]: Done   1 out of   1 | elapsed:    0.4s finished\n",
      "/opt/anaconda3/envs/nf/lib/python3.6/site-packages/sklearn/linear_model/_logistic.py:1501: UserWarning: l1_ratio parameter is only used when penalty is 'elasticnet'. Got (penalty=l2)\n",
      "  \"(penalty={})\".format(self.penalty))\n",
      "[Parallel(n_jobs=1)]: Using backend SequentialBackend with 1 concurrent workers.\n",
      "[Parallel(n_jobs=1)]: Done   1 out of   1 | elapsed:    0.4s remaining:    0.0s\n",
      "[Parallel(n_jobs=1)]: Done   1 out of   1 | elapsed:    0.4s finished\n",
      "/opt/anaconda3/envs/nf/lib/python3.6/site-packages/sklearn/linear_model/_logistic.py:1501: UserWarning: l1_ratio parameter is only used when penalty is 'elasticnet'. Got (penalty=l2)\n",
      "  \"(penalty={})\".format(self.penalty))\n",
      "[Parallel(n_jobs=1)]: Using backend SequentialBackend with 1 concurrent workers.\n",
      "[Parallel(n_jobs=1)]: Done   1 out of   1 | elapsed:    0.5s remaining:    0.0s\n",
      "[Parallel(n_jobs=1)]: Done   1 out of   1 | elapsed:    0.5s finished\n",
      "/opt/anaconda3/envs/nf/lib/python3.6/site-packages/sklearn/linear_model/_logistic.py:1501: UserWarning: l1_ratio parameter is only used when penalty is 'elasticnet'. Got (penalty=l2)\n",
      "  \"(penalty={})\".format(self.penalty))\n",
      "[Parallel(n_jobs=1)]: Using backend SequentialBackend with 1 concurrent workers.\n"
     ]
    },
    {
     "name": "stderr",
     "output_type": "stream",
     "text": [
      "[Parallel(n_jobs=1)]: Done   1 out of   1 | elapsed:    0.3s remaining:    0.0s\n",
      "[Parallel(n_jobs=1)]: Done   1 out of   1 | elapsed:    0.3s finished\n",
      "/opt/anaconda3/envs/nf/lib/python3.6/site-packages/sklearn/linear_model/_logistic.py:1501: UserWarning: l1_ratio parameter is only used when penalty is 'elasticnet'. Got (penalty=l2)\n",
      "  \"(penalty={})\".format(self.penalty))\n",
      "[Parallel(n_jobs=1)]: Using backend SequentialBackend with 1 concurrent workers.\n",
      "[Parallel(n_jobs=1)]: Done   1 out of   1 | elapsed:    0.4s remaining:    0.0s\n",
      "[Parallel(n_jobs=1)]: Done   1 out of   1 | elapsed:    0.4s finished\n",
      "/opt/anaconda3/envs/nf/lib/python3.6/site-packages/sklearn/linear_model/_logistic.py:1501: UserWarning: l1_ratio parameter is only used when penalty is 'elasticnet'. Got (penalty=l2)\n",
      "  \"(penalty={})\".format(self.penalty))\n",
      "[Parallel(n_jobs=1)]: Using backend SequentialBackend with 1 concurrent workers.\n",
      "[Parallel(n_jobs=1)]: Done   1 out of   1 | elapsed:    0.4s remaining:    0.0s\n",
      "[Parallel(n_jobs=1)]: Done   1 out of   1 | elapsed:    0.4s finished\n",
      "/opt/anaconda3/envs/nf/lib/python3.6/site-packages/sklearn/linear_model/_logistic.py:1501: UserWarning: l1_ratio parameter is only used when penalty is 'elasticnet'. Got (penalty=l2)\n",
      "  \"(penalty={})\".format(self.penalty))\n",
      "[Parallel(n_jobs=1)]: Using backend SequentialBackend with 1 concurrent workers.\n",
      "[Parallel(n_jobs=1)]: Done   1 out of   1 | elapsed:    0.4s remaining:    0.0s\n",
      "[Parallel(n_jobs=1)]: Done   1 out of   1 | elapsed:    0.4s finished\n",
      "/opt/anaconda3/envs/nf/lib/python3.6/site-packages/sklearn/linear_model/_logistic.py:1501: UserWarning: l1_ratio parameter is only used when penalty is 'elasticnet'. Got (penalty=l2)\n",
      "  \"(penalty={})\".format(self.penalty))\n",
      "[Parallel(n_jobs=1)]: Using backend SequentialBackend with 1 concurrent workers.\n",
      "[Parallel(n_jobs=1)]: Done   1 out of   1 | elapsed:    0.4s remaining:    0.0s\n",
      "[Parallel(n_jobs=1)]: Done   1 out of   1 | elapsed:    0.4s finished\n",
      "/opt/anaconda3/envs/nf/lib/python3.6/site-packages/sklearn/linear_model/_logistic.py:1501: UserWarning: l1_ratio parameter is only used when penalty is 'elasticnet'. Got (penalty=l2)\n",
      "  \"(penalty={})\".format(self.penalty))\n",
      "[Parallel(n_jobs=1)]: Using backend SequentialBackend with 1 concurrent workers.\n",
      "[Parallel(n_jobs=1)]: Done   1 out of   1 | elapsed:    0.4s remaining:    0.0s\n",
      "[Parallel(n_jobs=1)]: Done   1 out of   1 | elapsed:    0.4s finished\n",
      "/opt/anaconda3/envs/nf/lib/python3.6/site-packages/sklearn/linear_model/_logistic.py:1501: UserWarning: l1_ratio parameter is only used when penalty is 'elasticnet'. Got (penalty=l2)\n",
      "  \"(penalty={})\".format(self.penalty))\n",
      "[Parallel(n_jobs=1)]: Using backend SequentialBackend with 1 concurrent workers.\n",
      "[Parallel(n_jobs=1)]: Done   1 out of   1 | elapsed:    0.4s remaining:    0.0s\n",
      "[Parallel(n_jobs=1)]: Done   1 out of   1 | elapsed:    0.4s finished\n",
      "/opt/anaconda3/envs/nf/lib/python3.6/site-packages/sklearn/linear_model/_logistic.py:1501: UserWarning: l1_ratio parameter is only used when penalty is 'elasticnet'. Got (penalty=l2)\n",
      "  \"(penalty={})\".format(self.penalty))\n",
      "[Parallel(n_jobs=1)]: Using backend SequentialBackend with 1 concurrent workers.\n",
      "[Parallel(n_jobs=1)]: Done   1 out of   1 | elapsed:    0.4s remaining:    0.0s\n",
      "[Parallel(n_jobs=1)]: Done   1 out of   1 | elapsed:    0.4s finished\n",
      "/opt/anaconda3/envs/nf/lib/python3.6/site-packages/sklearn/linear_model/_logistic.py:1501: UserWarning: l1_ratio parameter is only used when penalty is 'elasticnet'. Got (penalty=l2)\n",
      "  \"(penalty={})\".format(self.penalty))\n",
      "[Parallel(n_jobs=1)]: Using backend SequentialBackend with 1 concurrent workers.\n",
      "[Parallel(n_jobs=1)]: Done   1 out of   1 | elapsed:    0.4s remaining:    0.0s\n",
      "[Parallel(n_jobs=1)]: Done   1 out of   1 | elapsed:    0.4s finished\n",
      "/opt/anaconda3/envs/nf/lib/python3.6/site-packages/sklearn/linear_model/_logistic.py:1501: UserWarning: l1_ratio parameter is only used when penalty is 'elasticnet'. Got (penalty=l2)\n",
      "  \"(penalty={})\".format(self.penalty))\n",
      "[Parallel(n_jobs=1)]: Using backend SequentialBackend with 1 concurrent workers.\n",
      "[Parallel(n_jobs=1)]: Done   1 out of   1 | elapsed:    0.4s remaining:    0.0s\n",
      "[Parallel(n_jobs=1)]: Done   1 out of   1 | elapsed:    0.4s finished\n",
      "/opt/anaconda3/envs/nf/lib/python3.6/site-packages/sklearn/linear_model/_logistic.py:1501: UserWarning: l1_ratio parameter is only used when penalty is 'elasticnet'. Got (penalty=l2)\n",
      "  \"(penalty={})\".format(self.penalty))\n",
      "[Parallel(n_jobs=1)]: Using backend SequentialBackend with 1 concurrent workers.\n",
      "[Parallel(n_jobs=1)]: Done   1 out of   1 | elapsed:    0.4s remaining:    0.0s\n",
      "[Parallel(n_jobs=1)]: Done   1 out of   1 | elapsed:    0.4s finished\n",
      "/opt/anaconda3/envs/nf/lib/python3.6/site-packages/sklearn/linear_model/_logistic.py:1501: UserWarning: l1_ratio parameter is only used when penalty is 'elasticnet'. Got (penalty=l2)\n",
      "  \"(penalty={})\".format(self.penalty))\n",
      "[Parallel(n_jobs=1)]: Using backend SequentialBackend with 1 concurrent workers.\n",
      "[Parallel(n_jobs=1)]: Done   1 out of   1 | elapsed:    0.4s remaining:    0.0s\n",
      "[Parallel(n_jobs=1)]: Done   1 out of   1 | elapsed:    0.4s finished\n",
      "/opt/anaconda3/envs/nf/lib/python3.6/site-packages/sklearn/linear_model/_logistic.py:1501: UserWarning: l1_ratio parameter is only used when penalty is 'elasticnet'. Got (penalty=l2)\n",
      "  \"(penalty={})\".format(self.penalty))\n",
      "[Parallel(n_jobs=1)]: Using backend SequentialBackend with 1 concurrent workers.\n",
      "[Parallel(n_jobs=1)]: Done   1 out of   1 | elapsed:    0.4s remaining:    0.0s\n",
      "[Parallel(n_jobs=1)]: Done   1 out of   1 | elapsed:    0.4s finished\n",
      "/opt/anaconda3/envs/nf/lib/python3.6/site-packages/sklearn/linear_model/_logistic.py:1501: UserWarning: l1_ratio parameter is only used when penalty is 'elasticnet'. Got (penalty=l2)\n",
      "  \"(penalty={})\".format(self.penalty))\n",
      "[Parallel(n_jobs=1)]: Using backend SequentialBackend with 1 concurrent workers.\n",
      "[Parallel(n_jobs=1)]: Done   1 out of   1 | elapsed:    0.4s remaining:    0.0s\n",
      "[Parallel(n_jobs=1)]: Done   1 out of   1 | elapsed:    0.4s finished\n",
      "/opt/anaconda3/envs/nf/lib/python3.6/site-packages/sklearn/linear_model/_logistic.py:1501: UserWarning: l1_ratio parameter is only used when penalty is 'elasticnet'. Got (penalty=l2)\n",
      "  \"(penalty={})\".format(self.penalty))\n",
      "[Parallel(n_jobs=1)]: Using backend SequentialBackend with 1 concurrent workers.\n",
      "[Parallel(n_jobs=1)]: Done   1 out of   1 | elapsed:    0.4s remaining:    0.0s\n",
      "[Parallel(n_jobs=1)]: Done   1 out of   1 | elapsed:    0.4s finished\n",
      "/opt/anaconda3/envs/nf/lib/python3.6/site-packages/sklearn/linear_model/_logistic.py:1501: UserWarning: l1_ratio parameter is only used when penalty is 'elasticnet'. Got (penalty=l2)\n",
      "  \"(penalty={})\".format(self.penalty))\n",
      "[Parallel(n_jobs=1)]: Using backend SequentialBackend with 1 concurrent workers.\n",
      "[Parallel(n_jobs=1)]: Done   1 out of   1 | elapsed:    0.3s remaining:    0.0s\n",
      "[Parallel(n_jobs=1)]: Done   1 out of   1 | elapsed:    0.3s finished\n",
      "/opt/anaconda3/envs/nf/lib/python3.6/site-packages/sklearn/linear_model/_logistic.py:1501: UserWarning: l1_ratio parameter is only used when penalty is 'elasticnet'. Got (penalty=l2)\n",
      "  \"(penalty={})\".format(self.penalty))\n",
      "[Parallel(n_jobs=1)]: Using backend SequentialBackend with 1 concurrent workers.\n",
      "[Parallel(n_jobs=1)]: Done   1 out of   1 | elapsed:    0.3s remaining:    0.0s\n",
      "[Parallel(n_jobs=1)]: Done   1 out of   1 | elapsed:    0.3s finished\n",
      "/opt/anaconda3/envs/nf/lib/python3.6/site-packages/sklearn/linear_model/_logistic.py:1501: UserWarning: l1_ratio parameter is only used when penalty is 'elasticnet'. Got (penalty=l2)\n",
      "  \"(penalty={})\".format(self.penalty))\n",
      "[Parallel(n_jobs=1)]: Using backend SequentialBackend with 1 concurrent workers.\n",
      "[Parallel(n_jobs=1)]: Done   1 out of   1 | elapsed:    0.4s remaining:    0.0s\n",
      "[Parallel(n_jobs=1)]: Done   1 out of   1 | elapsed:    0.4s finished\n",
      "/opt/anaconda3/envs/nf/lib/python3.6/site-packages/sklearn/linear_model/_logistic.py:1501: UserWarning: l1_ratio parameter is only used when penalty is 'elasticnet'. Got (penalty=l2)\n",
      "  \"(penalty={})\".format(self.penalty))\n",
      "[Parallel(n_jobs=1)]: Using backend SequentialBackend with 1 concurrent workers.\n",
      "[Parallel(n_jobs=1)]: Done   1 out of   1 | elapsed:    0.4s remaining:    0.0s\n",
      "[Parallel(n_jobs=1)]: Done   1 out of   1 | elapsed:    0.4s finished\n",
      "/opt/anaconda3/envs/nf/lib/python3.6/site-packages/sklearn/linear_model/_logistic.py:1501: UserWarning: l1_ratio parameter is only used when penalty is 'elasticnet'. Got (penalty=l2)\n",
      "  \"(penalty={})\".format(self.penalty))\n",
      "[Parallel(n_jobs=1)]: Using backend SequentialBackend with 1 concurrent workers.\n"
     ]
    },
    {
     "name": "stderr",
     "output_type": "stream",
     "text": [
      "[Parallel(n_jobs=1)]: Done   1 out of   1 | elapsed:    0.3s remaining:    0.0s\n",
      "[Parallel(n_jobs=1)]: Done   1 out of   1 | elapsed:    0.3s finished\n",
      "/opt/anaconda3/envs/nf/lib/python3.6/site-packages/sklearn/linear_model/_logistic.py:1501: UserWarning: l1_ratio parameter is only used when penalty is 'elasticnet'. Got (penalty=l2)\n",
      "  \"(penalty={})\".format(self.penalty))\n",
      "[Parallel(n_jobs=1)]: Using backend SequentialBackend with 1 concurrent workers.\n",
      "[Parallel(n_jobs=1)]: Done   1 out of   1 | elapsed:    0.3s remaining:    0.0s\n",
      "[Parallel(n_jobs=1)]: Done   1 out of   1 | elapsed:    0.3s finished\n",
      "/opt/anaconda3/envs/nf/lib/python3.6/site-packages/sklearn/linear_model/_logistic.py:1501: UserWarning: l1_ratio parameter is only used when penalty is 'elasticnet'. Got (penalty=l2)\n",
      "  \"(penalty={})\".format(self.penalty))\n",
      "[Parallel(n_jobs=1)]: Using backend SequentialBackend with 1 concurrent workers.\n",
      "[Parallel(n_jobs=1)]: Done   1 out of   1 | elapsed:    0.3s remaining:    0.0s\n",
      "[Parallel(n_jobs=1)]: Done   1 out of   1 | elapsed:    0.3s finished\n",
      "/opt/anaconda3/envs/nf/lib/python3.6/site-packages/sklearn/linear_model/_logistic.py:1501: UserWarning: l1_ratio parameter is only used when penalty is 'elasticnet'. Got (penalty=l2)\n",
      "  \"(penalty={})\".format(self.penalty))\n",
      "[Parallel(n_jobs=1)]: Using backend SequentialBackend with 1 concurrent workers.\n",
      "[Parallel(n_jobs=1)]: Done   1 out of   1 | elapsed:    0.4s remaining:    0.0s\n",
      "[Parallel(n_jobs=1)]: Done   1 out of   1 | elapsed:    0.4s finished\n",
      "/opt/anaconda3/envs/nf/lib/python3.6/site-packages/sklearn/linear_model/_logistic.py:1501: UserWarning: l1_ratio parameter is only used when penalty is 'elasticnet'. Got (penalty=l2)\n",
      "  \"(penalty={})\".format(self.penalty))\n",
      "[Parallel(n_jobs=1)]: Using backend SequentialBackend with 1 concurrent workers.\n",
      "[Parallel(n_jobs=1)]: Done   1 out of   1 | elapsed:    0.4s remaining:    0.0s\n",
      "[Parallel(n_jobs=1)]: Done   1 out of   1 | elapsed:    0.4s finished\n",
      "/opt/anaconda3/envs/nf/lib/python3.6/site-packages/sklearn/linear_model/_logistic.py:1501: UserWarning: l1_ratio parameter is only used when penalty is 'elasticnet'. Got (penalty=l2)\n",
      "  \"(penalty={})\".format(self.penalty))\n",
      "[Parallel(n_jobs=1)]: Using backend SequentialBackend with 1 concurrent workers.\n",
      "[Parallel(n_jobs=1)]: Done   1 out of   1 | elapsed:    0.4s remaining:    0.0s\n",
      "[Parallel(n_jobs=1)]: Done   1 out of   1 | elapsed:    0.4s finished\n",
      "/opt/anaconda3/envs/nf/lib/python3.6/site-packages/sklearn/linear_model/_logistic.py:1501: UserWarning: l1_ratio parameter is only used when penalty is 'elasticnet'. Got (penalty=l2)\n",
      "  \"(penalty={})\".format(self.penalty))\n",
      "[Parallel(n_jobs=1)]: Using backend SequentialBackend with 1 concurrent workers.\n",
      "[Parallel(n_jobs=1)]: Done   1 out of   1 | elapsed:    0.4s remaining:    0.0s\n",
      "[Parallel(n_jobs=1)]: Done   1 out of   1 | elapsed:    0.4s finished\n",
      "/opt/anaconda3/envs/nf/lib/python3.6/site-packages/sklearn/linear_model/_logistic.py:1501: UserWarning: l1_ratio parameter is only used when penalty is 'elasticnet'. Got (penalty=l2)\n",
      "  \"(penalty={})\".format(self.penalty))\n",
      "[Parallel(n_jobs=1)]: Using backend SequentialBackend with 1 concurrent workers.\n",
      "[Parallel(n_jobs=1)]: Done   1 out of   1 | elapsed:    0.4s remaining:    0.0s\n",
      "[Parallel(n_jobs=1)]: Done   1 out of   1 | elapsed:    0.4s finished\n",
      "/opt/anaconda3/envs/nf/lib/python3.6/site-packages/sklearn/linear_model/_logistic.py:1501: UserWarning: l1_ratio parameter is only used when penalty is 'elasticnet'. Got (penalty=l2)\n",
      "  \"(penalty={})\".format(self.penalty))\n",
      "[Parallel(n_jobs=1)]: Using backend SequentialBackend with 1 concurrent workers.\n",
      "[Parallel(n_jobs=1)]: Done   1 out of   1 | elapsed:    0.4s remaining:    0.0s\n",
      "[Parallel(n_jobs=1)]: Done   1 out of   1 | elapsed:    0.4s finished\n",
      "/opt/anaconda3/envs/nf/lib/python3.6/site-packages/sklearn/linear_model/_logistic.py:1501: UserWarning: l1_ratio parameter is only used when penalty is 'elasticnet'. Got (penalty=l2)\n",
      "  \"(penalty={})\".format(self.penalty))\n",
      "[Parallel(n_jobs=1)]: Using backend SequentialBackend with 1 concurrent workers.\n",
      "[Parallel(n_jobs=1)]: Done   1 out of   1 | elapsed:    0.4s remaining:    0.0s\n",
      "[Parallel(n_jobs=1)]: Done   1 out of   1 | elapsed:    0.4s finished\n",
      "/opt/anaconda3/envs/nf/lib/python3.6/site-packages/sklearn/linear_model/_logistic.py:1501: UserWarning: l1_ratio parameter is only used when penalty is 'elasticnet'. Got (penalty=l2)\n",
      "  \"(penalty={})\".format(self.penalty))\n",
      "[Parallel(n_jobs=1)]: Using backend SequentialBackend with 1 concurrent workers.\n",
      "[Parallel(n_jobs=1)]: Done   1 out of   1 | elapsed:    0.3s remaining:    0.0s\n",
      "[Parallel(n_jobs=1)]: Done   1 out of   1 | elapsed:    0.3s finished\n",
      "/opt/anaconda3/envs/nf/lib/python3.6/site-packages/sklearn/linear_model/_logistic.py:1501: UserWarning: l1_ratio parameter is only used when penalty is 'elasticnet'. Got (penalty=l2)\n",
      "  \"(penalty={})\".format(self.penalty))\n",
      "[Parallel(n_jobs=1)]: Using backend SequentialBackend with 1 concurrent workers.\n",
      "[Parallel(n_jobs=1)]: Done   1 out of   1 | elapsed:    0.3s remaining:    0.0s\n",
      "[Parallel(n_jobs=1)]: Done   1 out of   1 | elapsed:    0.3s finished\n",
      "/opt/anaconda3/envs/nf/lib/python3.6/site-packages/sklearn/linear_model/_logistic.py:1501: UserWarning: l1_ratio parameter is only used when penalty is 'elasticnet'. Got (penalty=l2)\n",
      "  \"(penalty={})\".format(self.penalty))\n",
      "[Parallel(n_jobs=1)]: Using backend SequentialBackend with 1 concurrent workers.\n",
      "[Parallel(n_jobs=1)]: Done   1 out of   1 | elapsed:    0.3s remaining:    0.0s\n",
      "[Parallel(n_jobs=1)]: Done   1 out of   1 | elapsed:    0.3s finished\n",
      "/opt/anaconda3/envs/nf/lib/python3.6/site-packages/sklearn/linear_model/_logistic.py:1501: UserWarning: l1_ratio parameter is only used when penalty is 'elasticnet'. Got (penalty=l2)\n",
      "  \"(penalty={})\".format(self.penalty))\n",
      "[Parallel(n_jobs=1)]: Using backend SequentialBackend with 1 concurrent workers.\n",
      "[Parallel(n_jobs=1)]: Done   1 out of   1 | elapsed:    0.3s remaining:    0.0s\n",
      "[Parallel(n_jobs=1)]: Done   1 out of   1 | elapsed:    0.3s finished\n",
      "/opt/anaconda3/envs/nf/lib/python3.6/site-packages/sklearn/linear_model/_logistic.py:1501: UserWarning: l1_ratio parameter is only used when penalty is 'elasticnet'. Got (penalty=l2)\n",
      "  \"(penalty={})\".format(self.penalty))\n",
      "[Parallel(n_jobs=1)]: Using backend SequentialBackend with 1 concurrent workers.\n",
      "[Parallel(n_jobs=1)]: Done   1 out of   1 | elapsed:    0.4s remaining:    0.0s\n",
      "[Parallel(n_jobs=1)]: Done   1 out of   1 | elapsed:    0.4s finished\n",
      "/opt/anaconda3/envs/nf/lib/python3.6/site-packages/sklearn/linear_model/_logistic.py:1501: UserWarning: l1_ratio parameter is only used when penalty is 'elasticnet'. Got (penalty=l2)\n",
      "  \"(penalty={})\".format(self.penalty))\n",
      "[Parallel(n_jobs=1)]: Using backend SequentialBackend with 1 concurrent workers.\n",
      "[Parallel(n_jobs=1)]: Done   1 out of   1 | elapsed:    0.4s remaining:    0.0s\n",
      "[Parallel(n_jobs=1)]: Done   1 out of   1 | elapsed:    0.4s finished\n"
     ]
    },
    {
     "data": {
      "text/plain": [
       "GridSearchCV(cv=None, error_score=nan,\n",
       "             estimator=AdaBoostClassifier(algorithm='SAMME.R',\n",
       "                                          base_estimator=LogisticRegression(C=1.0,\n",
       "                                                                            class_weight=None,\n",
       "                                                                            dual=False,\n",
       "                                                                            fit_intercept=True,\n",
       "                                                                            intercept_scaling=1,\n",
       "                                                                            l1_ratio=None,\n",
       "                                                                            max_iter=100,\n",
       "                                                                            multi_class='ovr',\n",
       "                                                                            n_jobs=None,\n",
       "                                                                            penalty='l2',\n",
       "                                                                            random_state=0,\n",
       "                                                                            solver='lbfgs',\n",
       "                                                                            tol=0.0001,\n",
       "                                                                            verbose=10,\n",
       "                                                                            warm_start=False),\n",
       "                                          learning_rate=1.0, n_estimators=50,\n",
       "                                          random_state=None),\n",
       "             iid='deprecated', n_jobs=-1,\n",
       "             param_grid={'base_estimator__l1_ratio': [0],\n",
       "                         'learning_rate': [0.01, 0.05, 1, 1.5]},\n",
       "             pre_dispatch='2*n_jobs', refit='auc', return_train_score=False,\n",
       "             scoring={'auc': 'roc_auc', 'preci': 'precision'}, verbose=20)"
      ]
     },
     "execution_count": 24,
     "metadata": {},
     "output_type": "execute_result"
    }
   ],
   "source": [
    "# GS_ABC_6\n",
    "print('run')\n",
    "#'log_loss', 'precision'\n",
    "scores = {'auc':'roc_auc', 'preci':'precision'}\n",
    "parameters = {'learning_rate':[0.01,0.05,1, 1.5], 'base_estimator__l1_ratio':[0]}\n",
    "lrc = LogisticRegression(random_state=0, multi_class = 'ovr', verbose=10)\n",
    "#lrc = LogisticRegression(random_state=0,penalty='elasticnet',solver = 'saga', multi_class = 'ovr', verbose=10)\n",
    "ada_model=AdaBoostClassifier(base_estimator=lrc, n_estimators = 50)\n",
    "\n",
    "grid_search_ABC_6 = GridSearchCV(ada_model, param_grid=parameters,scoring = scores,refit='auc', verbose = 20, n_jobs = -1)\n",
    "\n",
    "grid_search_ABC_6.fit(xtrain,ytrain)"
   ]
  },
  {
   "cell_type": "code",
   "execution_count": 25,
   "metadata": {
    "ExecuteTime": {
     "end_time": "2020-07-31T08:40:36.941307Z",
     "start_time": "2020-07-31T08:40:36.932911Z"
    }
   },
   "outputs": [],
   "source": [
    "res3 = pd.DataFrame(grid_search_ABC_6.cv_results_)"
   ]
  },
  {
   "cell_type": "code",
   "execution_count": 26,
   "metadata": {
    "ExecuteTime": {
     "end_time": "2020-07-31T08:40:37.588945Z",
     "start_time": "2020-07-31T08:40:37.560514Z"
    }
   },
   "outputs": [
    {
     "data": {
      "text/html": [
       "<div>\n",
       "<style scoped>\n",
       "    .dataframe tbody tr th:only-of-type {\n",
       "        vertical-align: middle;\n",
       "    }\n",
       "\n",
       "    .dataframe tbody tr th {\n",
       "        vertical-align: top;\n",
       "    }\n",
       "\n",
       "    .dataframe thead th {\n",
       "        text-align: right;\n",
       "    }\n",
       "</style>\n",
       "<table border=\"1\" class=\"dataframe\">\n",
       "  <thead>\n",
       "    <tr style=\"text-align: right;\">\n",
       "      <th></th>\n",
       "      <th>mean_fit_time</th>\n",
       "      <th>std_fit_time</th>\n",
       "      <th>mean_score_time</th>\n",
       "      <th>std_score_time</th>\n",
       "      <th>param_base_estimator__l1_ratio</th>\n",
       "      <th>param_learning_rate</th>\n",
       "      <th>params</th>\n",
       "      <th>split0_test_auc</th>\n",
       "      <th>split1_test_auc</th>\n",
       "      <th>split2_test_auc</th>\n",
       "      <th>...</th>\n",
       "      <th>std_test_auc</th>\n",
       "      <th>rank_test_auc</th>\n",
       "      <th>split0_test_preci</th>\n",
       "      <th>split1_test_preci</th>\n",
       "      <th>split2_test_preci</th>\n",
       "      <th>split3_test_preci</th>\n",
       "      <th>split4_test_preci</th>\n",
       "      <th>mean_test_preci</th>\n",
       "      <th>std_test_preci</th>\n",
       "      <th>rank_test_preci</th>\n",
       "    </tr>\n",
       "  </thead>\n",
       "  <tbody>\n",
       "    <tr>\n",
       "      <th>0</th>\n",
       "      <td>47.685701</td>\n",
       "      <td>0.983923</td>\n",
       "      <td>0.815561</td>\n",
       "      <td>0.017738</td>\n",
       "      <td>0</td>\n",
       "      <td>0.01</td>\n",
       "      <td>{'base_estimator__l1_ratio': 0, 'learning_rate...</td>\n",
       "      <td>0.738970</td>\n",
       "      <td>0.747045</td>\n",
       "      <td>0.713337</td>\n",
       "      <td>...</td>\n",
       "      <td>0.014617</td>\n",
       "      <td>4</td>\n",
       "      <td>0.673199</td>\n",
       "      <td>0.683130</td>\n",
       "      <td>0.658309</td>\n",
       "      <td>0.666171</td>\n",
       "      <td>0.675994</td>\n",
       "      <td>0.671361</td>\n",
       "      <td>0.008493</td>\n",
       "      <td>4</td>\n",
       "    </tr>\n",
       "    <tr>\n",
       "      <th>1</th>\n",
       "      <td>46.859389</td>\n",
       "      <td>1.170634</td>\n",
       "      <td>0.688964</td>\n",
       "      <td>0.075196</td>\n",
       "      <td>0</td>\n",
       "      <td>0.05</td>\n",
       "      <td>{'base_estimator__l1_ratio': 0, 'learning_rate...</td>\n",
       "      <td>0.741574</td>\n",
       "      <td>0.749138</td>\n",
       "      <td>0.716058</td>\n",
       "      <td>...</td>\n",
       "      <td>0.014481</td>\n",
       "      <td>3</td>\n",
       "      <td>0.673199</td>\n",
       "      <td>0.683130</td>\n",
       "      <td>0.658309</td>\n",
       "      <td>0.666171</td>\n",
       "      <td>0.676326</td>\n",
       "      <td>0.671427</td>\n",
       "      <td>0.008530</td>\n",
       "      <td>3</td>\n",
       "    </tr>\n",
       "    <tr>\n",
       "      <th>2</th>\n",
       "      <td>44.992134</td>\n",
       "      <td>2.001607</td>\n",
       "      <td>0.719186</td>\n",
       "      <td>0.048163</td>\n",
       "      <td>0</td>\n",
       "      <td>1</td>\n",
       "      <td>{'base_estimator__l1_ratio': 0, 'learning_rate...</td>\n",
       "      <td>0.757146</td>\n",
       "      <td>0.759050</td>\n",
       "      <td>0.733046</td>\n",
       "      <td>...</td>\n",
       "      <td>0.012959</td>\n",
       "      <td>2</td>\n",
       "      <td>0.673689</td>\n",
       "      <td>0.684133</td>\n",
       "      <td>0.661108</td>\n",
       "      <td>0.667824</td>\n",
       "      <td>0.677467</td>\n",
       "      <td>0.672844</td>\n",
       "      <td>0.007905</td>\n",
       "      <td>2</td>\n",
       "    </tr>\n",
       "    <tr>\n",
       "      <th>3</th>\n",
       "      <td>44.853042</td>\n",
       "      <td>1.244470</td>\n",
       "      <td>0.635826</td>\n",
       "      <td>0.156318</td>\n",
       "      <td>0</td>\n",
       "      <td>1.5</td>\n",
       "      <td>{'base_estimator__l1_ratio': 0, 'learning_rate...</td>\n",
       "      <td>0.757836</td>\n",
       "      <td>0.759332</td>\n",
       "      <td>0.734200</td>\n",
       "      <td>...</td>\n",
       "      <td>0.012752</td>\n",
       "      <td>1</td>\n",
       "      <td>0.682796</td>\n",
       "      <td>0.686217</td>\n",
       "      <td>0.667971</td>\n",
       "      <td>0.671260</td>\n",
       "      <td>0.681195</td>\n",
       "      <td>0.677888</td>\n",
       "      <td>0.007024</td>\n",
       "      <td>1</td>\n",
       "    </tr>\n",
       "  </tbody>\n",
       "</table>\n",
       "<p>4 rows × 23 columns</p>\n",
       "</div>"
      ],
      "text/plain": [
       "   mean_fit_time  std_fit_time  mean_score_time  std_score_time  \\\n",
       "0      47.685701      0.983923         0.815561        0.017738   \n",
       "1      46.859389      1.170634         0.688964        0.075196   \n",
       "2      44.992134      2.001607         0.719186        0.048163   \n",
       "3      44.853042      1.244470         0.635826        0.156318   \n",
       "\n",
       "  param_base_estimator__l1_ratio param_learning_rate  \\\n",
       "0                              0                0.01   \n",
       "1                              0                0.05   \n",
       "2                              0                   1   \n",
       "3                              0                 1.5   \n",
       "\n",
       "                                              params  split0_test_auc  \\\n",
       "0  {'base_estimator__l1_ratio': 0, 'learning_rate...         0.738970   \n",
       "1  {'base_estimator__l1_ratio': 0, 'learning_rate...         0.741574   \n",
       "2  {'base_estimator__l1_ratio': 0, 'learning_rate...         0.757146   \n",
       "3  {'base_estimator__l1_ratio': 0, 'learning_rate...         0.757836   \n",
       "\n",
       "   split1_test_auc  split2_test_auc  ...  std_test_auc  rank_test_auc  \\\n",
       "0         0.747045         0.713337  ...      0.014617              4   \n",
       "1         0.749138         0.716058  ...      0.014481              3   \n",
       "2         0.759050         0.733046  ...      0.012959              2   \n",
       "3         0.759332         0.734200  ...      0.012752              1   \n",
       "\n",
       "   split0_test_preci  split1_test_preci  split2_test_preci  split3_test_preci  \\\n",
       "0           0.673199           0.683130           0.658309           0.666171   \n",
       "1           0.673199           0.683130           0.658309           0.666171   \n",
       "2           0.673689           0.684133           0.661108           0.667824   \n",
       "3           0.682796           0.686217           0.667971           0.671260   \n",
       "\n",
       "   split4_test_preci  mean_test_preci  std_test_preci  rank_test_preci  \n",
       "0           0.675994         0.671361        0.008493                4  \n",
       "1           0.676326         0.671427        0.008530                3  \n",
       "2           0.677467         0.672844        0.007905                2  \n",
       "3           0.681195         0.677888        0.007024                1  \n",
       "\n",
       "[4 rows x 23 columns]"
      ]
     },
     "execution_count": 26,
     "metadata": {},
     "output_type": "execute_result"
    }
   ],
   "source": [
    "res3"
   ]
  },
  {
   "cell_type": "code",
   "execution_count": null,
   "metadata": {},
   "outputs": [],
   "source": []
  }
 ],
 "metadata": {
  "kernelspec": {
   "display_name": "Python [conda env:nf] *",
   "language": "python",
   "name": "conda-env-nf-py"
  },
  "language_info": {
   "codemirror_mode": {
    "name": "ipython",
    "version": 3
   },
   "file_extension": ".py",
   "mimetype": "text/x-python",
   "name": "python",
   "nbconvert_exporter": "python",
   "pygments_lexer": "ipython3",
   "version": "3.6.10"
  },
  "latex_envs": {
   "LaTeX_envs_menu_present": true,
   "autoclose": false,
   "autocomplete": true,
   "bibliofile": "biblio.bib",
   "cite_by": "apalike",
   "current_citInitial": 1,
   "eqLabelWithNumbers": true,
   "eqNumInitial": 1,
   "hotkeys": {
    "equation": "Ctrl-E",
    "itemize": "Ctrl-I"
   },
   "labels_anchors": false,
   "latex_user_defs": false,
   "report_style_numbering": false,
   "user_envs_cfg": false
  },
  "toc": {
   "base_numbering": 1,
   "nav_menu": {},
   "number_sections": true,
   "sideBar": true,
   "skip_h1_title": false,
   "title_cell": "Table of Contents",
   "title_sidebar": "Contents",
   "toc_cell": false,
   "toc_position": {},
   "toc_section_display": true,
   "toc_window_display": false
  },
  "varInspector": {
   "cols": {
    "lenName": 16,
    "lenType": 16,
    "lenVar": 40
   },
   "kernels_config": {
    "python": {
     "delete_cmd_postfix": "",
     "delete_cmd_prefix": "del ",
     "library": "var_list.py",
     "varRefreshCmd": "print(var_dic_list())"
    },
    "r": {
     "delete_cmd_postfix": ") ",
     "delete_cmd_prefix": "rm(",
     "library": "var_list.r",
     "varRefreshCmd": "cat(var_dic_list()) "
    }
   },
   "types_to_exclude": [
    "module",
    "function",
    "builtin_function_or_method",
    "instance",
    "_Feature"
   ],
   "window_display": false
  }
 },
 "nbformat": 4,
 "nbformat_minor": 4
}
