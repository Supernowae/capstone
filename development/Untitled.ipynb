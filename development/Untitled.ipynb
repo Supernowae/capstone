{
 "cells": [
  {
   "cell_type": "code",
   "execution_count": 1,
   "metadata": {
    "ExecuteTime": {
     "end_time": "2020-08-06T06:11:21.611641Z",
     "start_time": "2020-08-06T06:11:20.512487Z"
    }
   },
   "outputs": [],
   "source": [
    "import numpy as np\n",
    "import pandas as pd\n",
    "\n",
    "import xgboost as xgb\n",
    "\n",
    "from xgboost import XGBClassifier\n",
    "\n",
    "from datetime import datetime,timedelta\n",
    "\n",
    "import os\n",
    "os.chdir('../Python')\n",
    "from utilities import *\n",
    "os.chdir('../development')"
   ]
  },
  {
   "cell_type": "code",
   "execution_count": 5,
   "metadata": {
    "ExecuteTime": {
     "end_time": "2020-08-06T06:16:02.602963Z",
     "start_time": "2020-08-06T06:16:02.587758Z"
    }
   },
   "outputs": [],
   "source": [
    "post_fix = \"_test6\"      \n",
    "\n",
    "para_str = \"train_test_results\" + post_fix + \"_info\"\n",
    "res_str = \"train_test_results\" + post_fix\n",
    "#parameters = [threshold_test, threshold_test_conf, req_votes,threshold_test_log_odd, threshold_train, p]        \n",
    "res_para = load(para_str)\n",
    "res = load(res_str)"
   ]
  },
  {
   "cell_type": "code",
   "execution_count": 6,
   "metadata": {
    "ExecuteTime": {
     "end_time": "2020-08-06T06:16:04.545402Z",
     "start_time": "2020-08-06T06:16:04.539119Z"
    }
   },
   "outputs": [
    {
     "data": {
      "text/plain": [
       "[0.6,\n",
       " 0.6,\n",
       " 1.0,\n",
       " 1.3,\n",
       " 0.6,\n",
       " array([2.e-01, 6.e+01, 1.e+00, 8.e-01, 5.e-01, 0.e+00, 2.e+00, 3.e+02,\n",
       "        4.e+00])]"
      ]
     },
     "execution_count": 6,
     "metadata": {},
     "output_type": "execute_result"
    }
   ],
   "source": [
    "res_para"
   ]
  },
  {
   "cell_type": "code",
   "execution_count": null,
   "metadata": {},
   "outputs": [],
   "source": [
    "def plot_test_results(post_fix):\n",
    "    post_fix = \"_test6\"      \n",
    "\n",
    "    para_str = \"train_test_results\" + post_fix + \"_info\"\n",
    "    res_str = \"train_test_results\" + post_fix\n",
    "    #parameters = [threshold_test, threshold_test_conf, req_votes,threshold_test_log_odd, threshold_train, p]        \n",
    "    res_para = load(para_str)\n",
    "    res = load(res_str)\n",
    "    \n",
    "    res_cols = 6\n",
    "        \n",
    "    f1 = np.zeros((len(res),res_cols))\n",
    "    f2 = np.zeros((len(res),res_cols))\n",
    "    f3 = np.zeros((len(res),res_cols))\n",
    "    \n",
    "    for r in range(res_cols):\n",
    "        f1[:,r] = np.array([row[r+1][1] for row in res])\n",
    "        f2[:,r] = f1[:,r].cumsum()\n",
    "        f1[:,r] = np.array([row[r+1][1] for row in res])"
   ]
  }
 ],
 "metadata": {
  "kernelspec": {
   "display_name": "Python [conda env:nf] *",
   "language": "python",
   "name": "conda-env-nf-py"
  },
  "language_info": {
   "codemirror_mode": {
    "name": "ipython",
    "version": 3
   },
   "file_extension": ".py",
   "mimetype": "text/x-python",
   "name": "python",
   "nbconvert_exporter": "python",
   "pygments_lexer": "ipython3",
   "version": "3.6.10"
  },
  "latex_envs": {
   "LaTeX_envs_menu_present": true,
   "autoclose": false,
   "autocomplete": true,
   "bibliofile": "biblio.bib",
   "cite_by": "apalike",
   "current_citInitial": 1,
   "eqLabelWithNumbers": true,
   "eqNumInitial": 1,
   "hotkeys": {
    "equation": "Ctrl-E",
    "itemize": "Ctrl-I"
   },
   "labels_anchors": false,
   "latex_user_defs": false,
   "report_style_numbering": false,
   "user_envs_cfg": false
  },
  "toc": {
   "base_numbering": 1,
   "nav_menu": {},
   "number_sections": true,
   "sideBar": true,
   "skip_h1_title": false,
   "title_cell": "Table of Contents",
   "title_sidebar": "Contents",
   "toc_cell": false,
   "toc_position": {},
   "toc_section_display": true,
   "toc_window_display": false
  },
  "varInspector": {
   "cols": {
    "lenName": 16,
    "lenType": 16,
    "lenVar": 40
   },
   "kernels_config": {
    "python": {
     "delete_cmd_postfix": "",
     "delete_cmd_prefix": "del ",
     "library": "var_list.py",
     "varRefreshCmd": "print(var_dic_list())"
    },
    "r": {
     "delete_cmd_postfix": ") ",
     "delete_cmd_prefix": "rm(",
     "library": "var_list.r",
     "varRefreshCmd": "cat(var_dic_list()) "
    }
   },
   "types_to_exclude": [
    "module",
    "function",
    "builtin_function_or_method",
    "instance",
    "_Feature"
   ],
   "window_display": false
  }
 },
 "nbformat": 4,
 "nbformat_minor": 4
}
