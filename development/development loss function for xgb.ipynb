{
 "cells": [
  {
   "cell_type": "markdown",
   "metadata": {
    "ExecuteTime": {
     "end_time": "2020-08-03T06:50:51.036211Z",
     "start_time": "2020-08-03T06:50:51.030188Z"
    }
   },
   "source": [
    "try to make a loss function of gain."
   ]
  },
  {
   "cell_type": "code",
   "execution_count": 382,
   "metadata": {
    "ExecuteTime": {
     "end_time": "2020-08-03T16:04:26.651664Z",
     "start_time": "2020-08-03T16:04:26.589340Z"
    }
   },
   "outputs": [],
   "source": [
    "import numpy as np\n",
    "import pandas as pd\n",
    "\n",
    "import xgboost as xgb\n",
    "\n",
    "from xgboost import XGBClassifier\n",
    "\n",
    "from datetime import datetime,timedelta\n",
    "\n",
    "import os\n",
    "os.chdir('../Python')\n",
    "from utilities import *\n",
    "os.chdir('../development')\n"
   ]
  },
  {
   "cell_type": "code",
   "execution_count": null,
   "metadata": {},
   "outputs": [],
   "source": [
    "def gain_check_1(y_true, y_pred, odds, odds_opp):\n",
    "    if y_true == 1 and y_pred == 1:\n",
    "        gain = odds-1\n",
    "    elif y_true == 0 and y_pred == 1:\n",
    "        gain = -1\n",
    "    else:\n",
    "        gain = 0\n",
    "    \n",
    "    return gain"
   ]
  },
  {
   "cell_type": "code",
   "execution_count": null,
   "metadata": {},
   "outputs": [],
   "source": [
    "def gain_check_2(y_true, y_pred, odds, odds_opp):\n",
    "    if y_true == 1 and y_pred == 1:\n",
    "        gain = odds-1\n",
    "    elif y_true == 0 and y_pred == 0:\n",
    "        gain = odd_opp - 1\n",
    "    else:\n",
    "        gain = 0\n",
    "    \n",
    "    return gain"
   ]
  },
  {
   "cell_type": "markdown",
   "metadata": {},
   "source": [
    "# Loading Data"
   ]
  },
  {
   "cell_type": "code",
   "execution_count": 13,
   "metadata": {
    "ExecuteTime": {
     "end_time": "2020-08-03T07:50:11.971632Z",
     "start_time": "2020-08-03T07:50:11.660166Z"
    }
   },
   "outputs": [],
   "source": [
    "data = load(\"../Generated Data/atp_data_f\")\n",
    "features=load(\"../Generated Data/atp_data_features\")"
   ]
  },
  {
   "cell_type": "code",
   "execution_count": 506,
   "metadata": {
    "ExecuteTime": {
     "end_time": "2020-08-03T19:27:08.583046Z",
     "start_time": "2020-08-03T19:27:08.318771Z"
    }
   },
   "outputs": [],
   "source": [
    "#start_date=datetime.datetime(2013,1,1) #first day of testing set\n",
    "start_date=datetime(2014,2,1) #first day of testing set\n",
    "test_beginning_match=data[data.Date>=start_date].index[0] #id of the first match of the testing set\n",
    "span_matches=len(data)-test_beginning_match+1\n",
    "#duration_val_matches=700 + 10\n",
    "duration_val_matches=500\n",
    "#duration_train_matches=10400\n",
    "duration_train_matches=12122\n",
    "duration_test_matches=2000"
   ]
  },
  {
   "cell_type": "code",
   "execution_count": 507,
   "metadata": {
    "ExecuteTime": {
     "end_time": "2020-08-03T19:27:14.543238Z",
     "start_time": "2020-08-03T19:27:14.075598Z"
    }
   },
   "outputs": [],
   "source": [
    " ########## Training/validation/testing set generation\n",
    "    \n",
    "# Number of matches in our dataset (ie. nb. of outcomes divided by 2)\n",
    "nm=int(len(features)/2)\n",
    "\n",
    "# Id of the first and last match of the testing,validation,training set\n",
    "beg_test=test_beginning_match\n",
    "end_test=min(test_beginning_match+duration_test_matches-1,nm-1)\n",
    "end_val=min(beg_test-1,nm-1)\n",
    "beg_val=beg_test-duration_val_matches\n",
    "end_train=beg_val-1\n",
    "beg_train=beg_val-duration_train_matches\n",
    "\n",
    "train_indices=range(2*beg_train,2*end_train+2)\n",
    "val_indices=range(2*beg_val,2*end_val+2)\n",
    "test_indices=range(2*beg_test,2*end_test+2)\n",
    "\n",
    "#if (len(test_indices)==0)|(len(train_indices)==0):\n",
    "#    return 0\n",
    "\n",
    "# Split in train/validation/test\n",
    "xval=features.iloc[val_indices,:].reset_index(drop=True)\n",
    "xtest=features.iloc[test_indices,:].reset_index(drop=True)\n",
    "xtrain=features.iloc[train_indices,:].reset_index(drop=True)\n",
    "ytrain=pd.Series([1,0]*int(len(train_indices)/2))\n",
    "yval=pd.Series([1,0]*int(len(val_indices)/2))\n",
    "\n",
    "ytest = pd.Series([1,0]*int(len(test_indices)/2))"
   ]
  },
  {
   "cell_type": "code",
   "execution_count": 354,
   "metadata": {
    "ExecuteTime": {
     "end_time": "2020-08-03T14:26:34.733471Z",
     "start_time": "2020-08-03T14:26:34.698045Z"
    }
   },
   "outputs": [
    {
     "data": {
      "text/plain": [
       "[range(7292, 31536), range(31536, 32556), range(32556, 36556), (31748, 25)]"
      ]
     },
     "execution_count": 354,
     "metadata": {},
     "output_type": "execute_result"
    }
   ],
   "source": [
    "[train_indices, val_indices, test_indices, data.shape]"
   ]
  },
  {
   "cell_type": "code",
   "execution_count": 508,
   "metadata": {
    "ExecuteTime": {
     "end_time": "2020-08-03T19:27:19.053703Z",
     "start_time": "2020-08-03T19:27:19.028608Z"
    }
   },
   "outputs": [],
   "source": [
    "## XGB parameters\n",
    "#learning_rate=[0.295] \n",
    "learning_rate=[0.3] \n",
    "max_depth=[19]\n",
    "#max_depth=[10]\n",
    "min_child_weight=[1]\n",
    "gamma=[0.8]\n",
    "csbt=[0.5]\n",
    "lambd=[0]\n",
    "alpha=[2]\n",
    "#alpha=[1]\n",
    "num_rounds=[300]\n",
    "early_stop=[10]\n",
    "params=np.array(np.meshgrid(learning_rate,max_depth,min_child_weight,gamma,csbt,lambd,alpha,num_rounds,early_stop)).T.reshape(-1,9).astype(np.float)\n",
    "#xgb_params=params[0]\n",
    "p=params[0]"
   ]
  },
  {
   "cell_type": "code",
   "execution_count": 435,
   "metadata": {
    "ExecuteTime": {
     "end_time": "2020-08-03T17:10:09.646857Z",
     "start_time": "2020-08-03T17:10:00.573422Z"
    }
   },
   "outputs": [
    {
     "name": "stdout",
     "output_type": "stream",
     "text": [
      "[0]\tvalidation_0-error:0.365\tvalidation_0-gain_total:40.26\n",
      "[1]\tvalidation_0-error:0.345\tvalidation_0-gain_total:28.22\n",
      "[2]\tvalidation_0-error:0.335\tvalidation_0-gain_total:31.72\n"
     ]
    },
    {
     "ename": "KeyboardInterrupt",
     "evalue": "",
     "output_type": "error",
     "traceback": [
      "\u001b[0;31m---------------------------------------------------------------------------\u001b[0m",
      "\u001b[0;31mKeyboardInterrupt\u001b[0m                         Traceback (most recent call last)",
      "\u001b[0;32m<ipython-input-435-29a52181a502>\u001b[0m in \u001b[0;36m<module>\u001b[0;34m\u001b[0m\n\u001b[1;32m     13\u001b[0m \u001b[0mxgb_clf\u001b[0m \u001b[0;34m=\u001b[0m \u001b[0mXGBClassifier\u001b[0m\u001b[0;34m(\u001b[0m\u001b[0;34m**\u001b[0m\u001b[0mparams\u001b[0m\u001b[0;34m)\u001b[0m\u001b[0;34m\u001b[0m\u001b[0;34m\u001b[0m\u001b[0m\n\u001b[1;32m     14\u001b[0m \u001b[0;31m#xgb_clf.fit(xtrain,ytrain, eval_metric='auc', eval_set = eval_set, verbose = 1)\u001b[0m\u001b[0;34m\u001b[0m\u001b[0;34m\u001b[0m\u001b[0;34m\u001b[0m\u001b[0m\n\u001b[0;32m---> 15\u001b[0;31m \u001b[0mxgb_clf\u001b[0m\u001b[0;34m.\u001b[0m\u001b[0mfit\u001b[0m\u001b[0;34m(\u001b[0m\u001b[0mxtrain\u001b[0m\u001b[0;34m,\u001b[0m\u001b[0mytrain\u001b[0m\u001b[0;34m,\u001b[0m \u001b[0meval_metric\u001b[0m\u001b[0;34m=\u001b[0m\u001b[0mgain_eval\u001b[0m\u001b[0;34m,\u001b[0m \u001b[0meval_set\u001b[0m \u001b[0;34m=\u001b[0m \u001b[0meval_set\u001b[0m\u001b[0;34m,\u001b[0m \u001b[0mverbose\u001b[0m \u001b[0;34m=\u001b[0m \u001b[0;36m1\u001b[0m\u001b[0;34m)\u001b[0m\u001b[0;34m\u001b[0m\u001b[0;34m\u001b[0m\u001b[0m\n\u001b[0m\u001b[1;32m     16\u001b[0m \u001b[0;31m#model=xgb.train(params, dtrain, int(p[7]),evals=eval_set,early_stopping_rounds=int(p[8]))\u001b[0m\u001b[0;34m\u001b[0m\u001b[0;34m\u001b[0m\u001b[0;34m\u001b[0m\u001b[0m\n",
      "\u001b[0;32m/opt/anaconda3/envs/nf/lib/python3.6/site-packages/xgboost/sklearn.py\u001b[0m in \u001b[0;36mfit\u001b[0;34m(self, X, y, sample_weight, eval_set, eval_metric, early_stopping_rounds, verbose, xgb_model, sample_weight_eval_set, callbacks)\u001b[0m\n\u001b[1;32m    730\u001b[0m                               \u001b[0mevals_result\u001b[0m\u001b[0;34m=\u001b[0m\u001b[0mevals_result\u001b[0m\u001b[0;34m,\u001b[0m \u001b[0mobj\u001b[0m\u001b[0;34m=\u001b[0m\u001b[0mobj\u001b[0m\u001b[0;34m,\u001b[0m \u001b[0mfeval\u001b[0m\u001b[0;34m=\u001b[0m\u001b[0mfeval\u001b[0m\u001b[0;34m,\u001b[0m\u001b[0;34m\u001b[0m\u001b[0;34m\u001b[0m\u001b[0m\n\u001b[1;32m    731\u001b[0m                               \u001b[0mverbose_eval\u001b[0m\u001b[0;34m=\u001b[0m\u001b[0mverbose\u001b[0m\u001b[0;34m,\u001b[0m \u001b[0mxgb_model\u001b[0m\u001b[0;34m=\u001b[0m\u001b[0mxgb_model\u001b[0m\u001b[0;34m,\u001b[0m\u001b[0;34m\u001b[0m\u001b[0;34m\u001b[0m\u001b[0m\n\u001b[0;32m--> 732\u001b[0;31m                               callbacks=callbacks)\n\u001b[0m\u001b[1;32m    733\u001b[0m \u001b[0;34m\u001b[0m\u001b[0m\n\u001b[1;32m    734\u001b[0m         \u001b[0mself\u001b[0m\u001b[0;34m.\u001b[0m\u001b[0mobjective\u001b[0m \u001b[0;34m=\u001b[0m \u001b[0mxgb_options\u001b[0m\u001b[0;34m[\u001b[0m\u001b[0;34m\"objective\"\u001b[0m\u001b[0;34m]\u001b[0m\u001b[0;34m\u001b[0m\u001b[0;34m\u001b[0m\u001b[0m\n",
      "\u001b[0;32m/opt/anaconda3/envs/nf/lib/python3.6/site-packages/xgboost/training.py\u001b[0m in \u001b[0;36mtrain\u001b[0;34m(params, dtrain, num_boost_round, evals, obj, feval, maximize, early_stopping_rounds, evals_result, verbose_eval, xgb_model, callbacks, learning_rates)\u001b[0m\n\u001b[1;32m    214\u001b[0m                            \u001b[0mevals\u001b[0m\u001b[0;34m=\u001b[0m\u001b[0mevals\u001b[0m\u001b[0;34m,\u001b[0m\u001b[0;34m\u001b[0m\u001b[0;34m\u001b[0m\u001b[0m\n\u001b[1;32m    215\u001b[0m                            \u001b[0mobj\u001b[0m\u001b[0;34m=\u001b[0m\u001b[0mobj\u001b[0m\u001b[0;34m,\u001b[0m \u001b[0mfeval\u001b[0m\u001b[0;34m=\u001b[0m\u001b[0mfeval\u001b[0m\u001b[0;34m,\u001b[0m\u001b[0;34m\u001b[0m\u001b[0;34m\u001b[0m\u001b[0m\n\u001b[0;32m--> 216\u001b[0;31m                            xgb_model=xgb_model, callbacks=callbacks)\n\u001b[0m\u001b[1;32m    217\u001b[0m \u001b[0;34m\u001b[0m\u001b[0m\n\u001b[1;32m    218\u001b[0m \u001b[0;34m\u001b[0m\u001b[0m\n",
      "\u001b[0;32m/opt/anaconda3/envs/nf/lib/python3.6/site-packages/xgboost/training.py\u001b[0m in \u001b[0;36m_train_internal\u001b[0;34m(params, dtrain, num_boost_round, evals, obj, feval, xgb_model, callbacks)\u001b[0m\n\u001b[1;32m     72\u001b[0m         \u001b[0;31m# Skip the first update if it is a recovery step.\u001b[0m\u001b[0;34m\u001b[0m\u001b[0;34m\u001b[0m\u001b[0;34m\u001b[0m\u001b[0m\n\u001b[1;32m     73\u001b[0m         \u001b[0;32mif\u001b[0m \u001b[0mversion\u001b[0m \u001b[0;34m%\u001b[0m \u001b[0;36m2\u001b[0m \u001b[0;34m==\u001b[0m \u001b[0;36m0\u001b[0m\u001b[0;34m:\u001b[0m\u001b[0;34m\u001b[0m\u001b[0;34m\u001b[0m\u001b[0m\n\u001b[0;32m---> 74\u001b[0;31m             \u001b[0mbst\u001b[0m\u001b[0;34m.\u001b[0m\u001b[0mupdate\u001b[0m\u001b[0;34m(\u001b[0m\u001b[0mdtrain\u001b[0m\u001b[0;34m,\u001b[0m \u001b[0mi\u001b[0m\u001b[0;34m,\u001b[0m \u001b[0mobj\u001b[0m\u001b[0;34m)\u001b[0m\u001b[0;34m\u001b[0m\u001b[0;34m\u001b[0m\u001b[0m\n\u001b[0m\u001b[1;32m     75\u001b[0m             \u001b[0mbst\u001b[0m\u001b[0;34m.\u001b[0m\u001b[0msave_rabit_checkpoint\u001b[0m\u001b[0;34m(\u001b[0m\u001b[0;34m)\u001b[0m\u001b[0;34m\u001b[0m\u001b[0;34m\u001b[0m\u001b[0m\n\u001b[1;32m     76\u001b[0m             \u001b[0mversion\u001b[0m \u001b[0;34m+=\u001b[0m \u001b[0;36m1\u001b[0m\u001b[0;34m\u001b[0m\u001b[0;34m\u001b[0m\u001b[0m\n",
      "\u001b[0;32m/opt/anaconda3/envs/nf/lib/python3.6/site-packages/xgboost/core.py\u001b[0m in \u001b[0;36mupdate\u001b[0;34m(self, dtrain, iteration, fobj)\u001b[0m\n\u001b[1;32m   1107\u001b[0m         \u001b[0;32mif\u001b[0m \u001b[0mfobj\u001b[0m \u001b[0;32mis\u001b[0m \u001b[0;32mNone\u001b[0m\u001b[0;34m:\u001b[0m\u001b[0;34m\u001b[0m\u001b[0;34m\u001b[0m\u001b[0m\n\u001b[1;32m   1108\u001b[0m             _check_call(_LIB.XGBoosterUpdateOneIter(self.handle, ctypes.c_int(iteration),\n\u001b[0;32m-> 1109\u001b[0;31m                                                     dtrain.handle))\n\u001b[0m\u001b[1;32m   1110\u001b[0m         \u001b[0;32melse\u001b[0m\u001b[0;34m:\u001b[0m\u001b[0;34m\u001b[0m\u001b[0;34m\u001b[0m\u001b[0m\n\u001b[1;32m   1111\u001b[0m             \u001b[0mpred\u001b[0m \u001b[0;34m=\u001b[0m \u001b[0mself\u001b[0m\u001b[0;34m.\u001b[0m\u001b[0mpredict\u001b[0m\u001b[0;34m(\u001b[0m\u001b[0mdtrain\u001b[0m\u001b[0;34m)\u001b[0m\u001b[0;34m\u001b[0m\u001b[0;34m\u001b[0m\u001b[0m\n",
      "\u001b[0;31mKeyboardInterrupt\u001b[0m: "
     ]
    }
   ],
   "source": [
    "dval=xgb.DMatrix(xval,label=yval)\n",
    "#eval_set = [(dtrain,\"train_loss\"),(dval, 'eval')]\n",
    "eval_set = [(dval, 'eval')]\n",
    "eval_set = [(xval, yval)]\n",
    "#params={'eval_metric':the_metric,\"objective\":\"binary:logistic\",'subsample':0.8,\n",
    "#        'min_child_weight':p[2],'alpha':p[6],'lambda':p[5],'max_depth':int(p[1]),\n",
    "#        'gamma':p[3],'eta':p[0],'colsample_bytree':p[4]}\n",
    "#model=xgb.train(params, dtrain, int(p[7]),evals=eval_set,early_stopping_rounds=int(p[8]))\n",
    "\n",
    "params={\"objective\":\"binary:logistic\",'subsample':0.8,\n",
    "        'min_child_weight':p[2],'alpha':p[6],'lambda':p[5],'max_depth':int(p[1]),\n",
    "        'gamma':p[3],'eta':p[0],'colsample_bytree':p[4]}\n",
    "xgb_clf = XGBClassifier(**params)\n",
    "#xgb_clf.fit(xtrain,ytrain, eval_metric='auc', eval_set = eval_set, verbose = 1)\n",
    "xgb_clf.fit(xtrain,ytrain, eval_metric=gain_eval, eval_set = eval_set, verbose = 1)\n",
    "#model=xgb.train(params, dtrain, int(p[7]),evals=eval_set,early_stopping_rounds=int(p[8]))"
   ]
  },
  {
   "cell_type": "code",
   "execution_count": 410,
   "metadata": {
    "ExecuteTime": {
     "end_time": "2020-08-03T16:32:24.969742Z",
     "start_time": "2020-08-03T16:32:24.850267Z"
    }
   },
   "outputs": [
    {
     "data": {
      "text/plain": [
       "array([0.5707512 , 0.44890544, 0.5752898 , 0.42095274, 0.5118884 ,\n",
       "       0.4380067 , 0.48245916, 0.43247882, 0.5638616 , 0.46997878,\n",
       "       0.5798083 , 0.45012012, 0.580782  , 0.415621  , 0.44740826,\n",
       "       0.5722425 , 0.5839107 , 0.41595224, 0.58008426, 0.4169148 ,\n",
       "       0.4409868 , 0.5598083 , 0.49942014, 0.421957  , 0.5839107 ,\n",
       "       0.41889197, 0.5714913 , 0.53386533, 0.5046673 , 0.46410692,\n",
       "       0.52961314, 0.486163  , 0.47995338, 0.5667995 , 0.46997878,\n",
       "       0.54581517, 0.5839107 , 0.41595224, 0.5839107 , 0.41595224,\n",
       "       0.4936084 , 0.544474  , 0.43247882, 0.55900115, 0.5667995 ,\n",
       "       0.43247882, 0.584347  , 0.46344304, 0.5839107 , 0.41595224,\n",
       "       0.530108  , 0.46895877, 0.5752898 , 0.4498242 , 0.43073565,\n",
       "       0.5714913 , 0.559302  , 0.46997878, 0.43282115, 0.4628509 ,\n",
       "       0.4691528 , 0.43847182, 0.48648778, 0.49734142, 0.5664685 ,\n",
       "       0.42673448, 0.54285204, 0.44981757, 0.5853748 , 0.43626568,\n",
       "       0.44669357, 0.55868566, 0.46405366, 0.49620783, 0.5074117 ,\n",
       "       0.46176785, 0.44662067, 0.5373323 , 0.491231  , 0.5190511 ,\n",
       "       0.49855733, 0.5030768 , 0.5749577 , 0.4239325 , 0.57777447,\n",
       "       0.4215929 , 0.55342424, 0.49522978, 0.5095772 , 0.54677004,\n",
       "       0.5480124 , 0.44974145, 0.5022893 , 0.46448764, 0.47916728,\n",
       "       0.49580476, 0.4536705 , 0.5024897 , 0.53416604, 0.46545228,\n",
       "       0.49684572, 0.48681256, 0.5146471 , 0.535599  , 0.5561195 ,\n",
       "       0.487691  , 0.51053655, 0.47069755, 0.5768613 , 0.4215929 ,\n",
       "       0.54114157, 0.4597354 , 0.4684107 , 0.47543222, 0.41880018,\n",
       "       0.57031536, 0.42069206, 0.5391305 , 0.42872894, 0.48765028,\n",
       "       0.56739634, 0.43247882, 0.5038036 , 0.42308193, 0.4278868 ,\n",
       "       0.58077073, 0.4998739 , 0.49553338, 0.5187134 , 0.49076   ,\n",
       "       0.5720533 , 0.43247882, 0.4239325 , 0.56829315, 0.5776678 ,\n",
       "       0.435382  , 0.5330366 , 0.48658836, 0.5535717 , 0.4232928 ,\n",
       "       0.5387799 , 0.50611115, 0.49445355, 0.42968994, 0.5107438 ,\n",
       "       0.46545228, 0.415621  , 0.58027464, 0.5727859 , 0.43247882,\n",
       "       0.5776678 , 0.42347446, 0.528642  , 0.56237704, 0.43247882,\n",
       "       0.5722876 , 0.5810282 , 0.45176697, 0.5418255 , 0.4800492 ,\n",
       "       0.5840651 , 0.41799638, 0.49364486, 0.42515665, 0.55869466,\n",
       "       0.49770868, 0.5718467 , 0.43247882, 0.46699518, 0.5383712 ,\n",
       "       0.4714468 , 0.5039852 , 0.42750764, 0.53080827, 0.5839107 ,\n",
       "       0.41595224, 0.4323598 , 0.5467075 , 0.45358115, 0.50029206,\n",
       "       0.5396628 , 0.56155443, 0.5864953 , 0.41595224, 0.42552722,\n",
       "       0.55961186, 0.5864953 , 0.41595224, 0.56964093, 0.42625308,\n",
       "       0.4239101 , 0.5776678 , 0.561311  , 0.4619706 , 0.5370138 ,\n",
       "       0.53328717, 0.543121  , 0.44262376, 0.520363  , 0.47598132,\n",
       "       0.43737257, 0.47643846, 0.5261877 , 0.4968424 , 0.5715956 ,\n",
       "       0.43247882, 0.48078877, 0.52211154, 0.5180871 , 0.5228169 ,\n",
       "       0.46997878, 0.5703875 , 0.49438202, 0.43899798, 0.49892014,\n",
       "       0.44242135, 0.51189476, 0.49942014, 0.5776678 , 0.43793604,\n",
       "       0.47676644, 0.42073986, 0.49952492, 0.4608818 , 0.53751576,\n",
       "       0.5035544 , 0.5754816 , 0.4192442 , 0.5581048 , 0.46696693,\n",
       "       0.5839107 , 0.41595224, 0.5789772 , 0.42527762, 0.5224029 ,\n",
       "       0.4467398 , 0.4869132 , 0.5325281 , 0.4581453 , 0.5695807 ,\n",
       "       0.5839107 , 0.41595224, 0.42587137, 0.48555255, 0.5200479 ,\n",
       "       0.45814338, 0.48010585, 0.5227103 , 0.5499756 , 0.50160503,\n",
       "       0.5343745 , 0.42246485, 0.42196178, 0.55874836, 0.42132354,\n",
       "       0.52679443, 0.5402981 , 0.51399374, 0.5853748 , 0.42132354,\n",
       "       0.5185488 , 0.41919068, 0.5043143 , 0.5533494 , 0.48631823,\n",
       "       0.51751274, 0.42682153, 0.51159286, 0.42740396, 0.49122638,\n",
       "       0.4334524 , 0.554484  , 0.4515311 , 0.45452243, 0.49164873,\n",
       "       0.49926662, 0.5372759 , 0.46889824, 0.5719068 , 0.42132354,\n",
       "       0.56510967, 0.4343453 , 0.49906856, 0.433417  , 0.5839107 ,\n",
       "       0.41595224, 0.57661045, 0.49173075, 0.5561195 , 0.48512024,\n",
       "       0.56627923, 0.55801237, 0.46639788, 0.50466704, 0.5558717 ,\n",
       "       0.45149162, 0.4832886 , 0.554304  , 0.55027586, 0.41964746,\n",
       "       0.41468275, 0.57095796, 0.56607306, 0.49331415, 0.50356525,\n",
       "       0.494628  , 0.51292074, 0.46719766, 0.5130829 , 0.49944416,\n",
       "       0.57306904, 0.45696855, 0.50373024, 0.5023287 , 0.5691583 ,\n",
       "       0.53343636, 0.5839107 , 0.41595224, 0.5017113 , 0.58136904,\n",
       "       0.5441296 , 0.44309968, 0.51516974, 0.51643497, 0.5644019 ,\n",
       "       0.5599407 , 0.47050947, 0.4367317 , 0.42824596, 0.4979218 ,\n",
       "       0.48009512, 0.52848524, 0.5311797 , 0.41964746, 0.5839107 ,\n",
       "       0.41595224, 0.5076652 , 0.5274113 , 0.5357959 , 0.51643497,\n",
       "       0.493209  , 0.5691583 , 0.47469002, 0.49332136, 0.5165958 ,\n",
       "       0.51081437, 0.4900549 , 0.5556459 , 0.5108269 , 0.47297153,\n",
       "       0.42519245, 0.5644031 , 0.4748277 , 0.47179747, 0.49530625,\n",
       "       0.5636913 , 0.49187735, 0.48343685, 0.45936733, 0.47691974,\n",
       "       0.47554737, 0.5168557 , 0.5839107 , 0.41595224, 0.5720367 ,\n",
       "       0.43247882, 0.4386249 , 0.5278365 , 0.44963402, 0.4565361 ,\n",
       "       0.5243625 , 0.45010915, 0.53786916, 0.49750602, 0.41477588,\n",
       "       0.5853748 , 0.52102304, 0.5219731 , 0.4362234 , 0.5648237 ,\n",
       "       0.44594657, 0.48627803, 0.5017834 , 0.5336705 , 0.5279455 ,\n",
       "       0.45423138, 0.5642768 , 0.43247882, 0.5203326 , 0.5326551 ,\n",
       "       0.5839107 , 0.41595224, 0.43147764, 0.5696785 , 0.51477087,\n",
       "       0.48244983, 0.5413079 , 0.52144057, 0.49660406, 0.43247882,\n",
       "       0.5001404 , 0.47720614, 0.47733778, 0.55238855, 0.5722876 ,\n",
       "       0.4409868 , 0.5712978 , 0.4251603 , 0.5761804 , 0.49044266,\n",
       "       0.5719016 , 0.45341146, 0.5781457 , 0.47801736, 0.5619642 ,\n",
       "       0.43716195, 0.5185488 , 0.43137836, 0.52841556, 0.4823737 ,\n",
       "       0.53759336, 0.421957  , 0.5573613 , 0.5181022 , 0.4558151 ,\n",
       "       0.5098943 , 0.49480316, 0.43884563, 0.49167323, 0.52344054,\n",
       "       0.550242  , 0.5082275 , 0.5626944 , 0.46997878, 0.42265415,\n",
       "       0.5447695 , 0.52567524, 0.47801736, 0.54059225, 0.5696785 ,\n",
       "       0.57613975, 0.47533438, 0.5388417 , 0.51268536, 0.5626944 ,\n",
       "       0.48642883, 0.5752898 , 0.45511606, 0.5311263 , 0.51241636,\n",
       "       0.5666717 , 0.48244983, 0.5626944 , 0.47775176, 0.53152496,\n",
       "       0.52440906, 0.53848106, 0.5017608 , 0.5311263 , 0.5401707 ,\n",
       "       0.5839107 , 0.41595224, 0.55020326, 0.5600797 , 0.5752898 ,\n",
       "       0.45511606, 0.46766135, 0.48363498, 0.5351569 , 0.508788  ,\n",
       "       0.5839107 , 0.41595224, 0.50719494, 0.572548  , 0.5641745 ,\n",
       "       0.5020708 , 0.57777447, 0.4519485 , 0.5107438 , 0.43765998,\n",
       "       0.4636543 , 0.5332562 , 0.5578381 , 0.49032423, 0.5831825 ,\n",
       "       0.42132354, 0.57560366, 0.5367821 , 0.57395726, 0.43137836,\n",
       "       0.4727015 , 0.46102124, 0.5419491 , 0.47995338, 0.5608594 ,\n",
       "       0.46997878, 0.49996996, 0.45087942, 0.4795096 , 0.55345875,\n",
       "       0.5350221 , 0.42408463, 0.5456932 , 0.5205858 , 0.52086216,\n",
       "       0.48613125, 0.5022521 , 0.57503796, 0.42636436, 0.5760792 ,\n",
       "       0.5839107 , 0.41595224, 0.53803015, 0.53900474, 0.5776678 ,\n",
       "       0.49216038, 0.51549083, 0.5017608 , 0.55354536, 0.45066965,\n",
       "       0.5839107 , 0.41595224, 0.56146336, 0.42132354, 0.5839107 ,\n",
       "       0.41595224, 0.4646099 , 0.45381024, 0.4315353 , 0.51260465,\n",
       "       0.579997  , 0.41504905, 0.46806905, 0.5017633 , 0.5689516 ,\n",
       "       0.51605874, 0.44671828, 0.5501909 , 0.5760792 , 0.4795096 ,\n",
       "       0.5641745 , 0.42304105, 0.5429362 , 0.49507007, 0.5725769 ,\n",
       "       0.42123574, 0.48097962, 0.5065051 , 0.42968994, 0.48345357,\n",
       "       0.579997  , 0.42759794, 0.43247882, 0.5715956 , 0.4251146 ,\n",
       "       0.5184428 , 0.5839107 , 0.41595224, 0.5222157 , 0.46918473,\n",
       "       0.4239325 , 0.57777447, 0.46906912, 0.507418  , 0.4690981 ,\n",
       "       0.55952543, 0.44955084, 0.5752898 , 0.58070654, 0.42132354,\n",
       "       0.50147575, 0.4983075 , 0.57104075, 0.42232883, 0.41462633,\n",
       "       0.5230619 , 0.57777447, 0.4519485 , 0.5619392 , 0.4586417 ,\n",
       "       0.55721366, 0.4410855 , 0.5720533 , 0.42839557, 0.45954978,\n",
       "       0.46545228, 0.51596606, 0.44421455, 0.49349293, 0.48523653,\n",
       "       0.5853748 , 0.43850273, 0.50054544, 0.40853018, 0.49222022,\n",
       "       0.50904876, 0.5185076 , 0.44666928, 0.43576697, 0.5718001 ,\n",
       "       0.50694394, 0.51847935, 0.41279268, 0.54191935, 0.5754816 ,\n",
       "       0.5017608 , 0.51747006, 0.4859272 , 0.50796765, 0.47810727,\n",
       "       0.5839107 , 0.41595224, 0.5839107 , 0.41595224, 0.5552478 ,\n",
       "       0.43772522, 0.55952543, 0.57137257, 0.5853748 , 0.42132354,\n",
       "       0.532851  , 0.4202126 , 0.5642768 , 0.44242135, 0.5787128 ,\n",
       "       0.47551772, 0.45576736, 0.49607837, 0.5839107 , 0.41595224,\n",
       "       0.53585905, 0.46545228, 0.492392  , 0.4707098 , 0.4942147 ,\n",
       "       0.46997878, 0.4239325 , 0.55027586, 0.5776678 , 0.4239101 ,\n",
       "       0.4298697 , 0.5730984 , 0.57306904, 0.4982476 , 0.53765386,\n",
       "       0.43765998, 0.5768613 , 0.4239325 , 0.5148241 , 0.4248768 ,\n",
       "       0.49861234, 0.53340185, 0.5352305 , 0.48372695, 0.5795887 ,\n",
       "       0.4293516 , 0.5494432 , 0.4983439 , 0.4620087 , 0.518864  ,\n",
       "       0.5434845 , 0.5309338 , 0.44516405, 0.5747846 , 0.5119949 ,\n",
       "       0.43765998, 0.42527762, 0.58376807, 0.5040118 , 0.5005304 ,\n",
       "       0.57777447, 0.4239325 , 0.55969435, 0.48097962, 0.5479571 ,\n",
       "       0.5034179 , 0.5517768 , 0.44255123, 0.4202126 , 0.5554047 ,\n",
       "       0.43765998, 0.5807731 , 0.57777447, 0.4239325 , 0.43366313,\n",
       "       0.55650437, 0.51503605, 0.47949162, 0.41944692, 0.55707306,\n",
       "       0.5840651 , 0.46149492, 0.42740396, 0.47059318, 0.5640247 ,\n",
       "       0.43765998, 0.5367546 , 0.42132354, 0.5418255 , 0.46918473,\n",
       "       0.43125537, 0.5115104 , 0.5289293 , 0.48242685, 0.46559414,\n",
       "       0.47048482, 0.4974359 , 0.5211673 , 0.5242148 , 0.5053361 ,\n",
       "       0.5853748 , 0.42132354, 0.5482083 , 0.4192071 , 0.4323598 ,\n",
       "       0.53705513, 0.5133936 , 0.47694415, 0.5357099 , 0.5055862 ,\n",
       "       0.4210218 , 0.5112985 , 0.5376883 , 0.53001034, 0.56466335,\n",
       "       0.42950624, 0.51381123, 0.51665884, 0.48005566, 0.5078009 ,\n",
       "       0.53247607, 0.41888183, 0.57777447, 0.4239325 , 0.4730952 ,\n",
       "       0.52742153, 0.4239325 , 0.57814795, 0.5752898 , 0.4215929 ,\n",
       "       0.5720533 , 0.44242135, 0.56466335, 0.42950624, 0.51013315,\n",
       "       0.52599394, 0.50386393, 0.45357072, 0.5738641 , 0.42255434,\n",
       "       0.47098127, 0.4306701 , 0.5320822 , 0.48820728, 0.44950002,\n",
       "       0.5478862 , 0.5269956 , 0.4281377 , 0.44041625, 0.53543556,\n",
       "       0.574753  , 0.46672735, 0.53895706, 0.42975536, 0.5756025 ,\n",
       "       0.48356795, 0.528217  , 0.4734421 , 0.5821543 , 0.46017563,\n",
       "       0.5361157 , 0.55398226, 0.4862556 , 0.5759042 , 0.4347447 ,\n",
       "       0.5817566 , 0.5775773 , 0.42483544, 0.5278307 , 0.45814338,\n",
       "       0.5839107 , 0.41595224, 0.5034179 , 0.47188655, 0.5161135 ,\n",
       "       0.4436615 , 0.53058034, 0.43247882, 0.5749631 , 0.510622  ,\n",
       "       0.50632334, 0.5376467 , 0.5839107 , 0.41595224, 0.5498727 ,\n",
       "       0.43419144, 0.5269956 , 0.48481894, 0.5839107 , 0.41595224,\n",
       "       0.5542695 , 0.4331366 , 0.5575103 , 0.4215929 , 0.44337332,\n",
       "       0.50506026, 0.5839107 , 0.41595224, 0.5017058 , 0.54001755,\n",
       "       0.41568124, 0.5311885 , 0.49820516, 0.58376807, 0.57116467,\n",
       "       0.4910609 , 0.5789772 , 0.49364302, 0.5821543 , 0.46017563,\n",
       "       0.54966414, 0.51456183, 0.5853748 , 0.42132354, 0.45385367,\n",
       "       0.5492615 , 0.5063177 , 0.4915411 , 0.5839107 , 0.41595224,\n",
       "       0.5515271 , 0.42773595, 0.5143162 , 0.42084572, 0.5839107 ,\n",
       "       0.41595224, 0.5622144 , 0.5011491 , 0.4817587 , 0.56406146,\n",
       "       0.48645043, 0.575818  , 0.5789772 , 0.47565815, 0.57864267,\n",
       "       0.43247882, 0.57777447, 0.4239325 , 0.56739634, 0.43285072,\n",
       "       0.45007288, 0.43264845, 0.5839107 , 0.41595224, 0.48265284,\n",
       "       0.43247882, 0.47684476, 0.44659156, 0.5420865 , 0.48381305,\n",
       "       0.42084572, 0.5853748 , 0.5829861 , 0.45965067, 0.4938436 ,\n",
       "       0.50611514, 0.5821543 , 0.46397558, 0.4239101 , 0.5776678 ,\n",
       "       0.43137836, 0.5527717 , 0.48042947, 0.52115625, 0.5011696 ,\n",
       "       0.5512463 , 0.542827  , 0.4693415 , 0.5839107 , 0.41595224,\n",
       "       0.50552887, 0.5721475 , 0.5028571 , 0.44717264, 0.5571976 ,\n",
       "       0.5787433 , 0.4653048 , 0.4992583 , 0.49307895, 0.42527762,\n",
       "       0.48479557, 0.42214695, 0.52440065, 0.5735345 , 0.5839107 ,\n",
       "       0.41595224, 0.5776678 , 0.43793604, 0.46988434, 0.5001074 ,\n",
       "       0.48616806, 0.57777447, 0.54305047, 0.4174299 , 0.5839107 ,\n",
       "       0.41595224, 0.53758067, 0.46997878, 0.5481555 , 0.42084572,\n",
       "       0.584854  , 0.4988484 , 0.5839107 , 0.41595224, 0.41595224,\n",
       "       0.5839107 , 0.5831825 , 0.42084572, 0.42132354, 0.57777447,\n",
       "       0.57777447, 0.4239325 , 0.5839107 , 0.41595224, 0.5695141 ,\n",
       "       0.4292197 , 0.5839107 , 0.41595224, 0.5839107 , 0.41595224,\n",
       "       0.46124092, 0.57197464, 0.5839107 , 0.41595224, 0.48065114,\n",
       "       0.49451515, 0.42968994, 0.5719016 , 0.4999426 , 0.5796713 ,\n",
       "       0.49807933, 0.4742054 , 0.5839107 , 0.41595224, 0.49513215,\n",
       "       0.4698138 , 0.49396718, 0.5314844 , 0.56296307, 0.5076126 ,\n",
       "       0.55452126, 0.46927366, 0.5839107 , 0.41595224, 0.5067155 ,\n",
       "       0.4636455 , 0.5160544 , 0.47516087, 0.5123151 , 0.51388997,\n",
       "       0.53238934, 0.48267046, 0.5839107 , 0.41595224, 0.5839107 ,\n",
       "       0.41595224, 0.527067  , 0.46617037, 0.54296744, 0.43275556,\n",
       "       0.5839107 , 0.41595224, 0.58430475, 0.41595224, 0.5733951 ,\n",
       "       0.43137836, 0.5642768 , 0.47946003, 0.57346076, 0.48439834,\n",
       "       0.5839107 , 0.41595224, 0.5839107 , 0.41595224, 0.5046673 ,\n",
       "       0.44133148, 0.52201027, 0.49619535, 0.41595224, 0.5839107 ,\n",
       "       0.58070654, 0.42084572, 0.5162964 , 0.44133148, 0.5601078 ,\n",
       "       0.507726  , 0.49806926, 0.46196693, 0.45511606, 0.5752898 ],\n",
       "      dtype=float32)"
      ]
     },
     "execution_count": 410,
     "metadata": {},
     "output_type": "execute_result"
    }
   ],
   "source": [
    "y_val_pred"
   ]
  },
  {
   "cell_type": "code",
   "execution_count": 429,
   "metadata": {
    "ExecuteTime": {
     "end_time": "2020-08-03T16:50:57.032086Z",
     "start_time": "2020-08-03T16:50:56.986404Z"
    }
   },
   "outputs": [],
   "source": [
    "def gain_eval(y_pred_pr,y_test):\n",
    "    thr = 0.5\n",
    "    y_pr =[1 if i >= thr else 0 for i in y_pred_pr]\n",
    "    \n",
    "    #odds_new = [(i-1) if i>=1 else i for i in val_odds]\n",
    "    \n",
    "    #odds = np.array(odds_new)\n",
    "    global val_odds\n",
    "    \n",
    "    global y_val_pred\n",
    "    \n",
    "    y_val_pred = y_pr\n",
    "    #gain = odds * y_pr\n",
    "    gain = val_odds * y_pr\n",
    "    \n",
    "    #gain_cum = gain.cumsum()\n",
    "    \n",
    "    gain_total = gain.sum()\n",
    "    #print(val_odds[1])\n",
    "    #result = pd.DataFrame([val_odds, y_pr, gain, gain_cum])\n",
    "    \n",
    "    #array_sum = np.sum(val_odds)\n",
    "    #print('ypr: ' + str(np.isnan(array_sum)))\n",
    "    \n",
    "    #array_sum = np.sum(val_odds)\n",
    "    #print('odds_new: ' + str(np.count_nonzero(~np.isnan(odds_new))))\n",
    "    \n",
    "    #return [gain, gain_cum]\n",
    "    return  'gain_total', -gain_total\n",
    "    #return  'gain_total', len(y_pr)"
   ]
  },
  {
   "cell_type": "code",
   "execution_count": 510,
   "metadata": {
    "ExecuteTime": {
     "end_time": "2020-08-03T19:28:02.365706Z",
     "start_time": "2020-08-03T19:28:02.346416Z"
    }
   },
   "outputs": [],
   "source": [
    "def evalerror(preds, dtrain):\n",
    "    #thr = 0.5\n",
    "    labels = dtrain.get_label()\n",
    "    global val_odds\n",
    "    global train_odds\n",
    "    #global y_val_pred\n",
    "    \n",
    "    if len(preds) > 2000:\n",
    "        gain = train_odds * preds       \n",
    "    else:\n",
    "        gain = val_odds * preds\n",
    "    return 'neg_gain_error:', -gain.sum()"
   ]
  },
  {
   "cell_type": "code",
   "execution_count": 490,
   "metadata": {
    "ExecuteTime": {
     "end_time": "2020-08-03T19:19:50.025435Z",
     "start_time": "2020-08-03T19:19:49.704614Z"
    }
   },
   "outputs": [],
   "source": [
    "## XGB parameters\n",
    "learning_rate=[0.295] \n",
    "#learning_rate=[0.3] \n",
    "max_depth=[19]\n",
    "#max_depth=[10]\n",
    "min_child_weight=[1]\n",
    "gamma=[0.8]\n",
    "csbt=[0.5]\n",
    "lambd=[0]\n",
    "alpha=[2]\n",
    "#alpha=[1]\n",
    "num_rounds=[300]\n",
    "early_stop=[10]\n",
    "params=np.array(np.meshgrid(learning_rate,max_depth,min_child_weight,gamma,csbt,lambd,alpha,num_rounds,early_stop)).T.reshape(-1,9).astype(np.float)\n",
    "#xgb_params=params[0]\n",
    "p=params[0]"
   ]
  },
  {
   "cell_type": "code",
   "execution_count": 513,
   "metadata": {
    "ExecuteTime": {
     "end_time": "2020-08-03T19:30:22.171806Z",
     "start_time": "2020-08-03T19:29:43.748143Z"
    }
   },
   "outputs": [
    {
     "name": "stdout",
     "output_type": "stream",
     "text": [
      "[0]\ttrain_loss-error:0.224715\teval-error:0.338\n",
      "Multiple eval metrics have been passed: 'eval-error' will be used for early stopping.\n",
      "\n",
      "Will train until eval-error hasn't improved in 10 rounds.\n",
      "[1]\ttrain_loss-error:0.18487\teval-error:0.324\n",
      "[2]\ttrain_loss-error:0.159256\teval-error:0.325\n",
      "[3]\ttrain_loss-error:0.14086\teval-error:0.317\n",
      "[4]\ttrain_loss-error:0.124691\teval-error:0.33\n",
      "[5]\ttrain_loss-error:0.108893\teval-error:0.338\n",
      "[6]\ttrain_loss-error:0.098911\teval-error:0.334\n",
      "[7]\ttrain_loss-error:0.091734\teval-error:0.325\n",
      "[8]\ttrain_loss-error:0.083361\teval-error:0.317\n",
      "[9]\ttrain_loss-error:0.07309\teval-error:0.33\n",
      "[10]\ttrain_loss-error:0.065583\teval-error:0.325\n",
      "[11]\ttrain_loss-error:0.058282\teval-error:0.322\n",
      "[12]\ttrain_loss-error:0.05226\teval-error:0.329\n",
      "[13]\ttrain_loss-error:0.046238\teval-error:0.324\n",
      "Stopping. Best iteration:\n",
      "[3]\ttrain_loss-error:0.14086\teval-error:0.317\n",
      "\n"
     ]
    }
   ],
   "source": [
    "dtrain=xgb.DMatrix(xtrain,label=ytrain)\n",
    "\n",
    "#the_metric = \"logloss\"\n",
    "#the_metric = \"error\"\n",
    "#the_metric = \"auc\"\n",
    "#the_metric = [\"error\",\"auc\"]\n",
    "the_metric = 'evalerror'\n",
    "\n",
    "dval=xgb.DMatrix(xval,label=yval)\n",
    "eval_set = [(dtrain,\"train_loss\"),(dval, 'eval')]\n",
    "#eval_set = [(dval, 'eval')]\n",
    "#params={'eval_metric':the_metric,\"objective\":\"binary:logistic\",'subsample':0.8,\n",
    "#        'min_child_weight':p[2],'alpha':p[6],'lambda':p[5],'max_depth':int(p[1]),\n",
    "#        'gamma':p[3],'eta':p[0],'colsample_bytree':p[4]}\n",
    "#model=xgb.train(params, dtrain, int(p[7]),evals=eval_set,early_stopping_rounds=int(p[8]))\n",
    "\n",
    "params={\"objective\":\"binary:logistic\",'subsample':0.8,\n",
    "        'min_child_weight':p[2],'alpha':p[6],'lambda':p[5],'max_depth':int(p[1]),\n",
    "        'gamma':p[3],'eta':p[0],'colsample_bytree':p[4],  'disable_default_eval_metric' : 0}\n",
    "#model=xgb.train(params, dtrain, int(p[7]),evals=eval_set,early_stopping_rounds=int(p[8]), eval_metric = evalerror)\n",
    "#model=xgb.train(params, dtrain, int(p[7]),evals=eval_set,early_stopping_rounds=int(p[8]), feval = evalerror)\n",
    "model=xgb.train(params, dtrain, int(p[7]),evals=eval_set,early_stopping_rounds=int(p[8]))"
   ]
  },
  {
   "cell_type": "code",
   "execution_count": 378,
   "metadata": {
    "ExecuteTime": {
     "end_time": "2020-08-03T15:56:45.666990Z",
     "start_time": "2020-08-03T15:56:45.605376Z"
    }
   },
   "outputs": [],
   "source": [
    "def testing():\n",
    "    val_odds_test = xtest.odds.copy(deep=True)\n",
    "    return val_odds_test"
   ]
  },
  {
   "cell_type": "code",
   "execution_count": 448,
   "metadata": {
    "ExecuteTime": {
     "end_time": "2020-08-03T17:31:23.571517Z",
     "start_time": "2020-08-03T17:31:23.451009Z"
    }
   },
   "outputs": [
    {
     "data": {
      "text/plain": [
       "array([1., 0., 1., ..., 0., 1., 0.], dtype=float32)"
      ]
     },
     "execution_count": 448,
     "metadata": {},
     "output_type": "execute_result"
    }
   ],
   "source": [
    "y_val_pred"
   ]
  },
  {
   "cell_type": "code",
   "execution_count": 509,
   "metadata": {
    "ExecuteTime": {
     "end_time": "2020-08-03T19:27:53.778732Z",
     "start_time": "2020-08-03T19:27:53.313764Z"
    }
   },
   "outputs": [],
   "source": [
    "val_odds_test = xtest.odds.copy(deep=True)\n",
    "val_odds_test.loc[range(1,val_odds_test.shape[0],2)] = -1\n",
    "val_odds_test.loc[range(0,val_odds_test.shape[0],2)] -= 1\n",
    "val_odds_test.fillna(0,inplace = True)\n",
    "test_odds = np.array(val_odds_test)\n",
    "\n",
    "val_odds_val = xval.odds.copy(deep=True)\n",
    "val_odds_val.loc[range(1,val_odds_val.shape[0],2)] = -1\n",
    "val_odds_val.loc[range(0,val_odds_val.shape[0],2)] -= 1\n",
    "val_odds_val.fillna(0,inplace = True)\n",
    "val_odds = np.array(val_odds_val)\n",
    "\n",
    "val_odds_train = xtrain.odds.copy(deep=True)\n",
    "val_odds_train.loc[range(1,val_odds_train.shape[0],2)] = -1\n",
    "val_odds_train.loc[range(0,val_odds_train.shape[0],2)] -= 1\n",
    "val_odds_train.fillna(0,inplace = True)\n",
    "train_odds = np.array(val_odds_train)\n",
    "\n",
    "#train_odds[0]"
   ]
  },
  {
   "cell_type": "code",
   "execution_count": 473,
   "metadata": {
    "ExecuteTime": {
     "end_time": "2020-08-03T18:31:09.096174Z",
     "start_time": "2020-08-03T18:31:08.979341Z"
    }
   },
   "outputs": [
    {
     "data": {
      "text/plain": [
       "3674"
      ]
     },
     "execution_count": 473,
     "metadata": {},
     "output_type": "execute_result"
    }
   ],
   "source": [
    "xtrain.odds.isna().sum()"
   ]
  },
  {
   "cell_type": "code",
   "execution_count": 498,
   "metadata": {
    "ExecuteTime": {
     "end_time": "2020-08-03T19:22:08.999954Z",
     "start_time": "2020-08-03T19:22:08.947106Z"
    }
   },
   "outputs": [],
   "source": [
    "def get_trained_model(diff_days):\n",
    "    #start_date=datetime.datetime(2013,1,1) #first day of testing set\n",
    "    start_date=datetime(2014,2,1) #first day of testing set\n",
    "    test_beginning_match=data[data.Date>=start_date].index[0] #id of the first match of the testing set\n",
    "    span_matches=len(data)-test_beginning_match+1\n",
    "    #duration_val_matches=700 + 10\n",
    "    duration_val_matches=500 + diff_days\n",
    "    #duration_train_matches=10400\n",
    "    duration_train_matches=12122\n",
    "    duration_test_matches=2000\n",
    "    \n",
    "     ########## Training/validation/testing set generation\n",
    "    \n",
    "    # Number of matches in our dataset (ie. nb. of outcomes divided by 2)\n",
    "    nm=int(len(features)/2)\n",
    "\n",
    "    # Id of the first and last match of the testing,validation,training set\n",
    "    beg_test=test_beginning_match\n",
    "    end_test=min(test_beginning_match+duration_test_matches-1,nm-1)\n",
    "    end_val=min(beg_test-1,nm-1)\n",
    "    beg_val=beg_test-duration_val_matches\n",
    "    end_train=beg_val-1\n",
    "    beg_train=beg_val-duration_train_matches\n",
    "\n",
    "    train_indices=range(2*beg_train,2*end_train+2)\n",
    "    val_indices=range(2*beg_val,2*end_val+2)\n",
    "    test_indices=range(2*beg_test,2*end_test+2)\n",
    "\n",
    "    #if (len(test_indices)==0)|(len(train_indices)==0):\n",
    "    #    return 0\n",
    "\n",
    "    # Split in train/validation/test\n",
    "    xval=features.iloc[val_indices,:].reset_index(drop=True)\n",
    "    xtest=features.iloc[test_indices,:].reset_index(drop=True)\n",
    "    xtrain=features.iloc[train_indices,:].reset_index(drop=True)\n",
    "    ytrain=pd.Series([1,0]*int(len(train_indices)/2))\n",
    "    yval=pd.Series([1,0]*int(len(val_indices)/2))\n",
    "\n",
    "    ytest = pd.Series([1,0]*int(len(test_indices)/2))\n",
    "    \n",
    "    global train_odds, val_odds\n",
    "    \n",
    "    val_odds_test = xtest.odds.copy(deep=True)\n",
    "    val_odds_test.loc[range(1,val_odds_test.shape[0],2)] = -1\n",
    "    val_odds_test.loc[range(0,val_odds_test.shape[0],2)] -= 1\n",
    "    val_odds_test.fillna(0,inplace = True)\n",
    "    test_odds = np.array(val_odds_test)\n",
    "\n",
    "    val_odds_val = xval.odds.copy(deep=True)\n",
    "    val_odds_val.loc[range(1,val_odds_val.shape[0],2)] = -1\n",
    "    val_odds_val.loc[range(0,val_odds_val.shape[0],2)] -= 1\n",
    "    val_odds_val.fillna(0,inplace = True)\n",
    "    val_odds = np.array(val_odds_val)\n",
    "\n",
    "    val_odds_train = xtrain.odds.copy(deep=True)\n",
    "    val_odds_train.loc[range(1,val_odds_train.shape[0],2)] = -1\n",
    "    val_odds_train.loc[range(0,val_odds_train.shape[0],2)] -= 1\n",
    "    val_odds_train.fillna(0,inplace = True)\n",
    "    train_odds = np.array(val_odds_train)\n",
    "    \n",
    "    \n",
    "    \n",
    "    #p=params[0]\n",
    "    metrics = 'auc'\n",
    "    model_x = make_xgb(xtrain,ytrain, xval,yval,p,metrics)\n",
    "    return model_x"
   ]
  },
  {
   "cell_type": "code",
   "execution_count": 503,
   "metadata": {
    "ExecuteTime": {
     "end_time": "2020-08-03T19:25:33.752824Z",
     "start_time": "2020-08-03T19:25:33.713170Z"
    }
   },
   "outputs": [],
   "source": [
    "def make_xgb(xtrain,ytrain, xval,yval,p,metrics):\n",
    "    dtrain=xgb.DMatrix(xtrain,label=ytrain)\n",
    "\n",
    "    #the_metric = \"logloss\"\n",
    "    #the_metric = \"error\"\n",
    "    #the_metric = \"auc\"\n",
    "    #the_metric = [\"error\",\"auc\"]\n",
    "    the_metric = 'evalerror'\n",
    "\n",
    "    dval=xgb.DMatrix(xval,label=yval)\n",
    "    eval_set = [(dtrain,\"train_loss\"),(dval, 'eval')]\n",
    "    #eval_set = [(dval, 'eval')]\n",
    "\n",
    "\n",
    "    params={\"objective\":\"binary:logistic\",'subsample':0.8,\n",
    "            'min_child_weight':p[2],'alpha':p[6],'lambda':p[5],'max_depth':int(p[1]),\n",
    "            'gamma':p[3],'eta':p[0],'colsample_bytree':p[4],  'disable_default_eval_metric' : 1}\n",
    "\n",
    "    x_model,_=xgb.train(params, dtrain, int(p[7]),evals=eval_set,early_stopping_rounds=int(p[8]), feval = evalerror)\n",
    "    #x_model=xgb.train(params, dtrain, int(p[7]),evals=eval_set,early_stopping_rounds=int(p[8]))\n",
    "    return x_model"
   ]
  },
  {
   "cell_type": "code",
   "execution_count": 504,
   "metadata": {
    "ExecuteTime": {
     "end_time": "2020-08-03T19:25:42.338668Z",
     "start_time": "2020-08-03T19:25:37.115978Z"
    }
   },
   "outputs": [
    {
     "ename": "ValueError",
     "evalue": "too many values to unpack (expected 2)",
     "output_type": "error",
     "traceback": [
      "\u001b[0;31m---------------------------------------------------------------------------\u001b[0m",
      "\u001b[0;31mValueError\u001b[0m                                Traceback (most recent call last)",
      "\u001b[0;32m<ipython-input-504-b89593351949>\u001b[0m in \u001b[0;36m<module>\u001b[0;34m\u001b[0m\n\u001b[0;32m----> 1\u001b[0;31m \u001b[0mmodel\u001b[0m \u001b[0;34m=\u001b[0m \u001b[0mget_trained_model\u001b[0m\u001b[0;34m(\u001b[0m\u001b[0;36m0\u001b[0m\u001b[0;34m)\u001b[0m\u001b[0;34m\u001b[0m\u001b[0;34m\u001b[0m\u001b[0m\n\u001b[0m",
      "\u001b[0;32m<ipython-input-498-e346e13e7c1d>\u001b[0m in \u001b[0;36mget_trained_model\u001b[0;34m(diff_days)\u001b[0m\n\u001b[1;32m     63\u001b[0m     \u001b[0;31m#p=params[0]\u001b[0m\u001b[0;34m\u001b[0m\u001b[0;34m\u001b[0m\u001b[0;34m\u001b[0m\u001b[0m\n\u001b[1;32m     64\u001b[0m     \u001b[0mmetrics\u001b[0m \u001b[0;34m=\u001b[0m \u001b[0;34m'auc'\u001b[0m\u001b[0;34m\u001b[0m\u001b[0;34m\u001b[0m\u001b[0m\n\u001b[0;32m---> 65\u001b[0;31m     \u001b[0mmodel_x\u001b[0m \u001b[0;34m=\u001b[0m \u001b[0mmake_xgb\u001b[0m\u001b[0;34m(\u001b[0m\u001b[0mxtrain\u001b[0m\u001b[0;34m,\u001b[0m\u001b[0mytrain\u001b[0m\u001b[0;34m,\u001b[0m \u001b[0mxval\u001b[0m\u001b[0;34m,\u001b[0m\u001b[0myval\u001b[0m\u001b[0;34m,\u001b[0m\u001b[0mp\u001b[0m\u001b[0;34m,\u001b[0m\u001b[0mmetrics\u001b[0m\u001b[0;34m)\u001b[0m\u001b[0;34m\u001b[0m\u001b[0;34m\u001b[0m\u001b[0m\n\u001b[0m\u001b[1;32m     66\u001b[0m     \u001b[0;32mreturn\u001b[0m \u001b[0mmodel_x\u001b[0m\u001b[0;34m\u001b[0m\u001b[0;34m\u001b[0m\u001b[0m\n",
      "\u001b[0;32m<ipython-input-503-8a96c4b513dd>\u001b[0m in \u001b[0;36mmake_xgb\u001b[0;34m(xtrain, ytrain, xval, yval, p, metrics)\u001b[0m\n\u001b[1;32m     17\u001b[0m             'gamma':p[3],'eta':p[0],'colsample_bytree':p[4],  'disable_default_eval_metric' : 1}\n\u001b[1;32m     18\u001b[0m \u001b[0;34m\u001b[0m\u001b[0m\n\u001b[0;32m---> 19\u001b[0;31m     \u001b[0mx_model\u001b[0m\u001b[0;34m,\u001b[0m\u001b[0m_\u001b[0m\u001b[0;34m=\u001b[0m\u001b[0mxgb\u001b[0m\u001b[0;34m.\u001b[0m\u001b[0mtrain\u001b[0m\u001b[0;34m(\u001b[0m\u001b[0mparams\u001b[0m\u001b[0;34m,\u001b[0m \u001b[0mdtrain\u001b[0m\u001b[0;34m,\u001b[0m \u001b[0mint\u001b[0m\u001b[0;34m(\u001b[0m\u001b[0mp\u001b[0m\u001b[0;34m[\u001b[0m\u001b[0;36m7\u001b[0m\u001b[0;34m]\u001b[0m\u001b[0;34m)\u001b[0m\u001b[0;34m,\u001b[0m\u001b[0mevals\u001b[0m\u001b[0;34m=\u001b[0m\u001b[0meval_set\u001b[0m\u001b[0;34m,\u001b[0m\u001b[0mearly_stopping_rounds\u001b[0m\u001b[0;34m=\u001b[0m\u001b[0mint\u001b[0m\u001b[0;34m(\u001b[0m\u001b[0mp\u001b[0m\u001b[0;34m[\u001b[0m\u001b[0;36m8\u001b[0m\u001b[0;34m]\u001b[0m\u001b[0;34m)\u001b[0m\u001b[0;34m,\u001b[0m \u001b[0mfeval\u001b[0m \u001b[0;34m=\u001b[0m \u001b[0mevalerror\u001b[0m\u001b[0;34m)\u001b[0m\u001b[0;34m\u001b[0m\u001b[0;34m\u001b[0m\u001b[0m\n\u001b[0m\u001b[1;32m     20\u001b[0m     \u001b[0;31m#x_model=xgb.train(params, dtrain, int(p[7]),evals=eval_set,early_stopping_rounds=int(p[8]))\u001b[0m\u001b[0;34m\u001b[0m\u001b[0;34m\u001b[0m\u001b[0;34m\u001b[0m\u001b[0m\n\u001b[1;32m     21\u001b[0m     \u001b[0;32mreturn\u001b[0m \u001b[0mx_model\u001b[0m\u001b[0;34m\u001b[0m\u001b[0;34m\u001b[0m\u001b[0m\n",
      "\u001b[0;32m/opt/anaconda3/envs/nf/lib/python3.6/site-packages/xgboost/training.py\u001b[0m in \u001b[0;36mtrain\u001b[0;34m(params, dtrain, num_boost_round, evals, obj, feval, maximize, early_stopping_rounds, evals_result, verbose_eval, xgb_model, callbacks, learning_rates)\u001b[0m\n\u001b[1;32m    214\u001b[0m                            \u001b[0mevals\u001b[0m\u001b[0;34m=\u001b[0m\u001b[0mevals\u001b[0m\u001b[0;34m,\u001b[0m\u001b[0;34m\u001b[0m\u001b[0;34m\u001b[0m\u001b[0m\n\u001b[1;32m    215\u001b[0m                            \u001b[0mobj\u001b[0m\u001b[0;34m=\u001b[0m\u001b[0mobj\u001b[0m\u001b[0;34m,\u001b[0m \u001b[0mfeval\u001b[0m\u001b[0;34m=\u001b[0m\u001b[0mfeval\u001b[0m\u001b[0;34m,\u001b[0m\u001b[0;34m\u001b[0m\u001b[0;34m\u001b[0m\u001b[0m\n\u001b[0;32m--> 216\u001b[0;31m                            xgb_model=xgb_model, callbacks=callbacks)\n\u001b[0m\u001b[1;32m    217\u001b[0m \u001b[0;34m\u001b[0m\u001b[0m\n\u001b[1;32m    218\u001b[0m \u001b[0;34m\u001b[0m\u001b[0m\n",
      "\u001b[0;32m/opt/anaconda3/envs/nf/lib/python3.6/site-packages/xgboost/training.py\u001b[0m in \u001b[0;36m_train_internal\u001b[0;34m(params, dtrain, num_boost_round, evals, obj, feval, xgb_model, callbacks)\u001b[0m\n\u001b[1;32m     88\u001b[0m                 \u001b[0mmsg\u001b[0m \u001b[0;34m=\u001b[0m \u001b[0mbst_eval_set\u001b[0m\u001b[0;34m.\u001b[0m\u001b[0mdecode\u001b[0m\u001b[0;34m(\u001b[0m\u001b[0;34m)\u001b[0m\u001b[0;34m\u001b[0m\u001b[0;34m\u001b[0m\u001b[0m\n\u001b[1;32m     89\u001b[0m             \u001b[0mres\u001b[0m \u001b[0;34m=\u001b[0m \u001b[0;34m[\u001b[0m\u001b[0mx\u001b[0m\u001b[0;34m.\u001b[0m\u001b[0msplit\u001b[0m\u001b[0;34m(\u001b[0m\u001b[0;34m':'\u001b[0m\u001b[0;34m)\u001b[0m \u001b[0;32mfor\u001b[0m \u001b[0mx\u001b[0m \u001b[0;32min\u001b[0m \u001b[0mmsg\u001b[0m\u001b[0;34m.\u001b[0m\u001b[0msplit\u001b[0m\u001b[0;34m(\u001b[0m\u001b[0;34m)\u001b[0m\u001b[0;34m]\u001b[0m\u001b[0;34m\u001b[0m\u001b[0;34m\u001b[0m\u001b[0m\n\u001b[0;32m---> 90\u001b[0;31m             \u001b[0mevaluation_result_list\u001b[0m \u001b[0;34m=\u001b[0m \u001b[0;34m[\u001b[0m\u001b[0;34m(\u001b[0m\u001b[0mk\u001b[0m\u001b[0;34m,\u001b[0m \u001b[0mfloat\u001b[0m\u001b[0;34m(\u001b[0m\u001b[0mv\u001b[0m\u001b[0;34m)\u001b[0m\u001b[0;34m)\u001b[0m \u001b[0;32mfor\u001b[0m \u001b[0mk\u001b[0m\u001b[0;34m,\u001b[0m \u001b[0mv\u001b[0m \u001b[0;32min\u001b[0m \u001b[0mres\u001b[0m\u001b[0;34m[\u001b[0m\u001b[0;36m1\u001b[0m\u001b[0;34m:\u001b[0m\u001b[0;34m]\u001b[0m\u001b[0;34m]\u001b[0m\u001b[0;34m\u001b[0m\u001b[0;34m\u001b[0m\u001b[0m\n\u001b[0m\u001b[1;32m     91\u001b[0m         \u001b[0;32mtry\u001b[0m\u001b[0;34m:\u001b[0m\u001b[0;34m\u001b[0m\u001b[0;34m\u001b[0m\u001b[0m\n\u001b[1;32m     92\u001b[0m             \u001b[0;32mfor\u001b[0m \u001b[0mcb\u001b[0m \u001b[0;32min\u001b[0m \u001b[0mcallbacks_after_iter\u001b[0m\u001b[0;34m:\u001b[0m\u001b[0;34m\u001b[0m\u001b[0;34m\u001b[0m\u001b[0m\n",
      "\u001b[0;32m/opt/anaconda3/envs/nf/lib/python3.6/site-packages/xgboost/training.py\u001b[0m in \u001b[0;36m<listcomp>\u001b[0;34m(.0)\u001b[0m\n\u001b[1;32m     88\u001b[0m                 \u001b[0mmsg\u001b[0m \u001b[0;34m=\u001b[0m \u001b[0mbst_eval_set\u001b[0m\u001b[0;34m.\u001b[0m\u001b[0mdecode\u001b[0m\u001b[0;34m(\u001b[0m\u001b[0;34m)\u001b[0m\u001b[0;34m\u001b[0m\u001b[0;34m\u001b[0m\u001b[0m\n\u001b[1;32m     89\u001b[0m             \u001b[0mres\u001b[0m \u001b[0;34m=\u001b[0m \u001b[0;34m[\u001b[0m\u001b[0mx\u001b[0m\u001b[0;34m.\u001b[0m\u001b[0msplit\u001b[0m\u001b[0;34m(\u001b[0m\u001b[0;34m':'\u001b[0m\u001b[0;34m)\u001b[0m \u001b[0;32mfor\u001b[0m \u001b[0mx\u001b[0m \u001b[0;32min\u001b[0m \u001b[0mmsg\u001b[0m\u001b[0;34m.\u001b[0m\u001b[0msplit\u001b[0m\u001b[0;34m(\u001b[0m\u001b[0;34m)\u001b[0m\u001b[0;34m]\u001b[0m\u001b[0;34m\u001b[0m\u001b[0;34m\u001b[0m\u001b[0m\n\u001b[0;32m---> 90\u001b[0;31m             \u001b[0mevaluation_result_list\u001b[0m \u001b[0;34m=\u001b[0m \u001b[0;34m[\u001b[0m\u001b[0;34m(\u001b[0m\u001b[0mk\u001b[0m\u001b[0;34m,\u001b[0m \u001b[0mfloat\u001b[0m\u001b[0;34m(\u001b[0m\u001b[0mv\u001b[0m\u001b[0;34m)\u001b[0m\u001b[0;34m)\u001b[0m \u001b[0;32mfor\u001b[0m \u001b[0mk\u001b[0m\u001b[0;34m,\u001b[0m \u001b[0mv\u001b[0m \u001b[0;32min\u001b[0m \u001b[0mres\u001b[0m\u001b[0;34m[\u001b[0m\u001b[0;36m1\u001b[0m\u001b[0;34m:\u001b[0m\u001b[0;34m]\u001b[0m\u001b[0;34m]\u001b[0m\u001b[0;34m\u001b[0m\u001b[0;34m\u001b[0m\u001b[0m\n\u001b[0m\u001b[1;32m     91\u001b[0m         \u001b[0;32mtry\u001b[0m\u001b[0;34m:\u001b[0m\u001b[0;34m\u001b[0m\u001b[0;34m\u001b[0m\u001b[0m\n\u001b[1;32m     92\u001b[0m             \u001b[0;32mfor\u001b[0m \u001b[0mcb\u001b[0m \u001b[0;32min\u001b[0m \u001b[0mcallbacks_after_iter\u001b[0m\u001b[0;34m:\u001b[0m\u001b[0;34m\u001b[0m\u001b[0;34m\u001b[0m\u001b[0m\n",
      "\u001b[0;31mValueError\u001b[0m: too many values to unpack (expected 2)"
     ]
    }
   ],
   "source": [
    "model = get_trained_model(0)"
   ]
  },
  {
   "cell_type": "code",
   "execution_count": null,
   "metadata": {},
   "outputs": [],
   "source": []
  },
  {
   "cell_type": "code",
   "execution_count": 466,
   "metadata": {
    "ExecuteTime": {
     "end_time": "2020-08-03T17:53:34.947629Z",
     "start_time": "2020-08-03T17:53:33.284785Z"
    }
   },
   "outputs": [
    {
     "data": {
      "text/plain": [
       "[<matplotlib.lines.Line2D at 0x7f918ee24518>]"
      ]
     },
     "execution_count": 466,
     "metadata": {},
     "output_type": "execute_result"
    },
    {
     "data": {
      "image/png": "[encoded data removed]",
      "text/plain": [
       "<Figure size 432x288 with 1 Axes>"
      ]
     },
     "metadata": {
      "needs_background": "light"
     },
     "output_type": "display_data"
    }
   ],
   "source": [
    "# The probability given by the model to each outcome of each match :\n",
    "pred_test= model.predict(xgb.DMatrix(xtest,label=None)) \n",
    "\n",
    "k,x = predict_gain(val_odds_test,ytest, pred_test, 0.5)\n",
    "plt.plot(k)"
   ]
  },
  {
   "cell_type": "code",
   "execution_count": 465,
   "metadata": {
    "ExecuteTime": {
     "end_time": "2020-08-03T17:52:57.395834Z",
     "start_time": "2020-08-03T17:52:55.219729Z"
    }
   },
   "outputs": [
    {
     "data": {
      "text/plain": [
       "[<matplotlib.lines.Line2D at 0x7f918f1c1080>]"
      ]
     },
     "execution_count": 465,
     "metadata": {},
     "output_type": "execute_result"
    },
    {
     "data": {
      "image/png": "[encoded data removed]",
      "text/plain": [
       "<Figure size 432x288 with 1 Axes>"
      ]
     },
     "metadata": {
      "needs_background": "light"
     },
     "output_type": "display_data"
    }
   ],
   "source": [
    "k1 = predict_gain_thr(val_odds_test,ytest, pred_test, 50)\n",
    "plt.plot(k1[:,0],k1[:,1])\n",
    "#k1"
   ]
  },
  {
   "cell_type": "code",
   "execution_count": 369,
   "metadata": {
    "ExecuteTime": {
     "end_time": "2020-08-03T14:50:00.437469Z",
     "start_time": "2020-08-03T14:49:59.180271Z"
    }
   },
   "outputs": [
    {
     "data": {
      "text/plain": [
       "[<matplotlib.lines.Line2D at 0x7f9245b9beb8>]"
      ]
     },
     "execution_count": 369,
     "metadata": {},
     "output_type": "execute_result"
    },
    {
     "data": {
      "image/png": "[encoded data removed]",
      "text/plain": [
       "<Figure size 432x288 with 1 Axes>"
      ]
     },
     "metadata": {
      "needs_background": "light"
     },
     "output_type": "display_data"
    }
   ],
   "source": [
    "# The probability given by the model to each outcome of each match :\n",
    "pred_test= model.predict(xgb.DMatrix(xtest,label=None)) \n",
    "\n",
    "k5,x5 = predict_gain(val_odds_test,ytest, pred_test, 0.7)\n",
    "plt.plot(k5)"
   ]
  },
  {
   "cell_type": "code",
   "execution_count": 368,
   "metadata": {
    "ExecuteTime": {
     "end_time": "2020-08-03T14:36:16.973149Z",
     "start_time": "2020-08-03T14:36:16.074374Z"
    }
   },
   "outputs": [
    {
     "data": {
      "text/plain": [
       "[<matplotlib.lines.Line2D at 0x7f9244796a58>]"
      ]
     },
     "execution_count": 368,
     "metadata": {},
     "output_type": "execute_result"
    },
    {
     "data": {
      "image/png": "[encoded data removed]",
      "text/plain": [
       "<Figure size 432x288 with 1 Axes>"
      ]
     },
     "metadata": {
      "needs_background": "light"
     },
     "output_type": "display_data"
    }
   ],
   "source": [
    "k1 = predict_gain_thr(val_odds_test,ytest, pred_test, 50)\n",
    "plt.plot(k1[:,0],k1[:,1])\n",
    "#k1"
   ]
  },
  {
   "cell_type": "code",
   "execution_count": null,
   "metadata": {},
   "outputs": [],
   "source": []
  },
  {
   "cell_type": "code",
   "execution_count": 277,
   "metadata": {
    "ExecuteTime": {
     "end_time": "2020-08-03T14:01:53.601525Z",
     "start_time": "2020-08-03T14:01:53.578371Z"
    }
   },
   "outputs": [],
   "source": [
    "def predict_gain_thr(val_odds_test,ytest, pred_test, reso):\n",
    "    results = np.zeros((reso,2))\n",
    "    results[:,0] = np.linspace(0.5,1,reso)\n",
    "    for idx, i in enumerate(results[:,0]):\n",
    "        _, x =predict_gain(val_odds_test,ytest, pred_test, i)\n",
    "        results[idx,1] = x\n",
    "    return results"
   ]
  },
  {
   "cell_type": "code",
   "execution_count": 37,
   "metadata": {
    "ExecuteTime": {
     "end_time": "2020-08-03T10:36:34.085281Z",
     "start_time": "2020-08-03T10:36:32.275046Z"
    }
   },
   "outputs": [],
   "source": [
    "from sklearn import metrics\n",
    "import matplotlib.pyplot as plt"
   ]
  },
  {
   "cell_type": "code",
   "execution_count": 315,
   "metadata": {
    "ExecuteTime": {
     "end_time": "2020-08-03T14:14:50.536835Z",
     "start_time": "2020-08-03T14:14:50.426987Z"
    }
   },
   "outputs": [],
   "source": [
    "fpr, tpr, thresholds = metrics.roc_curve(ytest, pred_test, pos_label=1)"
   ]
  },
  {
   "cell_type": "code",
   "execution_count": 316,
   "metadata": {
    "ExecuteTime": {
     "end_time": "2020-08-03T14:14:52.538863Z",
     "start_time": "2020-08-03T14:14:52.104444Z"
    }
   },
   "outputs": [
    {
     "data": {
      "text/plain": [
       "[<matplotlib.lines.Line2D at 0x7f92431a5cc0>]"
      ]
     },
     "execution_count": 316,
     "metadata": {},
     "output_type": "execute_result"
    },
    {
     "data": {
      "image/png": "[encoded data removed]",
      "text/plain": [
       "<Figure size 432x288 with 1 Axes>"
      ]
     },
     "metadata": {
      "needs_background": "light"
     },
     "output_type": "display_data"
    }
   ],
   "source": [
    "plt.plot(fpr, tpr, color='darkorange')\n"
   ]
  },
  {
   "cell_type": "code",
   "execution_count": 240,
   "metadata": {
    "ExecuteTime": {
     "end_time": "2020-08-03T13:38:32.434588Z",
     "start_time": "2020-08-03T13:38:32.346972Z"
    }
   },
   "outputs": [],
   "source": [
    "val_odds_test = xtest.odds.copy(deep=True)\n",
    "val_odds_test.loc[range(1,val_odds_test.shape[0],2)] = -1\n",
    "#for i in range(0,val_odds_test.shape[0],2):\n",
    "#    val_odds_test.loc[i] = xtest.odds.loc[i]-1\n",
    "val_odds_test.loc[range(0,val_odds_test.shape[0],2)] -= 1\n",
    "\n",
    "def predict_gain(val_odds,y_test, y_pred_pr, thr):\n",
    "    y_pr =[1 if i >= thr else 0 for i in y_pred_pr]\n",
    "    \n",
    "    #odds_new = [(i-1) if i>=1 else i for i in val_odds]\n",
    "    \n",
    "    #odds = np.array(odds_new)\n",
    "    \n",
    "    #gain = odds * y_pr\n",
    "    gain = val_odds * y_pr\n",
    "    \n",
    "    gain_cum = gain.cumsum()\n",
    "    \n",
    "    gain_total = gain.sum()\n",
    "    \n",
    "    #result = pd.DataFrame([val_odds, y_pr, gain, gain_cum])\n",
    "    \n",
    "    #array_sum = np.sum(y_pr)\n",
    "    #print('ypr: ' + str(np.isnan(array_sum)))\n",
    "    \n",
    "    #array_sum = np.sum(val_odds)\n",
    "    #print('odds_new: ' + str(np.count_nonzero(~np.isnan(odds_new))))\n",
    "    \n",
    "    #return [gain, gain_cum]\n",
    "    return  gain_cum, gain_total\n",
    "    #return gain_cum\n",
    "    #return gain_total\n",
    "    #return odds_new\n",
    "    #return y_pr\n",
    "    #return gain\n",
    "    #return odds\n",
    "    #return result"
   ]
  },
  {
   "cell_type": "code",
   "execution_count": 236,
   "metadata": {
    "ExecuteTime": {
     "end_time": "2020-08-03T13:37:30.699431Z",
     "start_time": "2020-08-03T13:37:30.618414Z"
    }
   },
   "outputs": [
    {
     "data": {
      "text/plain": [
       "(0       0.28\n",
       " 1       0.28\n",
       " 2       0.31\n",
       " 3       0.31\n",
       " 4       0.31\n",
       " 5       0.31\n",
       " 6       0.31\n",
       " 7       0.31\n",
       " 8       0.42\n",
       " 9       0.42\n",
       " 10      0.42\n",
       " 11      0.42\n",
       " 12      0.45\n",
       " 13      0.45\n",
       " 14      0.45\n",
       " 15      0.45\n",
       " 16      0.45\n",
       " 17      0.45\n",
       " 18      0.73\n",
       " 19      0.73\n",
       " 20      0.73\n",
       " 21      0.73\n",
       " 22      0.73\n",
       " 23      0.73\n",
       " 24      0.73\n",
       " 25      0.73\n",
       " 26      0.73\n",
       " 27      0.73\n",
       " 28      0.73\n",
       " 29      0.73\n",
       "         ... \n",
       " 3970   -7.18\n",
       " 3971   -7.18\n",
       " 3972   -7.18\n",
       " 3973   -7.18\n",
       " 3974   -6.78\n",
       " 3975   -6.78\n",
       " 3976   -6.56\n",
       " 3977   -6.56\n",
       " 3978   -6.24\n",
       " 3979   -6.24\n",
       " 3980   -6.24\n",
       " 3981   -6.24\n",
       " 3982   -6.17\n",
       " 3983   -6.17\n",
       " 3984   -6.12\n",
       " 3985   -6.12\n",
       " 3986   -6.12\n",
       " 3987   -6.12\n",
       " 3988   -6.12\n",
       " 3989   -7.12\n",
       " 3990   -6.89\n",
       " 3991   -6.89\n",
       " 3992   -6.86\n",
       " 3993   -6.86\n",
       " 3994   -6.86\n",
       " 3995   -6.86\n",
       " 3996   -6.72\n",
       " 3997   -6.72\n",
       " 3998   -6.72\n",
       " 3999   -6.72\n",
       " Name: odds, Length: 4000, dtype: float64,\n",
       " 0       0.28\n",
       " 1      -0.00\n",
       " 2       0.03\n",
       " 3      -0.00\n",
       " 4       0.00\n",
       " 5      -0.00\n",
       " 6       0.00\n",
       " 7      -0.00\n",
       " 8       0.11\n",
       " 9      -0.00\n",
       " 10      0.00\n",
       " 11     -0.00\n",
       " 12      0.03\n",
       " 13     -0.00\n",
       " 14      0.00\n",
       " 15     -0.00\n",
       " 16      0.00\n",
       " 17     -0.00\n",
       " 18      0.28\n",
       " 19     -0.00\n",
       " 20      0.00\n",
       " 21     -0.00\n",
       " 22      0.00\n",
       " 23     -0.00\n",
       " 24      0.00\n",
       " 25     -0.00\n",
       " 26      0.00\n",
       " 27     -0.00\n",
       " 28      0.00\n",
       " 29     -0.00\n",
       "         ... \n",
       " 3970    0.00\n",
       " 3971   -0.00\n",
       " 3972    0.00\n",
       " 3973   -0.00\n",
       " 3974    0.40\n",
       " 3975   -0.00\n",
       " 3976    0.22\n",
       " 3977   -0.00\n",
       " 3978    0.32\n",
       " 3979   -0.00\n",
       " 3980    0.00\n",
       " 3981   -0.00\n",
       " 3982    0.07\n",
       " 3983   -0.00\n",
       " 3984    0.05\n",
       " 3985   -0.00\n",
       " 3986    0.00\n",
       " 3987   -0.00\n",
       " 3988    0.00\n",
       " 3989   -1.00\n",
       " 3990    0.23\n",
       " 3991   -0.00\n",
       " 3992    0.03\n",
       " 3993   -0.00\n",
       " 3994    0.00\n",
       " 3995   -0.00\n",
       " 3996    0.14\n",
       " 3997   -0.00\n",
       " 3998    0.00\n",
       " 3999   -0.00\n",
       " Name: odds, Length: 4000, dtype: float64)"
      ]
     },
     "execution_count": 236,
     "metadata": {},
     "output_type": "execute_result"
    }
   ],
   "source": [
    "predict_gain(val_odds_test,ytest, pred_test, 0.8)\n"
   ]
  },
  {
   "cell_type": "code",
   "execution_count": 239,
   "metadata": {
    "ExecuteTime": {
     "end_time": "2020-08-03T13:38:17.783564Z",
     "start_time": "2020-08-03T13:38:17.753161Z"
    }
   },
   "outputs": [
    {
     "data": {
      "text/plain": [
       "0        0.28\n",
       "1        0.28\n",
       "2        0.31\n",
       "3        0.31\n",
       "4        0.75\n",
       "5        0.75\n",
       "6        1.38\n",
       "7        1.38\n",
       "8        1.49\n",
       "9        1.49\n",
       "10       1.49\n",
       "11       1.49\n",
       "12       1.52\n",
       "13       1.52\n",
       "14       1.52\n",
       "15       0.52\n",
       "16       0.67\n",
       "17       0.67\n",
       "18       0.95\n",
       "19       0.95\n",
       "20       0.95\n",
       "21       0.95\n",
       "22       0.95\n",
       "23       0.95\n",
       "24       0.95\n",
       "25       0.95\n",
       "26       0.95\n",
       "27       0.95\n",
       "28       0.95\n",
       "29      -0.05\n",
       "        ...  \n",
       "3970   -23.82\n",
       "3971   -23.82\n",
       "3972   -23.01\n",
       "3973   -23.01\n",
       "3974   -22.61\n",
       "3975   -22.61\n",
       "3976   -22.39\n",
       "3977   -22.39\n",
       "3978   -22.07\n",
       "3979   -22.07\n",
       "3980   -21.86\n",
       "3981   -21.86\n",
       "3982   -21.79\n",
       "3983   -21.79\n",
       "3984   -21.74\n",
       "3985   -21.74\n",
       "3986   -21.74\n",
       "3987   -21.74\n",
       "3988   -21.74\n",
       "3989   -22.74\n",
       "3990   -22.51\n",
       "3991   -22.51\n",
       "3992   -22.48\n",
       "3993   -22.48\n",
       "3994   -22.48\n",
       "3995   -22.48\n",
       "3996   -22.34\n",
       "3997   -22.34\n",
       "3998   -22.34\n",
       "3999   -22.34\n",
       "Name: odds, Length: 4000, dtype: float64"
      ]
     },
     "execution_count": 239,
     "metadata": {},
     "output_type": "execute_result"
    }
   ],
   "source": [
    "k,x = predict_gain(val_odds_test,ytest, pred_test, 0.7)\n",
    "#plt.plot(k)\n",
    "k"
   ]
  },
  {
   "cell_type": "code",
   "execution_count": null,
   "metadata": {
    "ExecuteTime": {
     "end_time": "2020-08-03T11:35:31.596256Z",
     "start_time": "2020-08-03T11:35:29.696663Z"
    }
   },
   "outputs": [],
   "source": []
  },
  {
   "cell_type": "code",
   "execution_count": null,
   "metadata": {
    "ExecuteTime": {
     "end_time": "2020-08-03T12:58:36.242155Z",
     "start_time": "2020-08-03T12:58:36.229453Z"
    }
   },
   "outputs": [],
   "source": []
  }
 ],
 "metadata": {
  "kernelspec": {
   "display_name": "Python [conda env:nf] *",
   "language": "python",
   "name": "conda-env-nf-py"
  },
  "language_info": {
   "codemirror_mode": {
    "name": "ipython",
    "version": 3
   },
   "file_extension": ".py",
   "mimetype": "text/x-python",
   "name": "python",
   "nbconvert_exporter": "python",
   "pygments_lexer": "ipython3",
   "version": "3.6.10"
  },
  "latex_envs": {
   "LaTeX_envs_menu_present": true,
   "autoclose": false,
   "autocomplete": true,
   "bibliofile": "biblio.bib",
   "cite_by": "apalike",
   "current_citInitial": 1,
   "eqLabelWithNumbers": true,
   "eqNumInitial": 1,
   "hotkeys": {
    "equation": "Ctrl-E",
    "itemize": "Ctrl-I"
   },
   "labels_anchors": false,
   "latex_user_defs": false,
   "report_style_numbering": false,
   "user_envs_cfg": false
  },
  "toc": {
   "base_numbering": 1,
   "nav_menu": {},
   "number_sections": true,
   "sideBar": true,
   "skip_h1_title": false,
   "title_cell": "Table of Contents",
   "title_sidebar": "Contents",
   "toc_cell": false,
   "toc_position": {},
   "toc_section_display": true,
   "toc_window_display": false
  },
  "varInspector": {
   "cols": {
    "lenName": 16,
    "lenType": 16,
    "lenVar": 40
   },
   "kernels_config": {
    "python": {
     "delete_cmd_postfix": "",
     "delete_cmd_prefix": "del ",
     "library": "var_list.py",
     "varRefreshCmd": "print(var_dic_list())"
    },
    "r": {
     "delete_cmd_postfix": ") ",
     "delete_cmd_prefix": "rm(",
     "library": "var_list.r",
     "varRefreshCmd": "cat(var_dic_list()) "
    }
   },
   "types_to_exclude": [
    "module",
    "function",
    "builtin_function_or_method",
    "instance",
    "_Feature"
   ],
   "window_display": false
  }
 },
 "nbformat": 4,
 "nbformat_minor": 4
}
