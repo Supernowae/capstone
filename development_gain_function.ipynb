{
 "cells": [
  {
   "cell_type": "markdown",
   "metadata": {},
   "source": [
    "development of a common function to calculate the ROI of straight forward strategiers.\n",
    "Here if we bet on the player with the **better elo** and a **better ATP-rank** depending on the minimum difference  of these values.\n"
   ]
  },
  {
   "cell_type": "code",
   "execution_count": 109,
   "metadata": {
    "ExecuteTime": {
     "end_time": "2020-07-31T22:11:53.401454Z",
     "start_time": "2020-07-31T22:11:53.375984Z"
    }
   },
   "outputs": [],
   "source": [
    "import os\n",
    "import numpy as np\n",
    "import matplotlib.pyplot as plt\n",
    "\n",
    "import seaborn as sns\n",
    "sns.set_style(\"darkgrid\")\n",
    "\n",
    "import pandas as pd\n",
    "from datetime import datetime,timedelta\n",
    "\n",
    "\n",
    "os.chdir('Python')\n",
    "from eda_functions import *\n",
    "from utilities import *\n",
    "os.chdir('../')\n",
    "\n",
    "from pandas.plotting import register_matplotlib_converters\n",
    "register_matplotlib_converters()"
   ]
  },
  {
   "cell_type": "code",
   "execution_count": 6,
   "metadata": {
    "ExecuteTime": {
     "end_time": "2020-07-31T16:51:06.614247Z",
     "start_time": "2020-07-31T16:51:06.585859Z"
    }
   },
   "outputs": [],
   "source": [
    "data = load(\"Generated Data/atp_data\")"
   ]
  },
  {
   "cell_type": "code",
   "execution_count": 63,
   "metadata": {
    "ExecuteTime": {
     "end_time": "2020-07-31T18:53:42.258043Z",
     "start_time": "2020-07-31T18:53:42.163455Z"
    }
   },
   "outputs": [
    {
     "name": "stderr",
     "output_type": "stream",
     "text": [
      "/opt/anaconda3/envs/nf/lib/python3.6/site-packages/ipykernel_launcher.py:3: SettingWithCopyWarning: \n",
      "A value is trying to be set on a copy of a slice from a DataFrame\n",
      "\n",
      "See the caveats in the documentation: http://pandas.pydata.org/pandas-docs/stable/indexing.html#indexing-view-versus-copy\n",
      "  This is separate from the ipykernel package so we can avoid doing imports until\n"
     ]
    }
   ],
   "source": [
    "beg_year = 2005\n",
    "dat = data[(data.Date.dt.year >= beg_year)]\n",
    "dat.dropna(inplace = True)"
   ]
  },
  {
   "cell_type": "code",
   "execution_count": 64,
   "metadata": {
    "ExecuteTime": {
     "end_time": "2020-07-31T18:53:51.832217Z",
     "start_time": "2020-07-31T18:53:51.643318Z"
    }
   },
   "outputs": [
    {
     "name": "stderr",
     "output_type": "stream",
     "text": [
      "/opt/anaconda3/envs/nf/lib/python3.6/site-packages/ipykernel_launcher.py:1: SettingWithCopyWarning: \n",
      "A value is trying to be set on a copy of a slice from a DataFrame.\n",
      "Try using .loc[row_indexer,col_indexer] = value instead\n",
      "\n",
      "See the caveats in the documentation: http://pandas.pydata.org/pandas-docs/stable/indexing.html#indexing-view-versus-copy\n",
      "  \"\"\"Entry point for launching an IPython kernel.\n",
      "/opt/anaconda3/envs/nf/lib/python3.6/site-packages/ipykernel_launcher.py:2: SettingWithCopyWarning: \n",
      "A value is trying to be set on a copy of a slice from a DataFrame.\n",
      "Try using .loc[row_indexer,col_indexer] = value instead\n",
      "\n",
      "See the caveats in the documentation: http://pandas.pydata.org/pandas-docs/stable/indexing.html#indexing-view-versus-copy\n",
      "  \n",
      "/opt/anaconda3/envs/nf/lib/python3.6/site-packages/ipykernel_launcher.py:3: SettingWithCopyWarning: \n",
      "A value is trying to be set on a copy of a slice from a DataFrame.\n",
      "Try using .loc[row_indexer,col_indexer] = value instead\n",
      "\n",
      "See the caveats in the documentation: http://pandas.pydata.org/pandas-docs/stable/indexing.html#indexing-view-versus-copy\n",
      "  This is separate from the ipykernel package so we can avoid doing imports until\n",
      "/opt/anaconda3/envs/nf/lib/python3.6/site-packages/ipykernel_launcher.py:4: SettingWithCopyWarning: \n",
      "A value is trying to be set on a copy of a slice from a DataFrame.\n",
      "Try using .loc[row_indexer,col_indexer] = value instead\n",
      "\n",
      "See the caveats in the documentation: http://pandas.pydata.org/pandas-docs/stable/indexing.html#indexing-view-versus-copy\n",
      "  after removing the cwd from sys.path.\n"
     ]
    }
   ],
   "source": [
    "dat['elo_diff'] = dat.elo_winner - dat.elo_loser\n",
    "dat['rank_diff'] = dat.LRank - dat.WRank\n",
    "dat['smaller_ps'] = dat[['PSL','PSW']].min(axis=1)\n",
    "dat['smaller_b365'] = dat[['B365W','B365L']].min(axis=1)"
   ]
  },
  {
   "cell_type": "markdown",
   "metadata": {},
   "source": [
    "# Final function"
   ]
  },
  {
   "cell_type": "code",
   "execution_count": 107,
   "metadata": {
    "ExecuteTime": {
     "end_time": "2020-07-31T21:45:28.662450Z",
     "start_time": "2020-07-31T21:45:28.648683Z"
    }
   },
   "outputs": [],
   "source": [
    "def gain_better(\n",
    "        data, \n",
    "        elo_diff = 0, \n",
    "        rank_diff = 0, \n",
    "        threshold = None, \n",
    "        tax = 0.0, \n",
    "        round_ = None, \n",
    "        limit = 200, \n",
    "        verbose=1, \n",
    "        data_back = 0,\n",
    "        rst_idx = 1):\n",
    "    '''\n",
    "    Gives back the avarage performace of betting. Staight betting on the \n",
    "        player with the better elo-score AND the better Rank.\n",
    "    \n",
    "    data: the given DataFrame.\n",
    "    \n",
    "    tax: tax rate to be considered directly on the wager.\n",
    "    \n",
    "    round_: index of list. selecting the round to be inspected. If None then \n",
    "        all rounds are considered.\n",
    "        ['1st Round', '2nd Round','3rd Round', '4th Round', 'Quarterfinals', \n",
    "        'Semifinals', 'The Final']\n",
    "        \n",
    "    limit: maximum odds to be considered\n",
    "    \n",
    "    thr: minimum odd as theshold for betting. If 'None' then threshold \n",
    "        calculated by tax if set.\n",
    "        \n",
    "    diff_elo: how much higher should the elo-score at least be.\n",
    "    diff_rank: how much higher should the rank at least be\n",
    "    verbose: if verbose is 1 summary is printed out\n",
    "    \n",
    "    \n",
    "    data_back: if 1 a dataframe with the affected matches will be returned \n",
    "        including the rolling gain.\n",
    "        \n",
    "    rst_idx: if 1 the index of the returned dataframe is reset. \n",
    "        Else the indices remain as in the initial given data \n",
    "        (only needed if data_back = 1)\n",
    "    '''\n",
    "    \n",
    "    # calculate the thershold according the tax if no threshold is given. \n",
    "    # Will be 1.0 id tax is 0.0\n",
    "    thr = 1/(1-tax) if threshold == None else threshold\n",
    "    \n",
    "    rounds = pd.Series(['1st Round', '2nd Round','3rd Round', '4th Round', \n",
    "                        'Quarterfinals', 'Semifinals', 'The Final'])\n",
    "    \n",
    "    round_x = None if round_ == None else list([round_]) \\\n",
    "        if type(round_) == int else round_\n",
    "    \n",
    "    rnd = list(rounds) if round_x == None else list(rounds[round_x])\n",
    "    \n",
    "    dat = data[(data.Round.isin(rnd))]\n",
    "\n",
    "    elo = elo_diff\n",
    "    rk = rank_diff\n",
    "    \n",
    "    # selecting won bets \n",
    "    won = dat[(dat.elo_diff > elo) & (dat.rank_diff > rk) & \\\n",
    "              (dat.B365W >= thr) & (dat.B365W <= limit)]\n",
    "    \n",
    "    # amount of failed bets            \n",
    "    lost = dat[(dat.elo_diff < -elo) & (dat.rank_diff < -rk) & \\\n",
    "               (dat.B365L >= thr) & (dat.B365L <= limit)]\n",
    "    \n",
    "    # How much got back\n",
    "    cashback = won.B365W.sum()\n",
    "    \n",
    "    # invested\n",
    "    invest = won.shape[0] + lost.shape[0]\n",
    "    \n",
    "    # ROI absolute\n",
    "    gain = cashback - invest\n",
    "    \n",
    "    # ROI percentage\n",
    "    ROI_perc = round((cashback/invest)*100,2)\n",
    "    \n",
    "    # ROI performance\n",
    "    ROI_perf = round((gain/invest)*100,2)\n",
    "    \n",
    "    #results = [invest, ROI_perf, ]\n",
    "    \n",
    "    if verbose:\n",
    "        print(f'Investment:         {invest}     (Number of matches)')\n",
    "        print(f'Amount of return:   {round(cashback,2)}')\n",
    "        print(f'Gain:               {round(gain,2)}')\n",
    "        print(f'Percentage of ROI:  {ROI_perc} %')\n",
    "        print(f'Performance of ROI: {ROI_perf} %')\n",
    "    \n",
    "    if data_back:\n",
    "        won['gain'] = won.B365W - 1\n",
    "        lost['gain'] = -1\n",
    "        result_df = pd.concat([won, lost])\n",
    "        result_df.sort_values(by=['Date'], inplace=True, ascending=True)\n",
    "        result_df['rolling_gain'] = result_df.gain.cumsum()\n",
    "        \n",
    "        if rst_idx:\n",
    "            #result_df.reset_index(drop=True)\n",
    "            result_df.reset_index(inplace=True)\n",
    "    \n",
    "        return result_df\n",
    "    \n",
    "    \n",
    "    #return k, k1, (k1 + k2), g\n",
    "    #return k"
   ]
  },
  {
   "cell_type": "markdown",
   "metadata": {},
   "source": [
    "## Some output"
   ]
  },
  {
   "cell_type": "code",
   "execution_count": 108,
   "metadata": {
    "ExecuteTime": {
     "end_time": "2020-07-31T21:45:32.084498Z",
     "start_time": "2020-07-31T21:45:32.064368Z"
    }
   },
   "outputs": [
    {
     "name": "stdout",
     "output_type": "stream",
     "text": [
      "Investment:         1963     (Number of matches)\n",
      "Amount of return:   1852.21\n",
      "Gain:               -110.79\n",
      "Percentage of ROI:  94.36 %\n",
      "Performance of ROI: -5.64 %\n"
     ]
    }
   ],
   "source": [
    "gain_better(dat, \n",
    "            elo_diff = 125, \n",
    "            rank_diff = 100, \n",
    "            threshold = None, \n",
    "            tax = 0.0, \n",
    "            round_ = 0, \n",
    "            limit = 2000, \n",
    "            verbose=1)"
   ]
  },
  {
   "cell_type": "code",
   "execution_count": 110,
   "metadata": {
    "ExecuteTime": {
     "end_time": "2020-07-31T22:14:57.493662Z",
     "start_time": "2020-07-31T22:14:57.087172Z"
    }
   },
   "outputs": [
    {
     "name": "stdout",
     "output_type": "stream",
     "text": [
      "Investment:         1963     (Number of matches)\n",
      "Amount of return:   1852.21\n",
      "Gain:               -110.79\n",
      "Percentage of ROI:  94.36 %\n",
      "Performance of ROI: -5.64 %\n"
     ]
    },
    {
     "name": "stderr",
     "output_type": "stream",
     "text": [
      "/opt/anaconda3/envs/nf/lib/python3.6/site-packages/ipykernel_launcher.py:98: SettingWithCopyWarning: \n",
      "A value is trying to be set on a copy of a slice from a DataFrame.\n",
      "Try using .loc[row_indexer,col_indexer] = value instead\n",
      "\n",
      "See the caveats in the documentation: http://pandas.pydata.org/pandas-docs/stable/indexing.html#indexing-view-versus-copy\n",
      "/opt/anaconda3/envs/nf/lib/python3.6/site-packages/ipykernel_launcher.py:99: SettingWithCopyWarning: \n",
      "A value is trying to be set on a copy of a slice from a DataFrame.\n",
      "Try using .loc[row_indexer,col_indexer] = value instead\n",
      "\n",
      "See the caveats in the documentation: http://pandas.pydata.org/pandas-docs/stable/indexing.html#indexing-view-versus-copy\n"
     ]
    }
   ],
   "source": [
    "dat_21 = gain_better(dat, \n",
    "            elo_diff = 125, \n",
    "            rank_diff = 100,\n",
    "            round_ = 0, \n",
    "            verbose=1,\n",
    "            data_back = 1)"
   ]
  },
  {
   "cell_type": "markdown",
   "metadata": {},
   "source": [
    "# Previous attempts and trash\n",
    "\n",
    "The following *gain_better_ini()* was the initial reference found that worked and I was sure that I get what I desired. \n",
    "\n",
    "But due to the many *.iloc[i]s* and appending lists the function was very slow, but due to its goal it's the function to control if the function above gives at least the right ROI.\n"
   ]
  },
  {
   "cell_type": "code",
   "execution_count": 95,
   "metadata": {
    "ExecuteTime": {
     "end_time": "2020-07-31T21:20:12.692959Z",
     "start_time": "2020-07-31T21:20:12.679684Z"
    }
   },
   "outputs": [],
   "source": [
    "#df_new = dat[dat.Round == '1st Round']\n",
    "def gain_better_ini(dat, elo_diff = 0, rank_diff = 0, threshold = None, tax = 0.0, round_ = None, limit = 200, verbose=1):\n",
    "\n",
    "    # calculate the thershold according the tax if no threshold is given. Will be 1.0 id tax is 0.0\n",
    "    thr = 1/(1-tax) if threshold == None else threshold\n",
    "    \n",
    "    rounds = pd.Series(['1st Round', '2nd Round','3rd Round', '4th Round', 'Quarterfinals', 'Semifinals', 'The Final'])\n",
    "    \n",
    "    round_x = None if round_ == None else list([round_]) if type(round_) == int else round_\n",
    "    rnd = list(rounds) if round_x == None else list(rounds[round_x])\n",
    "    \n",
    "    df_new = dat[(dat.Round.isin(rnd))]\n",
    "\n",
    "    #df_new = dat\n",
    "    iis_p =[]\n",
    "    iis_n =[]\n",
    "    gain = 0\n",
    "    gain_list =[0]\n",
    "    elo = elo_diff\n",
    "    rk = rank_diff\n",
    "\n",
    "    for i in range(df_new.shape[0]):\n",
    "        d = df_new.iloc[i].elo_diff\n",
    "        dr = df_new.iloc[i].rank_diff\n",
    "        oddW = df_new.iloc[i].B365W\n",
    "        oddL = df_new.iloc[i].B365L\n",
    "        if d > (elo) and dr > rk and oddW >= thr and oddW <= limit:\n",
    "            gain +=  (df_new.iloc[i].B365W-1)\n",
    "            gain_list.append(gain)\n",
    "            iis_p.append(i)\n",
    "        elif d < (-elo) and dr < (-rk) and oddL >= thr and oddL <= limit:\n",
    "            gain -= 1\n",
    "            gain_list.append(gain)\n",
    "            iis_n.append(i)\n",
    "        else:\n",
    "            pass\n",
    "    \n",
    "    if verbose:\n",
    "        print(f'Number of matches: {len(gain_list)}')\n",
    "        print(f'Amount of return:  {gain}')\n",
    "        print(f'Percentage of ROI: {((gain+len(gain_list))/len(gain_list))*100} %')\n",
    "        print(f'Percentage of ROI: {((gain)/len(gain_list))*100} %')\n",
    "    \n",
    "    return gainlist"
   ]
  },
  {
   "cell_type": "code",
   "execution_count": 96,
   "metadata": {
    "ExecuteTime": {
     "end_time": "2020-07-31T21:28:44.229137Z",
     "start_time": "2020-07-31T21:28:30.020222Z"
    }
   },
   "outputs": [
    {
     "name": "stdout",
     "output_type": "stream",
     "text": [
      "Number of matches: 1964\n",
      "Amount of return:  -110.79300000000015\n",
      "Percentage of ROI: 94.35880855397149 %\n",
      "Percentage of ROI: -5.641191446028521 %\n"
     ]
    }
   ],
   "source": [
    "gain_better_ini(dat, \n",
    "            elo_diff = 125, \n",
    "            rank_diff = 100, \n",
    "            threshold = None, \n",
    "            tax = 0.0, \n",
    "            round_ = 0, \n",
    "            limit = 2000, \n",
    "            verbose=1)"
   ]
  },
  {
   "cell_type": "code",
   "execution_count": 103,
   "metadata": {
    "ExecuteTime": {
     "end_time": "2020-07-31T21:36:15.475107Z",
     "start_time": "2020-07-31T21:36:15.454381Z"
    }
   },
   "outputs": [
    {
     "name": "stdout",
     "output_type": "stream",
     "text": [
      "Number of matches:  1963\n",
      "Amount of return:   1852.21\n",
      "Gain:               -110.79\n",
      "Percentage of ROI:  94.36 %\n",
      "Performance of ROI: -5.64 %\n"
     ]
    }
   ],
   "source": [
    "gain_better(dat, \n",
    "            elo_diff = 125, \n",
    "            rank_diff = 100, \n",
    "            threshold = None, \n",
    "            tax = 0.0, \n",
    "            round_ = 0, \n",
    "            limit = 2000, \n",
    "            verbose=1)"
   ]
  },
  {
   "cell_type": "code",
   "execution_count": 65,
   "metadata": {
    "ExecuteTime": {
     "end_time": "2020-07-31T18:53:59.592287Z",
     "start_time": "2020-07-31T18:53:59.571201Z"
    }
   },
   "outputs": [
    {
     "name": "stdout",
     "output_type": "stream",
     "text": [
      "Number of matches:  1963\n",
      "Amount of return:   1852.2069999999999\n",
      "Gain:               -110.79300000000012\n",
      "Percentage of ROI:  94.35593479368313 %\n",
      "Performance of ROI: -5.644065206316868 %\n"
     ]
    }
   ],
   "source": [
    "gain_perc_b365(dat, \n",
    "            elo_diff = 125, \n",
    "            rank_diff = 100, \n",
    "            threshold = None, \n",
    "            tax = 0.0, \n",
    "            round_ = 0, \n",
    "            limit = 2000, \n",
    "            verbose=1)"
   ]
  },
  {
   "cell_type": "code",
   "execution_count": 28,
   "metadata": {
    "ExecuteTime": {
     "end_time": "2020-07-31T17:10:42.739231Z",
     "start_time": "2020-07-31T17:10:42.730163Z"
    }
   },
   "outputs": [],
   "source": [
    "#df_new = dat[dat.Round == '1st Round']\n",
    "def gain_better(dat, elo_diff = 0, rank_diff = 0, threshold = None, tax = 0.0, round_ = None, limit = 200, verbose=1):\n",
    "\n",
    "    # calculate the thershold according the tax if no threshold is given. Will be 1.0 id tax is 0.0\n",
    "    thr = 1/(1-tax) if threshold == None else threshold\n",
    "    \n",
    "    rounds = pd.Series(['1st Round', '2nd Round','3rd Round', '4th Round', 'Quarterfinals', 'Semifinals', 'The Final'])\n",
    "    \n",
    "    round_x = None if round_ == None else list([round_]) if type(round_) == int else round_\n",
    "    rnd = list(rounds) if round_x == None else list(rounds[round_x])\n",
    "    \n",
    "    df_new = dat[(dat.Round.isin(rnd))]\n",
    "\n",
    "    #df_new = dat\n",
    "    iis_p =[]\n",
    "    iis_n =[]\n",
    "    gain = 0\n",
    "    gain_list =[0]\n",
    "    elo = elo_diff\n",
    "    rk = rank_diff\n",
    "\n",
    "    for i in range(df_new.shape[0]):\n",
    "        k = dat[['elo_diff','rank_diff','B365W','B365L']].iloc[i]\n",
    "\n",
    "        if k.elo_diff > (elo) and k.rank_diff > rk and k.B365W >= thr and k.B365W <= limit:\n",
    "            gain +=  k.B365W-1\n",
    "            #gain +=  (df_new.iloc[i].B365W-1)\n",
    "            gain_list.append(gain)\n",
    "            iis_p.append(i)\n",
    "        elif k.elo_diff < (-elo) and k.rank_diff < (-rk) and k.B365L >= thr and k.B365L <= limit:\n",
    "            gain -= 1\n",
    "            gain_list.append(gain)\n",
    "            iis_n.append(i)\n",
    "        else:\n",
    "            pass\n",
    "    \n",
    "    if verbose:\n",
    "        print(f'Number of matches: {len(gain_list)}')\n",
    "        print(f'Amount of return:  {gain}')\n",
    "        print(f'Percentage of ROI: {((gain+len(gain_list))/len(gain_list))*100} %')\n",
    "        print(f'Percentage of ROI: {((gain)/len(gain_list))*100} %')\n",
    "    "
   ]
  },
  {
   "cell_type": "code",
   "execution_count": 36,
   "metadata": {
    "ExecuteTime": {
     "end_time": "2020-07-31T17:23:31.422706Z",
     "start_time": "2020-07-31T17:23:31.412109Z"
    }
   },
   "outputs": [],
   "source": [
    "#df_new = dat[dat.Round == '1st Round']\n",
    "def gain_better(dat, elo_diff = 0, rank_diff = 0, threshold = None, tax = 0.0, round_ = None, limit = 200, verbose=1):\n",
    "\n",
    "    # calculate the thershold according the tax if no threshold is given. Will be 1.0 id tax is 0.0\n",
    "    thr = 1/(1-tax) if threshold == None else threshold\n",
    "    \n",
    "    rounds = pd.Series(['1st Round', '2nd Round','3rd Round', '4th Round', 'Quarterfinals', 'Semifinals', 'The Final'])\n",
    "    \n",
    "    round_x = None if round_ == None else list([round_]) if type(round_) == int else round_\n",
    "    rnd = list(rounds) if round_x == None else list(rounds[round_x])\n",
    "    \n",
    "    df_new = dat[(dat.Round.isin(rnd))]\n",
    "\n",
    "    #df_new = dat\n",
    "    iis_p =[]\n",
    "    iis_n =[]\n",
    "    gain = 0\n",
    "    gain_list =[0]\n",
    "    elo = elo_diff\n",
    "    rk = rank_diff\n",
    "\n",
    "    for i in range(df_new.shape[0]):\n",
    "        k = df_new[['elo_diff','rank_diff','B365W','B365L']].iloc[i]\n",
    "        d = k.elo_diff\n",
    "        dr = k.rank_diff\n",
    "        oddW = k.B365W\n",
    "        oddL = k.B365L\n",
    "        #d = df_new.iloc[i].elo_diff\n",
    "        #dr = df_new.iloc[i].rank_diff\n",
    "        #oddW = df_new.iloc[i].B365W\n",
    "        #oddL = df_new.iloc[i].B365L\n",
    "        if d > (elo) and dr > rk and oddW >= thr and oddW <= limit:\n",
    "            gain +=  (oddW-1)\n",
    "            gain_list.append(gain)\n",
    "            iis_p.append(i)\n",
    "        elif d < (-elo) and dr < (-rk) and oddL >= thr and oddL <= limit:\n",
    "            gain -= 1\n",
    "            gain_list.append(gain)\n",
    "            iis_n.append(i)\n",
    "        else:\n",
    "            pass\n",
    "    \n",
    "    if verbose:\n",
    "        print(f'Number of matches: {len(gain_list)}')\n",
    "        print(f'Amount of return:  {gain}')\n",
    "        print(f'Percentage of ROI: {((gain+len(gain_list))/len(gain_list))*100} %')\n",
    "        print(f'Percentage of ROI: {((gain)/len(gain_list))*100} %')\n",
    "    "
   ]
  },
  {
   "cell_type": "code",
   "execution_count": 40,
   "metadata": {
    "ExecuteTime": {
     "end_time": "2020-07-31T17:28:33.608057Z",
     "start_time": "2020-07-31T17:28:33.597697Z"
    }
   },
   "outputs": [],
   "source": [
    "#df_new = dat[dat.Round == '1st Round']\n",
    "def gain_better(dat, elo_diff = 0, rank_diff = 0, threshold = None, tax = 0.0, round_ = None, limit = 200, verbose=1):\n",
    "\n",
    "    # calculate the thershold according the tax if no threshold is given. Will be 1.0 id tax is 0.0\n",
    "    thr = 1/(1-tax) if threshold == None else threshold\n",
    "    \n",
    "    rounds = pd.Series(['1st Round', '2nd Round','3rd Round', '4th Round', 'Quarterfinals', 'Semifinals', 'The Final'])\n",
    "    \n",
    "    round_x = None if round_ == None else list([round_]) if type(round_) == int else round_\n",
    "    rnd = list(rounds) if round_x == None else list(rounds[round_x])\n",
    "    \n",
    "    df_new = dat[(dat.Round.isin(rnd))]\n",
    "\n",
    "    #df_new = dat\n",
    "    iis_p =[]\n",
    "    iis_n =[]\n",
    "    gain = 0\n",
    "    gain_list =[0]\n",
    "    elo = elo_diff\n",
    "    rk = rank_diff\n",
    "    counter = 0\n",
    "\n",
    "    for i in range(df_new.shape[0]):\n",
    "        d = df_new.iloc[i].elo_diff\n",
    "        dr = df_new.iloc[i].rank_diff\n",
    "        oddW = df_new.iloc[i].B365W\n",
    "        oddL = df_new.iloc[i].B365L\n",
    "        if d > (elo) and dr > rk and oddW >= thr and oddW <= limit:\n",
    "            gain +=  (df_new.iloc[i].B365W-1)\n",
    "            counter += 1\n",
    "            #gain_list.append(gain)\n",
    "            #iis_p.append(i)\n",
    "        elif d < (-elo) and dr < (-rk) and oddL >= thr and oddL <= limit:\n",
    "            gain -= 1\n",
    "            counter += 1\n",
    "            #gain_list.append(gain)\n",
    "            #iis_n.append(i)\n",
    "        else:\n",
    "            pass\n",
    "    \n",
    "    if verbose:\n",
    "        print(f'Number of matches: {counter}')\n",
    "        print(f'Amount of return:  {gain}')\n",
    "        print(f'Percentage of ROI: {((gain+counter)/counter)*100} %')\n",
    "        print(f'Percentage of ROI: {((gain)/counter)*100} %')\n",
    "    "
   ]
  },
  {
   "cell_type": "code",
   "execution_count": 72,
   "metadata": {
    "ExecuteTime": {
     "end_time": "2020-07-31T19:20:30.197885Z",
     "start_time": "2020-07-31T19:20:30.185172Z"
    }
   },
   "outputs": [],
   "source": [
    "def gain_perc_b365(data, elo_diff = 0, rank_diff = 0, threshold = None, tax = 0.0, round_ = None, limit = 200, verbose=1, data_back = 0):\n",
    "    '''\n",
    "    Gives back the avarage performace of betting. Staight betting on the player with the better elo-score AND the better Rank.\n",
    "    \n",
    "    dat: the given DataFrame.\n",
    "    tax: tax rate to be considered directly on the wager.\n",
    "    round_: index of list. selecting the round to be inspected. If None then all rounds are considered.\n",
    "    ['1st Round', '2nd Round','3rd Round', '4th Round', 'Quarterfinals', 'Semifinals', 'The Final']\n",
    "    limit: maximum odds to be considered\n",
    "    thr: minimum odd as theshold for betting. If 'None' then threshold calculated by tax if set.\n",
    "    diff_elo: how much higher should the elo-score at least be.\n",
    "    diff_rank: how much higher should the rank at least be\n",
    "    \n",
    "    return:\n",
    "    gain: average performance\n",
    "    (n_bets: number of bets)\n",
    "    (n_good_bets: number of sucessful bets)\n",
    "    '''\n",
    "    # calculate the thershold according the tax if no threshold is given. Will be 1.0 id tax is 0.0\n",
    "    thr = 1/(1-tax) if threshold == None else threshold\n",
    "    \n",
    "    rounds = pd.Series(['1st Round', '2nd Round','3rd Round', '4th Round', 'Quarterfinals', 'Semifinals', 'The Final'])\n",
    "    \n",
    "    round_x = None if round_ == None else list([round_]) if type(round_) == int else round_\n",
    "    rnd = list(rounds) if round_x == None else list(rounds[round_x])\n",
    "    \n",
    "    dat = data[(data.Round.isin(rnd))]\n",
    "\n",
    "    elo = elo_diff\n",
    "    rk = rank_diff\n",
    "    \n",
    "    # selecting won bets \n",
    "    won = dat[(dat.elo_diff > elo) & (dat.rank_diff > rk) & (dat.B365W >= thr) & (dat.B365W <= limit)]\n",
    "    \n",
    "    # amount of failed bets            \n",
    "    lost = dat[(dat.elo_diff < -elo) & (dat.rank_diff < -rk) & (dat.B365L >= thr) & (dat.B365L <= limit)]\n",
    "    \n",
    "    # How much got back\n",
    "    cashback = won.B365W.sum()\n",
    "    \n",
    "    # invested\n",
    "    invest = won.shape[0] + lost.shape[0]\n",
    "    \n",
    "    # ROI absolute\n",
    "    gain = cashback - invest\n",
    "    \n",
    "    # ROI percentage\n",
    "    ROI_perc = (cashback/invest)*100\n",
    "    \n",
    "    # ROI performance\n",
    "    ROI_perf = (gain/invest)*100\n",
    "    \n",
    "    if verbose:\n",
    "        print(f'Number of matches:  {invest}')\n",
    "        print(f'Amount of return:   {cashback}')\n",
    "        print(f'Gain:               {gain}')\n",
    "        print(f'Percentage of ROI:  {ROI_perc} %')\n",
    "        print(f'Performance of ROI: {ROI_perf} %')\n",
    "    \n",
    "    if data_back:\n",
    "        won['gain'] = won.B365W - 1\n",
    "        lost['gain'] = -1\n",
    "        result = pd.concat([won, lost])\n",
    "        result.sort_values(by=['Date'], inplace=True, ascending=True)\n",
    "        result['rolling_gain'] = result.gain.cumsum()\n",
    "    \n",
    "        return result\n",
    "    \n",
    "    \n",
    "    #return k, k1, (k1 + k2), g\n",
    "    #return k"
   ]
  },
  {
   "cell_type": "code",
   "execution_count": 52,
   "metadata": {
    "ExecuteTime": {
     "end_time": "2020-07-31T18:19:43.097253Z",
     "start_time": "2020-07-31T18:19:43.076769Z"
    }
   },
   "outputs": [
    {
     "name": "stdout",
     "output_type": "stream",
     "text": [
      "Number of matches:  2142\n",
      "Amount of return:   2027.7289999999998\n",
      "Gain:               -114.27100000000019\n",
      "Percentage of ROI:  94.66521942110177 %\n",
      "Performance of ROI: -5.3347805788982345 %\n"
     ]
    }
   ],
   "source": [
    "gain_perc_b365(dat, \n",
    "            elo_diff = 125, \n",
    "            rank_diff = 100, \n",
    "            threshold = None, \n",
    "            tax = 0.0, \n",
    "            round_ = 0, \n",
    "            limit = 2000, \n",
    "            verbose=1)"
   ]
  },
  {
   "cell_type": "code",
   "execution_count": 90,
   "metadata": {
    "ExecuteTime": {
     "end_time": "2020-07-31T20:07:24.292652Z",
     "start_time": "2020-07-31T20:07:24.162766Z"
    }
   },
   "outputs": [
    {
     "name": "stdout",
     "output_type": "stream",
     "text": [
      "Number of matches:  1963\n",
      "Amount of return:   1852.2069999999999\n",
      "Gain:               -110.79300000000012\n",
      "Percentage of ROI:  94.35593479368313 %\n",
      "Performance of ROI: -5.644065206316868 %\n"
     ]
    },
    {
     "name": "stderr",
     "output_type": "stream",
     "text": [
      "/opt/anaconda3/envs/nf/lib/python3.6/site-packages/ipykernel_launcher.py:75: SettingWithCopyWarning: \n",
      "A value is trying to be set on a copy of a slice from a DataFrame.\n",
      "Try using .loc[row_indexer,col_indexer] = value instead\n",
      "\n",
      "See the caveats in the documentation: http://pandas.pydata.org/pandas-docs/stable/indexing.html#indexing-view-versus-copy\n",
      "/opt/anaconda3/envs/nf/lib/python3.6/site-packages/ipykernel_launcher.py:76: SettingWithCopyWarning: \n",
      "A value is trying to be set on a copy of a slice from a DataFrame.\n",
      "Try using .loc[row_indexer,col_indexer] = value instead\n",
      "\n",
      "See the caveats in the documentation: http://pandas.pydata.org/pandas-docs/stable/indexing.html#indexing-view-versus-copy\n"
     ]
    }
   ],
   "source": [
    "dat_27 = gain_better(dat, \n",
    "            elo_diff = 125, \n",
    "            rank_diff = 100, \n",
    "            threshold = None, \n",
    "            tax = 0.0, \n",
    "            round_ = 0, \n",
    "            limit = 2000, \n",
    "            verbose=1,\n",
    "            data_back = 1)"
   ]
  },
  {
   "cell_type": "code",
   "execution_count": 91,
   "metadata": {
    "ExecuteTime": {
     "end_time": "2020-07-31T20:07:28.108883Z",
     "start_time": "2020-07-31T20:07:28.082311Z"
    }
   },
   "outputs": [
    {
     "data": {
      "text/html": [
       "<div>\n",
       "<style scoped>\n",
       "    .dataframe tbody tr th:only-of-type {\n",
       "        vertical-align: middle;\n",
       "    }\n",
       "\n",
       "    .dataframe tbody tr th {\n",
       "        vertical-align: top;\n",
       "    }\n",
       "\n",
       "    .dataframe thead th {\n",
       "        text-align: right;\n",
       "    }\n",
       "</style>\n",
       "<table border=\"1\" class=\"dataframe\">\n",
       "  <thead>\n",
       "    <tr style=\"text-align: right;\">\n",
       "      <th></th>\n",
       "      <th>index</th>\n",
       "      <th>ATP</th>\n",
       "      <th>Location</th>\n",
       "      <th>Tournament</th>\n",
       "      <th>Date</th>\n",
       "      <th>Series</th>\n",
       "      <th>Court</th>\n",
       "      <th>Surface</th>\n",
       "      <th>Round</th>\n",
       "      <th>Best of</th>\n",
       "      <th>...</th>\n",
       "      <th>B365L</th>\n",
       "      <th>elo_winner</th>\n",
       "      <th>elo_loser</th>\n",
       "      <th>proba_elo</th>\n",
       "      <th>elo_diff</th>\n",
       "      <th>rank_diff</th>\n",
       "      <th>smaller_ps</th>\n",
       "      <th>smaller_b365</th>\n",
       "      <th>gain</th>\n",
       "      <th>rolling_gain</th>\n",
       "    </tr>\n",
       "  </thead>\n",
       "  <tbody>\n",
       "    <tr>\n",
       "      <th>0</th>\n",
       "      <td>14539</td>\n",
       "      <td>1</td>\n",
       "      <td>Adelaide</td>\n",
       "      <td>Next Generation Hardcourts</td>\n",
       "      <td>2005-01-03</td>\n",
       "      <td>International</td>\n",
       "      <td>Outdoor</td>\n",
       "      <td>Hard</td>\n",
       "      <td>1st Round</td>\n",
       "      <td>3</td>\n",
       "      <td>...</td>\n",
       "      <td>3.250</td>\n",
       "      <td>1671.455867</td>\n",
       "      <td>1476.355300</td>\n",
       "      <td>0.754561</td>\n",
       "      <td>195.100567</td>\n",
       "      <td>271</td>\n",
       "      <td>1.305</td>\n",
       "      <td>1.286</td>\n",
       "      <td>0.286</td>\n",
       "      <td>0.286</td>\n",
       "    </tr>\n",
       "    <tr>\n",
       "      <th>1</th>\n",
       "      <td>14550</td>\n",
       "      <td>3</td>\n",
       "      <td>Doha</td>\n",
       "      <td>Qatar Exxon Mobil Open</td>\n",
       "      <td>2005-01-04</td>\n",
       "      <td>International</td>\n",
       "      <td>Outdoor</td>\n",
       "      <td>Hard</td>\n",
       "      <td>1st Round</td>\n",
       "      <td>3</td>\n",
       "      <td>...</td>\n",
       "      <td>1.167</td>\n",
       "      <td>1476.804624</td>\n",
       "      <td>1663.865788</td>\n",
       "      <td>0.254110</td>\n",
       "      <td>-187.061164</td>\n",
       "      <td>-124</td>\n",
       "      <td>1.222</td>\n",
       "      <td>1.167</td>\n",
       "      <td>-1.000</td>\n",
       "      <td>-0.714</td>\n",
       "    </tr>\n",
       "    <tr>\n",
       "      <th>2</th>\n",
       "      <td>14564</td>\n",
       "      <td>1</td>\n",
       "      <td>Adelaide</td>\n",
       "      <td>Next Generation Hardcourts</td>\n",
       "      <td>2005-01-04</td>\n",
       "      <td>International</td>\n",
       "      <td>Outdoor</td>\n",
       "      <td>Hard</td>\n",
       "      <td>1st Round</td>\n",
       "      <td>3</td>\n",
       "      <td>...</td>\n",
       "      <td>5.000</td>\n",
       "      <td>1956.470696</td>\n",
       "      <td>1552.944195</td>\n",
       "      <td>0.910755</td>\n",
       "      <td>403.526501</td>\n",
       "      <td>103</td>\n",
       "      <td>1.111</td>\n",
       "      <td>1.143</td>\n",
       "      <td>0.143</td>\n",
       "      <td>-0.571</td>\n",
       "    </tr>\n",
       "    <tr>\n",
       "      <th>3</th>\n",
       "      <td>14546</td>\n",
       "      <td>3</td>\n",
       "      <td>Doha</td>\n",
       "      <td>Qatar Exxon Mobil Open</td>\n",
       "      <td>2005-01-04</td>\n",
       "      <td>International</td>\n",
       "      <td>Outdoor</td>\n",
       "      <td>Hard</td>\n",
       "      <td>1st Round</td>\n",
       "      <td>3</td>\n",
       "      <td>...</td>\n",
       "      <td>1.533</td>\n",
       "      <td>1534.047184</td>\n",
       "      <td>1698.406710</td>\n",
       "      <td>0.279664</td>\n",
       "      <td>-164.359526</td>\n",
       "      <td>-229</td>\n",
       "      <td>1.877</td>\n",
       "      <td>1.533</td>\n",
       "      <td>-1.000</td>\n",
       "      <td>-1.571</td>\n",
       "    </tr>\n",
       "    <tr>\n",
       "      <th>4</th>\n",
       "      <td>14543</td>\n",
       "      <td>2</td>\n",
       "      <td>Chennai</td>\n",
       "      <td>TATA Open</td>\n",
       "      <td>2005-01-04</td>\n",
       "      <td>International</td>\n",
       "      <td>Outdoor</td>\n",
       "      <td>Hard</td>\n",
       "      <td>1st Round</td>\n",
       "      <td>3</td>\n",
       "      <td>...</td>\n",
       "      <td>6.500</td>\n",
       "      <td>1810.218031</td>\n",
       "      <td>1404.477376</td>\n",
       "      <td>0.911785</td>\n",
       "      <td>405.740655</td>\n",
       "      <td>252</td>\n",
       "      <td>1.092</td>\n",
       "      <td>1.100</td>\n",
       "      <td>0.100</td>\n",
       "      <td>-1.471</td>\n",
       "    </tr>\n",
       "  </tbody>\n",
       "</table>\n",
       "<p>5 rows × 30 columns</p>\n",
       "</div>"
      ],
      "text/plain": [
       "   index  ATP  Location                  Tournament       Date         Series  \\\n",
       "0  14539    1  Adelaide  Next Generation Hardcourts 2005-01-03  International   \n",
       "1  14550    3      Doha      Qatar Exxon Mobil Open 2005-01-04  International   \n",
       "2  14564    1  Adelaide  Next Generation Hardcourts 2005-01-04  International   \n",
       "3  14546    3      Doha      Qatar Exxon Mobil Open 2005-01-04  International   \n",
       "4  14543    2   Chennai                   TATA Open 2005-01-04  International   \n",
       "\n",
       "     Court Surface      Round  Best of  ...  B365L   elo_winner    elo_loser  \\\n",
       "0  Outdoor    Hard  1st Round        3  ...  3.250  1671.455867  1476.355300   \n",
       "1  Outdoor    Hard  1st Round        3  ...  1.167  1476.804624  1663.865788   \n",
       "2  Outdoor    Hard  1st Round        3  ...  5.000  1956.470696  1552.944195   \n",
       "3  Outdoor    Hard  1st Round        3  ...  1.533  1534.047184  1698.406710   \n",
       "4  Outdoor    Hard  1st Round        3  ...  6.500  1810.218031  1404.477376   \n",
       "\n",
       "   proba_elo    elo_diff  rank_diff smaller_ps  smaller_b365   gain  \\\n",
       "0   0.754561  195.100567        271      1.305         1.286  0.286   \n",
       "1   0.254110 -187.061164       -124      1.222         1.167 -1.000   \n",
       "2   0.910755  403.526501        103      1.111         1.143  0.143   \n",
       "3   0.279664 -164.359526       -229      1.877         1.533 -1.000   \n",
       "4   0.911785  405.740655        252      1.092         1.100  0.100   \n",
       "\n",
       "   rolling_gain  \n",
       "0         0.286  \n",
       "1        -0.714  \n",
       "2        -0.571  \n",
       "3        -1.571  \n",
       "4        -1.471  \n",
       "\n",
       "[5 rows x 30 columns]"
      ]
     },
     "execution_count": 91,
     "metadata": {},
     "output_type": "execute_result"
    }
   ],
   "source": [
    "dat_27.head()"
   ]
  },
  {
   "cell_type": "code",
   "execution_count": 77,
   "metadata": {
    "ExecuteTime": {
     "end_time": "2020-07-31T19:29:01.327449Z",
     "start_time": "2020-07-31T19:29:01.323766Z"
    }
   },
   "outputs": [],
   "source": [
    "from pandas.plotting import register_matplotlib_converters\n",
    "register_matplotlib_converters()"
   ]
  },
  {
   "cell_type": "code",
   "execution_count": 92,
   "metadata": {
    "ExecuteTime": {
     "end_time": "2020-07-31T20:07:32.056741Z",
     "start_time": "2020-07-31T20:07:31.842194Z"
    }
   },
   "outputs": [
    {
     "data": {
      "text/plain": [
       "[<matplotlib.lines.Line2D at 0x7fe78ba0a390>]"
      ]
     },
     "execution_count": 92,
     "metadata": {},
     "output_type": "execute_result"
    },
    {
     "data": {
      "image/png": "[encoded data removed]",
      "text/plain": [
       "<Figure size 432x288 with 1 Axes>"
      ]
     },
     "metadata": {},
     "output_type": "display_data"
    }
   ],
   "source": [
    "#plt.plot(dat_27.Date,dat_27.rolling_gain)\n",
    "plt.plot(dat_27.rolling_gain)"
   ]
  },
  {
   "cell_type": "code",
   "execution_count": 61,
   "metadata": {
    "ExecuteTime": {
     "end_time": "2020-07-31T18:49:11.094862Z",
     "start_time": "2020-07-31T18:49:10.983684Z"
    }
   },
   "outputs": [
    {
     "name": "stderr",
     "output_type": "stream",
     "text": [
      "/opt/anaconda3/envs/nf/lib/python3.6/site-packages/ipykernel_launcher.py:4: SettingWithCopyWarning: \n",
      "A value is trying to be set on a copy of a slice from a DataFrame\n",
      "\n",
      "See the caveats in the documentation: http://pandas.pydata.org/pandas-docs/stable/indexing.html#indexing-view-versus-copy\n",
      "  after removing the cwd from sys.path.\n"
     ]
    }
   ],
   "source": [
    "g1 = np.ones(dat2.shape[0])\n",
    "#dat2['gain'] = g1\n",
    "#dat2['gain'] = dat2.apply(lambda row: 1, axis = 1)\n",
    "dat2['gain'].iloc[:] = dat2.B365W -1\n",
    "#dat2['gain'].iloc[:] = -1"
   ]
  },
  {
   "cell_type": "code",
   "execution_count": 62,
   "metadata": {
    "ExecuteTime": {
     "end_time": "2020-07-31T18:49:13.680562Z",
     "start_time": "2020-07-31T18:49:13.673054Z"
    }
   },
   "outputs": [
    {
     "data": {
      "text/plain": [
       "14518    1.870\n",
       "14519    0.533\n",
       "14520    0.364\n",
       "14521    0.533\n",
       "14522    0.444\n",
       "14523    0.300\n",
       "14524    0.400\n",
       "14525      NaN\n",
       "14526    0.286\n",
       "14527      NaN\n",
       "14528    0.030\n",
       "14529    1.875\n",
       "14530    1.100\n",
       "14531      NaN\n",
       "14532    2.250\n",
       "14533    1.000\n",
       "14534    0.800\n",
       "14535    0.615\n",
       "14536    0.333\n",
       "14537    0.667\n",
       "14538    0.833\n",
       "14539    0.286\n",
       "14540    0.063\n",
       "14541    2.250\n",
       "14542    0.533\n",
       "14543    0.100\n",
       "14544    0.140\n",
       "14545      NaN\n",
       "14546    1.375\n",
       "14547    0.400\n",
       "         ...  \n",
       "54878    0.250\n",
       "54879    0.250\n",
       "54880    1.750\n",
       "54881    1.370\n",
       "54882    0.100\n",
       "54883    0.570\n",
       "54884    0.570\n",
       "54885    1.100\n",
       "54886    0.250\n",
       "54887    0.300\n",
       "54888    0.720\n",
       "54889    0.160\n",
       "54890    4.000\n",
       "54891    0.120\n",
       "54892    0.120\n",
       "54893    0.120\n",
       "54894    2.750\n",
       "54895    2.000\n",
       "54896    2.000\n",
       "54897    4.000\n",
       "54898    0.160\n",
       "54899    1.100\n",
       "54900    1.000\n",
       "54901    2.200\n",
       "54902    2.200\n",
       "54903    0.440\n",
       "54904    0.900\n",
       "54905    2.500\n",
       "54906    0.800\n",
       "54907    1.000\n",
       "Name: gain, Length: 40390, dtype: float64"
      ]
     },
     "execution_count": 62,
     "metadata": {},
     "output_type": "execute_result"
    }
   ],
   "source": [
    "dat2.gain"
   ]
  }
 ],
 "metadata": {
  "kernelspec": {
   "display_name": "Python [conda env:nf] *",
   "language": "python",
   "name": "conda-env-nf-py"
  },
  "language_info": {
   "codemirror_mode": {
    "name": "ipython",
    "version": 3
   },
   "file_extension": ".py",
   "mimetype": "text/x-python",
   "name": "python",
   "nbconvert_exporter": "python",
   "pygments_lexer": "ipython3",
   "version": "3.6.10"
  },
  "latex_envs": {
   "LaTeX_envs_menu_present": true,
   "autoclose": false,
   "autocomplete": true,
   "bibliofile": "biblio.bib",
   "cite_by": "apalike",
   "current_citInitial": 1,
   "eqLabelWithNumbers": true,
   "eqNumInitial": 1,
   "hotkeys": {
    "equation": "Ctrl-E",
    "itemize": "Ctrl-I"
   },
   "labels_anchors": false,
   "latex_user_defs": false,
   "report_style_numbering": false,
   "user_envs_cfg": false
  },
  "toc": {
   "base_numbering": 1,
   "nav_menu": {},
   "number_sections": true,
   "sideBar": true,
   "skip_h1_title": false,
   "title_cell": "Table of Contents",
   "title_sidebar": "Contents",
   "toc_cell": false,
   "toc_position": {},
   "toc_section_display": true,
   "toc_window_display": false
  },
  "varInspector": {
   "cols": {
    "lenName": 16,
    "lenType": 16,
    "lenVar": 40
   },
   "kernels_config": {
    "python": {
     "delete_cmd_postfix": "",
     "delete_cmd_prefix": "del ",
     "library": "var_list.py",
     "varRefreshCmd": "print(var_dic_list())"
    },
    "r": {
     "delete_cmd_postfix": ") ",
     "delete_cmd_prefix": "rm(",
     "library": "var_list.r",
     "varRefreshCmd": "cat(var_dic_list()) "
    }
   },
   "types_to_exclude": [
    "module",
    "function",
    "builtin_function_or_method",
    "instance",
    "_Feature"
   ],
   "window_display": false
  }
 },
 "nbformat": 4,
 "nbformat_minor": 4
}
