{
 "cells": [
  {
   "cell_type": "code",
   "execution_count": 1,
   "metadata": {
    "ExecuteTime": {
     "end_time": "2020-07-30T07:11:32.136316Z",
     "start_time": "2020-07-30T07:11:31.478275Z"
    }
   },
   "outputs": [],
   "source": [
    "#!/usr/bin/env python3\n",
    "# -*- coding: utf-8 -*-\n",
    "from datetime import datetime,timedelta\n",
    "\n",
    "#from past_features import *\n",
    "#from elo_features import *\n",
    "#from categorical_features import *\n",
    "#from stategy_assessment import *\n",
    "from utilities import *\n",
    "#from additional_stuff import *\n",
    "import numpy as np\n",
    "import pandas as pd"
   ]
  },
  {
   "cell_type": "code",
   "execution_count": 2,
   "metadata": {
    "ExecuteTime": {
     "end_time": "2020-07-30T07:11:32.922140Z",
     "start_time": "2020-07-30T07:11:32.146661Z"
    }
   },
   "outputs": [],
   "source": [
    "from sklearn.model_selection import cross_val_score\n",
    "from sklearn.model_selection import RepeatedStratifiedKFold\n",
    "\n",
    "from sklearn.tree import DecisionTreeClassifier\n",
    "\n",
    "from sklearn.metrics import confusion_matrix, accuracy_score\n",
    "from sklearn.ensemble import AdaBoostClassifier\n",
    "\n",
    "from sklearn.metrics import classification_report\n",
    "\n",
    "from sklearn.model_selection import GridSearchCV"
   ]
  },
  {
   "cell_type": "code",
   "execution_count": 3,
   "metadata": {
    "ExecuteTime": {
     "end_time": "2020-07-30T07:11:33.521326Z",
     "start_time": "2020-07-30T07:11:33.122636Z"
    }
   },
   "outputs": [],
   "source": [
    "#features_player=load(\"player_features\")\n",
    "xtrain_na_free = load(\"xtrain_na_free\")\n",
    "ytrain_na_free = load(\"ytrain_na_free\")\n",
    "\n",
    "xval_na_free = load(\"xval_na_free\")\n",
    "yval_na_free = load(\"yval_na_free\")\n",
    "\n",
    "xtest_na_free = load(\"xtest_na_free\")\n",
    "ytest_na_free = load(\"ytest_na_free\")"
   ]
  },
  {
   "cell_type": "code",
   "execution_count": null,
   "metadata": {
    "ExecuteTime": {
     "end_time": "2020-07-28T17:52:57.753942Z",
     "start_time": "2020-07-28T17:52:57.563499Z"
    }
   },
   "outputs": [],
   "source": [
    "dtc = DecisionTreeClassifier(criterion=\"entropy\", max_depth=3)\n",
    "ada_model=AdaBoostClassifier(base_estimator=dtc, n_estimators=100, learning_rate=0.5)\n",
    "# define the model\n",
    "model = AdaBoostClassifier(n_estimators=100)\n",
    "print('Classifier created')\n",
    "# evaluate the model\n",
    "cv = RepeatedStratifiedKFold(n_splits=4, n_repeats=2, random_state=1)\n",
    "n_scores = cross_val_score(ada_model, xtrain_na_free, ytrain_na_free, scoring='accuracy', cv=cv, n_jobs=2, error_score='raise', verbose = 10)\n",
    "# report performance\n",
    "print('Accuracy: %.3f (%.3f)' % (mean(n_scores), std(n_scores)))"
   ]
  },
  {
   "cell_type": "code",
   "execution_count": 4,
   "metadata": {
    "ExecuteTime": {
     "end_time": "2020-07-30T07:11:37.513812Z",
     "start_time": "2020-07-30T07:11:37.507170Z"
    }
   },
   "outputs": [],
   "source": [
    "from sklearn.naive_bayes import GaussianNB"
   ]
  },
  {
   "cell_type": "code",
   "execution_count": 6,
   "metadata": {
    "ExecuteTime": {
     "end_time": "2020-07-30T07:22:54.736974Z",
     "start_time": "2020-07-30T07:11:53.686326Z"
    }
   },
   "outputs": [
    {
     "name": "stdout",
     "output_type": "stream",
     "text": [
      "run\n",
      "Fitting 5 folds for each of 5 candidates, totalling 25 fits\n"
     ]
    },
    {
     "name": "stderr",
     "output_type": "stream",
     "text": [
      "[Parallel(n_jobs=2)]: Using backend LokyBackend with 2 concurrent workers.\n",
      "[Parallel(n_jobs=2)]: Done   1 tasks      | elapsed:   51.8s\n",
      "[Parallel(n_jobs=2)]: Done   2 tasks      | elapsed:   51.9s\n",
      "[Parallel(n_jobs=2)]: Done   3 tasks      | elapsed:  1.7min\n",
      "[Parallel(n_jobs=2)]: Done   4 tasks      | elapsed:  1.7min\n",
      "[Parallel(n_jobs=2)]: Done   5 tasks      | elapsed:  2.5min\n",
      "[Parallel(n_jobs=2)]: Done   6 tasks      | elapsed:  2.5min\n",
      "[Parallel(n_jobs=2)]: Done   7 tasks      | elapsed:  3.2min\n",
      "[Parallel(n_jobs=2)]: Done   8 tasks      | elapsed:  3.3min\n",
      "[Parallel(n_jobs=2)]: Done   9 tasks      | elapsed:  4.1min\n",
      "[Parallel(n_jobs=2)]: Done  10 tasks      | elapsed:  4.1min\n",
      "[Parallel(n_jobs=2)]: Done  11 tasks      | elapsed:  4.9min\n",
      "[Parallel(n_jobs=2)]: Done  12 tasks      | elapsed:  4.9min\n",
      "[Parallel(n_jobs=2)]: Done  13 tasks      | elapsed:  5.7min\n",
      "[Parallel(n_jobs=2)]: Done  14 tasks      | elapsed:  5.7min\n",
      "[Parallel(n_jobs=2)]: Done  15 tasks      | elapsed:  6.5min\n",
      "[Parallel(n_jobs=2)]: Done  16 tasks      | elapsed:  6.5min\n",
      "[Parallel(n_jobs=2)]: Done  17 tasks      | elapsed:  7.3min\n",
      "[Parallel(n_jobs=2)]: Done  18 tasks      | elapsed:  7.3min\n",
      "[Parallel(n_jobs=2)]: Done  19 tasks      | elapsed:  8.1min\n",
      "[Parallel(n_jobs=2)]: Done  20 tasks      | elapsed:  8.1min\n",
      "[Parallel(n_jobs=2)]: Done  21 tasks      | elapsed:  8.9min\n",
      "[Parallel(n_jobs=2)]: Done  22 tasks      | elapsed:  8.9min\n",
      "[Parallel(n_jobs=2)]: Done  25 out of  25 | elapsed: 10.3min finished\n"
     ]
    },
    {
     "data": {
      "text/plain": [
       "GridSearchCV(cv=None, error_score=nan,\n",
       "             estimator=AdaBoostClassifier(algorithm='SAMME.R',\n",
       "                                          base_estimator=GaussianNB(priors=None,\n",
       "                                                                    var_smoothing=1e-09),\n",
       "                                          learning_rate=1.0, n_estimators=50,\n",
       "                                          random_state=None),\n",
       "             iid='deprecated', n_jobs=2,\n",
       "             param_grid={'learning_rate': [0.1, 0.2, 0.3, 0.5, 0.7]},\n",
       "             pre_dispatch='2*n_jobs', refit=True, return_train_score=False,\n",
       "             scoring='accuracy', verbose=20)"
      ]
     },
     "execution_count": 6,
     "metadata": {},
     "output_type": "execute_result"
    }
   ],
   "source": [
    "print('run')\n",
    "parameters = {'learning_rate':[0.1, 0.2 ,0.3,0.5, 0.7]}\n",
    "gnb = GaussianNB()\n",
    "ada_model=AdaBoostClassifier(base_estimator=gnb)\n",
    "\n",
    "grid_search_ABC_gnb = GridSearchCV(ada_model, param_grid=parameters, scoring = 'accuracy', verbose = 20, n_jobs = 2)\n",
    "\n",
    "grid_search_ABC_gnb.fit(xtrain_na_free,ytrain_na_free)"
   ]
  },
  {
   "cell_type": "code",
   "execution_count": 7,
   "metadata": {
    "ExecuteTime": {
     "end_time": "2020-07-30T07:23:46.627560Z",
     "start_time": "2020-07-30T07:23:46.622247Z"
    }
   },
   "outputs": [],
   "source": [
    "res3 = pd.DataFrame(grid_search_ABC_gnb.cv_results_)"
   ]
  },
  {
   "cell_type": "code",
   "execution_count": 8,
   "metadata": {
    "ExecuteTime": {
     "end_time": "2020-07-30T07:23:53.329550Z",
     "start_time": "2020-07-30T07:23:53.308617Z"
    }
   },
   "outputs": [
    {
     "data": {
      "text/html": [
       "<div>\n",
       "<style scoped>\n",
       "    .dataframe tbody tr th:only-of-type {\n",
       "        vertical-align: middle;\n",
       "    }\n",
       "\n",
       "    .dataframe tbody tr th {\n",
       "        vertical-align: top;\n",
       "    }\n",
       "\n",
       "    .dataframe thead th {\n",
       "        text-align: right;\n",
       "    }\n",
       "</style>\n",
       "<table border=\"1\" class=\"dataframe\">\n",
       "  <thead>\n",
       "    <tr style=\"text-align: right;\">\n",
       "      <th></th>\n",
       "      <th>mean_fit_time</th>\n",
       "      <th>std_fit_time</th>\n",
       "      <th>mean_score_time</th>\n",
       "      <th>std_score_time</th>\n",
       "      <th>param_learning_rate</th>\n",
       "      <th>params</th>\n",
       "      <th>split0_test_score</th>\n",
       "      <th>split1_test_score</th>\n",
       "      <th>split2_test_score</th>\n",
       "      <th>split3_test_score</th>\n",
       "      <th>split4_test_score</th>\n",
       "      <th>mean_test_score</th>\n",
       "      <th>std_test_score</th>\n",
       "      <th>rank_test_score</th>\n",
       "    </tr>\n",
       "  </thead>\n",
       "  <tbody>\n",
       "    <tr>\n",
       "      <th>0</th>\n",
       "      <td>45.596049</td>\n",
       "      <td>1.501192</td>\n",
       "      <td>3.424625</td>\n",
       "      <td>0.086862</td>\n",
       "      <td>0.1</td>\n",
       "      <td>{'learning_rate': 0.1}</td>\n",
       "      <td>0.515717</td>\n",
       "      <td>0.507028</td>\n",
       "      <td>0.514183</td>\n",
       "      <td>0.506006</td>\n",
       "      <td>0.504857</td>\n",
       "      <td>0.509558</td>\n",
       "      <td>0.004482</td>\n",
       "      <td>1</td>\n",
       "    </tr>\n",
       "    <tr>\n",
       "      <th>1</th>\n",
       "      <td>44.281079</td>\n",
       "      <td>0.483243</td>\n",
       "      <td>3.284479</td>\n",
       "      <td>0.047195</td>\n",
       "      <td>0.2</td>\n",
       "      <td>{'learning_rate': 0.2}</td>\n",
       "      <td>0.499106</td>\n",
       "      <td>0.496039</td>\n",
       "      <td>0.494505</td>\n",
       "      <td>0.496294</td>\n",
       "      <td>0.514315</td>\n",
       "      <td>0.500052</td>\n",
       "      <td>0.007284</td>\n",
       "      <td>4</td>\n",
       "    </tr>\n",
       "    <tr>\n",
       "      <th>2</th>\n",
       "      <td>45.544057</td>\n",
       "      <td>1.431110</td>\n",
       "      <td>3.299242</td>\n",
       "      <td>0.086831</td>\n",
       "      <td>0.3</td>\n",
       "      <td>{'learning_rate': 0.3}</td>\n",
       "      <td>0.500383</td>\n",
       "      <td>0.495528</td>\n",
       "      <td>0.495783</td>\n",
       "      <td>0.496039</td>\n",
       "      <td>0.495143</td>\n",
       "      <td>0.496575</td>\n",
       "      <td>0.001927</td>\n",
       "      <td>5</td>\n",
       "    </tr>\n",
       "    <tr>\n",
       "      <th>3</th>\n",
       "      <td>44.399919</td>\n",
       "      <td>0.944048</td>\n",
       "      <td>3.255779</td>\n",
       "      <td>0.031116</td>\n",
       "      <td>0.5</td>\n",
       "      <td>{'learning_rate': 0.5}</td>\n",
       "      <td>0.500894</td>\n",
       "      <td>0.509583</td>\n",
       "      <td>0.515972</td>\n",
       "      <td>0.493228</td>\n",
       "      <td>0.509714</td>\n",
       "      <td>0.505878</td>\n",
       "      <td>0.007940</td>\n",
       "      <td>2</td>\n",
       "    </tr>\n",
       "    <tr>\n",
       "      <th>4</th>\n",
       "      <td>42.377508</td>\n",
       "      <td>3.610033</td>\n",
       "      <td>3.114225</td>\n",
       "      <td>0.258496</td>\n",
       "      <td>0.7</td>\n",
       "      <td>{'learning_rate': 0.7}</td>\n",
       "      <td>0.507283</td>\n",
       "      <td>0.500383</td>\n",
       "      <td>0.497061</td>\n",
       "      <td>0.500639</td>\n",
       "      <td>0.501278</td>\n",
       "      <td>0.501329</td>\n",
       "      <td>0.003318</td>\n",
       "      <td>3</td>\n",
       "    </tr>\n",
       "  </tbody>\n",
       "</table>\n",
       "</div>"
      ],
      "text/plain": [
       "   mean_fit_time  std_fit_time  mean_score_time  std_score_time  \\\n",
       "0      45.596049      1.501192         3.424625        0.086862   \n",
       "1      44.281079      0.483243         3.284479        0.047195   \n",
       "2      45.544057      1.431110         3.299242        0.086831   \n",
       "3      44.399919      0.944048         3.255779        0.031116   \n",
       "4      42.377508      3.610033         3.114225        0.258496   \n",
       "\n",
       "  param_learning_rate                  params  split0_test_score  \\\n",
       "0                 0.1  {'learning_rate': 0.1}           0.515717   \n",
       "1                 0.2  {'learning_rate': 0.2}           0.499106   \n",
       "2                 0.3  {'learning_rate': 0.3}           0.500383   \n",
       "3                 0.5  {'learning_rate': 0.5}           0.500894   \n",
       "4                 0.7  {'learning_rate': 0.7}           0.507283   \n",
       "\n",
       "   split1_test_score  split2_test_score  split3_test_score  split4_test_score  \\\n",
       "0           0.507028           0.514183           0.506006           0.504857   \n",
       "1           0.496039           0.494505           0.496294           0.514315   \n",
       "2           0.495528           0.495783           0.496039           0.495143   \n",
       "3           0.509583           0.515972           0.493228           0.509714   \n",
       "4           0.500383           0.497061           0.500639           0.501278   \n",
       "\n",
       "   mean_test_score  std_test_score  rank_test_score  \n",
       "0         0.509558        0.004482                1  \n",
       "1         0.500052        0.007284                4  \n",
       "2         0.496575        0.001927                5  \n",
       "3         0.505878        0.007940                2  \n",
       "4         0.501329        0.003318                3  "
      ]
     },
     "execution_count": 8,
     "metadata": {},
     "output_type": "execute_result"
    }
   ],
   "source": [
    "res3"
   ]
  }
 ],
 "metadata": {
  "kernelspec": {
   "display_name": "Python [conda env:nf] *",
   "language": "python",
   "name": "conda-env-nf-py"
  },
  "language_info": {
   "codemirror_mode": {
    "name": "ipython",
    "version": 3
   },
   "file_extension": ".py",
   "mimetype": "text/x-python",
   "name": "python",
   "nbconvert_exporter": "python",
   "pygments_lexer": "ipython3",
   "version": "3.6.10"
  },
  "latex_envs": {
   "LaTeX_envs_menu_present": true,
   "autoclose": false,
   "autocomplete": true,
   "bibliofile": "biblio.bib",
   "cite_by": "apalike",
   "current_citInitial": 1,
   "eqLabelWithNumbers": true,
   "eqNumInitial": 1,
   "hotkeys": {
    "equation": "Ctrl-E",
    "itemize": "Ctrl-I"
   },
   "labels_anchors": false,
   "latex_user_defs": false,
   "report_style_numbering": false,
   "user_envs_cfg": false
  },
  "toc": {
   "base_numbering": 1,
   "nav_menu": {},
   "number_sections": true,
   "sideBar": true,
   "skip_h1_title": false,
   "title_cell": "Table of Contents",
   "title_sidebar": "Contents",
   "toc_cell": false,
   "toc_position": {},
   "toc_section_display": true,
   "toc_window_display": false
  },
  "varInspector": {
   "cols": {
    "lenName": 16,
    "lenType": 16,
    "lenVar": 40
   },
   "kernels_config": {
    "python": {
     "delete_cmd_postfix": "",
     "delete_cmd_prefix": "del ",
     "library": "var_list.py",
     "varRefreshCmd": "print(var_dic_list())"
    },
    "r": {
     "delete_cmd_postfix": ") ",
     "delete_cmd_prefix": "rm(",
     "library": "var_list.r",
     "varRefreshCmd": "cat(var_dic_list()) "
    }
   },
   "types_to_exclude": [
    "module",
    "function",
    "builtin_function_or_method",
    "instance",
    "_Feature"
   ],
   "window_display": false
  }
 },
 "nbformat": 4,
 "nbformat_minor": 4
}
