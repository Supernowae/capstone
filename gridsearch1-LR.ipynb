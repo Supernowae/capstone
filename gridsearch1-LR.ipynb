{
 "cells": [
  {
   "cell_type": "code",
   "execution_count": 1,
   "metadata": {
    "ExecuteTime": {
     "end_time": "2020-07-30T08:06:54.908097Z",
     "start_time": "2020-07-30T08:06:54.434144Z"
    }
   },
   "outputs": [],
   "source": [
    "#!/usr/bin/env python3\n",
    "# -*- coding: utf-8 -*-\n",
    "from datetime import datetime,timedelta\n",
    "\n",
    "#from past_features import *\n",
    "#from elo_features import *\n",
    "#from categorical_features import *\n",
    "#from stategy_assessment import *\n",
    "from utilities import *\n",
    "#from additional_stuff import *\n",
    "import numpy as np\n",
    "import pandas as pd"
   ]
  },
  {
   "cell_type": "code",
   "execution_count": 2,
   "metadata": {
    "ExecuteTime": {
     "end_time": "2020-07-30T08:06:55.459934Z",
     "start_time": "2020-07-30T08:06:54.918539Z"
    }
   },
   "outputs": [],
   "source": [
    "from sklearn.model_selection import cross_val_score\n",
    "from sklearn.model_selection import RepeatedStratifiedKFold\n",
    "\n",
    "from sklearn.tree import DecisionTreeClassifier\n",
    "\n",
    "from sklearn.metrics import confusion_matrix, accuracy_score\n",
    "from sklearn.ensemble import AdaBoostClassifier\n",
    "\n",
    "from sklearn.metrics import classification_report\n",
    "\n",
    "from sklearn.model_selection import GridSearchCV\n",
    "\n",
    "from sklearn.linear_model import LogisticRegression"
   ]
  },
  {
   "cell_type": "code",
   "execution_count": 3,
   "metadata": {
    "ExecuteTime": {
     "end_time": "2020-07-30T08:06:56.730483Z",
     "start_time": "2020-07-30T08:06:56.452231Z"
    }
   },
   "outputs": [],
   "source": [
    "#features_player=load(\"player_features\")\n",
    "xtrain_na_free = load(\"xtrain_na_free\")\n",
    "ytrain_na_free = load(\"ytrain_na_free\")\n",
    "\n",
    "xval_na_free = load(\"xval_na_free\")\n",
    "yval_na_free = load(\"yval_na_free\")\n",
    "\n",
    "xtest_na_free = load(\"xtest_na_free\")\n",
    "ytest_na_free = load(\"ytest_na_free\")"
   ]
  },
  {
   "cell_type": "code",
   "execution_count": null,
   "metadata": {
    "ExecuteTime": {
     "end_time": "2020-07-28T17:52:57.753942Z",
     "start_time": "2020-07-28T17:52:57.563499Z"
    }
   },
   "outputs": [],
   "source": [
    "dtc = DecisionTreeClassifier(criterion=\"entropy\", max_depth=3)\n",
    "ada_model=AdaBoostClassifier(base_estimator=dtc, n_estimators=100, learning_rate=0.5)\n",
    "# define the model\n",
    "model = AdaBoostClassifier(n_estimators=100)\n",
    "print('Classifier created')\n",
    "# evaluate the model\n",
    "cv = RepeatedStratifiedKFold(n_splits=4, n_repeats=2, random_state=1)\n",
    "n_scores = cross_val_score(ada_model, xtrain_na_free, ytrain_na_free, scoring='accuracy', cv=cv, n_jobs=2, error_score='raise', verbose = 10)\n",
    "# report performance\n",
    "print('Accuracy: %.3f (%.3f)' % (mean(n_scores), std(n_scores)))"
   ]
  },
  {
   "cell_type": "code",
   "execution_count": null,
   "metadata": {},
   "outputs": [],
   "source": [
    "print('run')\n",
    "parameters = {'n_estimators':[50], 'learning_rate':[0.1,0.3,0.5, 0.7,1.0], 'base_estimator__max_depth':[3,5,7,10]}\n",
    "LR = LogisticRegression()\n",
    "ada_model=AdaBoostClassifier(base_estimator=LR)\n",
    "\n",
    "grid_search_ABC = GridSearchCV(ada_model, param_grid=parameters, scoring = 'accuracy', verbose = 100, n_jobs = 2)\n",
    "\n",
    "grid_search_ABC.fit(xtrain_na_free,ytrain_na_free)"
   ]
  }
 ],
 "metadata": {
  "kernelspec": {
   "display_name": "Python [conda env:nf] *",
   "language": "python",
   "name": "conda-env-nf-py"
  },
  "language_info": {
   "codemirror_mode": {
    "name": "ipython",
    "version": 3
   },
   "file_extension": ".py",
   "mimetype": "text/x-python",
   "name": "python",
   "nbconvert_exporter": "python",
   "pygments_lexer": "ipython3",
   "version": "3.6.10"
  },
  "latex_envs": {
   "LaTeX_envs_menu_present": true,
   "autoclose": false,
   "autocomplete": true,
   "bibliofile": "biblio.bib",
   "cite_by": "apalike",
   "current_citInitial": 1,
   "eqLabelWithNumbers": true,
   "eqNumInitial": 1,
   "hotkeys": {
    "equation": "Ctrl-E",
    "itemize": "Ctrl-I"
   },
   "labels_anchors": false,
   "latex_user_defs": false,
   "report_style_numbering": false,
   "user_envs_cfg": false
  },
  "toc": {
   "base_numbering": 1,
   "nav_menu": {},
   "number_sections": true,
   "sideBar": true,
   "skip_h1_title": false,
   "title_cell": "Table of Contents",
   "title_sidebar": "Contents",
   "toc_cell": false,
   "toc_position": {},
   "toc_section_display": true,
   "toc_window_display": false
  },
  "varInspector": {
   "cols": {
    "lenName": 16,
    "lenType": 16,
    "lenVar": 40
   },
   "kernels_config": {
    "python": {
     "delete_cmd_postfix": "",
     "delete_cmd_prefix": "del ",
     "library": "var_list.py",
     "varRefreshCmd": "print(var_dic_list())"
    },
    "r": {
     "delete_cmd_postfix": ") ",
     "delete_cmd_prefix": "rm(",
     "library": "var_list.r",
     "varRefreshCmd": "cat(var_dic_list()) "
    }
   },
   "types_to_exclude": [
    "module",
    "function",
    "builtin_function_or_method",
    "instance",
    "_Feature"
   ],
   "window_display": false
  }
 },
 "nbformat": 4,
 "nbformat_minor": 4
}
