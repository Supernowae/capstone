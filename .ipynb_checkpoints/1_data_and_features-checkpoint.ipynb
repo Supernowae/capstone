{
 "cells": [
  {
   "cell_type": "code",
   "execution_count": 2,
   "metadata": {
    "ExecuteTime": {
     "end_time": "2020-08-04T07:03:27.153586Z",
     "start_time": "2020-08-04T07:03:25.315744Z"
    }
   },
   "outputs": [],
   "source": [
    "#!/usr/bin/env python3\n",
    "# -*- coding: utf-8 -*-\n",
    "from datetime import datetime,timedelta\n",
    "\n",
    "import os\n",
    "\n",
    "os.chdir('Python')\n",
    "from past_features import *\n",
    "from elo_features import *\n",
    "from categorical_features import *\n",
    "from utilities import *\n",
    "from additional_stuff import *\n",
    "os.chdir('../')\n",
    "import numpy as np\n",
    "import pandas as pd"
   ]
  },
  {
   "cell_type": "markdown",
   "metadata": {},
   "source": [
    "# Preprocessing\n",
    "\n",
    "## Load data\n",
    "The initial data was downloaded from [http://tennis-data.co.uk/alldata.php](http://tennis-data.co.uk/alldata.php) and stored in data folder. (Further work could be to automate this)\n",
    "\n",
    "At first load the data from the files and put them together in a dataframe"
   ]
  },
  {
   "cell_type": "code",
   "execution_count": 2,
   "metadata": {
    "ExecuteTime": {
     "end_time": "2020-08-02T12:38:11.871866Z",
     "start_time": "2020-08-02T12:38:01.451385Z"
    }
   },
   "outputs": [],
   "source": [
    "import glob\n",
    "#filenames=list(glob.glob(\"../Data/20*.xls*\"))\n",
    "filenames=list(glob.glob(\"Data/20*.xls*\"))\n",
    "l = [pd.read_excel(filename,encoding='latin-1') for filename in filenames]\n",
    "data=pd.concat(l,0,sort=False)\n",
    "\n",
    "data = data[list(data.columns)[:13]+[\"Wsets\",\"Lsets\",\"Comment\"] +[\"PSW\",\"PSL\",\"B365W\",\"B365L\"]]"
   ]
  },
  {
   "cell_type": "markdown",
   "metadata": {},
   "source": [
    "## Data Cleaning (#1)"
   ]
  },
  {
   "cell_type": "code",
   "execution_count": 3,
   "metadata": {
    "ExecuteTime": {
     "end_time": "2020-08-02T12:38:16.552562Z",
     "start_time": "2020-08-02T12:38:15.057325Z"
    }
   },
   "outputs": [],
   "source": [
    "### Data cleaning\n",
    "data=data.sort_values(\"Date\")\n",
    "data[\"WRank\"]=data[\"WRank\"].replace(np.nan,0)\n",
    "data[\"WRank\"]=data[\"WRank\"].replace(\"NR\",2000)\n",
    "data[\"LRank\"]=data[\"LRank\"].replace(np.nan,0)\n",
    "data[\"LRank\"]=data[\"LRank\"].replace(\"NR\",2000)\n",
    "data[\"WRank\"]=data[\"WRank\"].astype(int)\n",
    "data[\"LRank\"]=data[\"LRank\"].astype(int)\n",
    "data[\"Wsets\"]=data[\"Wsets\"].astype(float)\n",
    "data[\"Lsets\"]=data[\"Lsets\"].replace(\"`1\",1)\n",
    "data[\"Lsets\"]=data[\"Lsets\"].astype(float)\n",
    "\n",
    "data['Winner']=data['Winner'].str.strip()\n",
    "data['Loser']=data['Loser'].str.strip()\n",
    "\n",
    "# the dict 'names_to_correct' is in Python/additional_stuff.py\n",
    "data = data.replace(names_to_correct)\n",
    "\n",
    "data=data.reset_index(drop=True)\n",
    "\n",
    "### Storage of the raw dataset\n",
    "#data.to_csv(\"../Generated Data/atp_data_raw.csv\",index=False)\n",
    "#dump(data,\"../Generated Data/atp_data_raw\")\n",
    "dump(data,\"Generated Data/atp_data_raw\")"
   ]
  },
  {
   "cell_type": "markdown",
   "metadata": {
    "ExecuteTime": {
     "end_time": "2020-07-23T08:37:52.534008Z",
     "start_time": "2020-07-23T08:37:52.525030Z"
    }
   },
   "source": [
    "## Preproc. Elo-Rating\n",
    "\n",
    "The elo-score / elo-rating is a value that describes the performance in the past of the player. It takes into account the wins and losses in the past but also the performance of the opponent. So a success against a strong comtetitor has a larger gain as against a weak opponent. Further information on [Wiki](https://en.wikipedia.org/wiki/Elo_rating_system)\n",
    "\n",
    "The calculation-method of the elo-score is not unique and the algorithm is empirical with variats. Here is a rather simple implementation of the calculation. The *K-factor* e.g. is set constant to 32, and could be seen as *hyer-parameter*. (Working on that is for the future) \n",
    "\n",
    "The function is stored in [Python/elo_features.py](Python/elo_features.py)\n",
    "\n",
    "It figured out that this feature belongs to the most important ones in this project.\n",
    "\n",
    "(TODO: Create also Surface-dependant elo-scores for each underground)"
   ]
  },
  {
   "cell_type": "code",
   "execution_count": 3,
   "metadata": {
    "ExecuteTime": {
     "end_time": "2020-08-04T07:03:33.431068Z",
     "start_time": "2020-08-04T07:03:33.222477Z"
    }
   },
   "outputs": [
    {
     "ename": "NameError",
     "evalue": "name 'data' is not defined",
     "output_type": "error",
     "traceback": [
      "\u001b[0;31m---------------------------------------------------------------------------\u001b[0m",
      "\u001b[0;31mNameError\u001b[0m                                 Traceback (most recent call last)",
      "\u001b[0;32m<ipython-input-3-c4e027bacee9>\u001b[0m in \u001b[0;36m<module>\u001b[0;34m\u001b[0m\n\u001b[1;32m      2\u001b[0m \u001b[0;34m\u001b[0m\u001b[0m\n\u001b[1;32m      3\u001b[0m \u001b[0;31m# Computing of the elo ranking of each player at the beginning of each match.\u001b[0m\u001b[0;34m\u001b[0m\u001b[0;34m\u001b[0m\u001b[0;34m\u001b[0m\u001b[0m\n\u001b[0;32m----> 4\u001b[0;31m \u001b[0melo_rankings\u001b[0m \u001b[0;34m=\u001b[0m \u001b[0mcompute_elo_rankings\u001b[0m\u001b[0;34m(\u001b[0m\u001b[0mdata\u001b[0m\u001b[0;34m)\u001b[0m\u001b[0;34m\u001b[0m\u001b[0;34m\u001b[0m\u001b[0m\n\u001b[0m\u001b[1;32m      5\u001b[0m \u001b[0mdata\u001b[0m \u001b[0;34m=\u001b[0m \u001b[0mpd\u001b[0m\u001b[0;34m.\u001b[0m\u001b[0mconcat\u001b[0m\u001b[0;34m(\u001b[0m\u001b[0;34m[\u001b[0m\u001b[0mdata\u001b[0m\u001b[0;34m,\u001b[0m\u001b[0melo_rankings\u001b[0m\u001b[0;34m]\u001b[0m\u001b[0;34m,\u001b[0m\u001b[0;36m1\u001b[0m\u001b[0;34m)\u001b[0m\u001b[0;34m\u001b[0m\u001b[0;34m\u001b[0m\u001b[0m\n\u001b[1;32m      6\u001b[0m \u001b[0;34m\u001b[0m\u001b[0m\n",
      "\u001b[0;31mNameError\u001b[0m: name 'data' is not defined"
     ]
    }
   ],
   "source": [
    "### Elo rankings data\n",
    "\n",
    "# Computing of the elo ranking of each player at the beginning of each match.\n",
    "elo_rankings = compute_elo_rankings(data)\n",
    "data = pd.concat([data,elo_rankings],1)\n",
    "\n",
    "### Storage of the dataset with elo\n",
    "#data.to_csv(\"../Generated Data/atp_data.csv\",index=False)\n",
    "#dump(data,\"../Generated Data/atp_data\")\n",
    "dump(data,\"Generated Data/atp_data\")"
   ]
  },
  {
   "cell_type": "code",
   "execution_count": 6,
   "metadata": {
    "ExecuteTime": {
     "end_time": "2020-07-28T22:45:48.629945Z",
     "start_time": "2020-07-28T22:45:48.391933Z"
    }
   },
   "outputs": [],
   "source": [
    "#######################################################\n",
    "# Until here basic with elo                ############\n",
    "#######################################################"
   ]
  },
  {
   "cell_type": "code",
   "execution_count": 4,
   "metadata": {
    "ExecuteTime": {
     "end_time": "2020-08-04T07:03:46.031324Z",
     "start_time": "2020-08-04T07:03:45.895986Z"
    },
    "run_control": {
     "marked": false
    }
   },
   "outputs": [],
   "source": [
    "# Loading data if necessary\n",
    "\n",
    "#data = pd.read_csv(\"../Generated Data/atp_data.csv\")\n",
    "#data.Date = data.Date.apply(lambda x: datetime.datetime.strptime(x, '%Y-%m-%d'))\n",
    "#data = load(\"../Generated Data/atp_data\")\n",
    "data = load(\"Generated Data/atp_data\")"
   ]
  },
  {
   "cell_type": "markdown",
   "metadata": {},
   "source": [
    "Just for visual checking if data distribution is ok. Loading data sometimes gives strange datasets. \n",
    "An indication that something is wrong is when a year has only few matches (<1000). If something is wrong latest the splitting function will give errors.\n"
   ]
  },
  {
   "cell_type": "code",
   "execution_count": null,
   "metadata": {},
   "outputs": [],
   "source": [
    "data.groupby(pd.Grouper(key='Date',freq='Y')).agg('count')"
   ]
  },
  {
   "cell_type": "markdown",
   "metadata": {},
   "source": [
    "# Feature engineering"
   ]
  },
  {
   "cell_type": "markdown",
   "metadata": {},
   "source": [
    "## Selecting data to proceed\n",
    "For further procedure not all data is necessary. Of course it depends on how much we want to train on. \n",
    "The earlier data was primaly needed to calculate the elo-scores. Even we start here in 2008 there will remain more than 30k matches."
   ]
  },
  {
   "cell_type": "code",
   "execution_count": 11,
   "metadata": {
    "ExecuteTime": {
     "end_time": "2020-08-04T07:13:11.555561Z",
     "start_time": "2020-08-04T07:13:11.051489Z"
    }
   },
   "outputs": [],
   "source": [
    "#beg = datetime.datetime(2008,1,1) \n",
    "#end = data.Date.iloc[-1]\n",
    "#indices = data[(data.Date>beg)&(data.Date<=end)].index\n",
    "\n",
    "beg_year = 2008\n",
    "#beg_year = 2017\n",
    "indices = data[(data.Date.dt.year >= beg_year)].index\n",
    "\n",
    "data_for_saving = data.iloc[indices,:].reset_index(drop=True)\n",
    "dump(data_for_saving,\"Generated Data/atp_data_f\")"
   ]
  },
  {
   "cell_type": "markdown",
   "metadata": {},
   "source": [
    "## Calculate the other features\n",
    "Most features look in the past of the player and his performance. \n",
    "For the moment the most features analyze the past **150** and **300** days. \n",
    "I don't know if larger time spans may cause better results. The time span(s) is a kind of a hyperparameter.\n",
    "\n",
    "The functions below for the feature calculation is stored in [Python/past_features.py](Python/past_features.py)\n",
    "\n",
    "Note: There are cases where nothing is to say about the past. That means that *missing values / NaN* are produced in the features. Some classifieres can handle them (XGBoost) others not (AdaBoost with DecisionTree e.g.). These missing values will be filtered out later after splitting.\n",
    "\n",
    "(TODO: These functions take their time. It would be nice to run them in parallel to accelerate the building. I tried and gave up. It seems that it is not as easy to use *multiprocessing* or similar in an iPython enviroment. It would have to be outsourced to a py-file and run in a shell.)"
   ]
  },
  {
   "cell_type": "code",
   "execution_count": 4,
   "metadata": {
    "ExecuteTime": {
     "end_time": "2020-08-02T17:10:55.356623Z",
     "start_time": "2020-08-02T17:01:20.206729Z"
    }
   },
   "outputs": [
    {
     "name": "stdout",
     "output_type": "stream",
     "text": [
      "0/31748 matches treated. features_recent_creation150\n",
      "100/31748 matches treated. features_recent_creation150\n",
      "200/31748 matches treated. features_recent_creation150\n",
      "300/31748 matches treated. features_recent_creation150\n",
      "400/31748 matches treated. features_recent_creation150\n",
      "500/31748 matches treated. features_recent_creation150\n",
      "600/31748 matches treated. features_recent_creation150\n",
      "700/31748 matches treated. features_recent_creation150\n",
      "800/31748 matches treated. features_recent_creation150\n",
      "900/31748 matches treated. features_recent_creation150\n",
      "1000/31748 matches treated. features_recent_creation150\n",
      "1100/31748 matches treated. features_recent_creation150\n",
      "1200/31748 matches treated. features_recent_creation150\n",
      "1300/31748 matches treated. features_recent_creation150\n",
      "1400/31748 matches treated. features_recent_creation150\n",
      "1500/31748 matches treated. features_recent_creation150\n",
      "1600/31748 matches treated. features_recent_creation150\n",
      "1700/31748 matches treated. features_recent_creation150\n",
      "1800/31748 matches treated. features_recent_creation150\n",
      "1900/31748 matches treated. features_recent_creation150\n",
      "2000/31748 matches treated. features_recent_creation150\n",
      "2100/31748 matches treated. features_recent_creation150\n",
      "2200/31748 matches treated. features_recent_creation150\n",
      "2300/31748 matches treated. features_recent_creation150\n",
      "2400/31748 matches treated. features_recent_creation150\n",
      "2500/31748 matches treated. features_recent_creation150\n",
      "2600/31748 matches treated. features_recent_creation150\n",
      "2700/31748 matches treated. features_recent_creation150\n",
      "2800/31748 matches treated. features_recent_creation150\n",
      "2900/31748 matches treated. features_recent_creation150\n",
      "3000/31748 matches treated. features_recent_creation150\n",
      "3100/31748 matches treated. features_recent_creation150\n",
      "3200/31748 matches treated. features_recent_creation150\n",
      "3300/31748 matches treated. features_recent_creation150\n",
      "3400/31748 matches treated. features_recent_creation150\n",
      "3500/31748 matches treated. features_recent_creation150\n",
      "3600/31748 matches treated. features_recent_creation150\n",
      "3700/31748 matches treated. features_recent_creation150\n",
      "3800/31748 matches treated. features_recent_creation150\n",
      "3900/31748 matches treated. features_recent_creation150\n",
      "4000/31748 matches treated. features_recent_creation150\n",
      "4100/31748 matches treated. features_recent_creation150\n",
      "4200/31748 matches treated. features_recent_creation150\n",
      "4300/31748 matches treated. features_recent_creation150\n",
      "4400/31748 matches treated. features_recent_creation150\n",
      "4500/31748 matches treated. features_recent_creation150\n",
      "4600/31748 matches treated. features_recent_creation150\n",
      "4700/31748 matches treated. features_recent_creation150\n",
      "4800/31748 matches treated. features_recent_creation150\n",
      "4900/31748 matches treated. features_recent_creation150\n",
      "5000/31748 matches treated. features_recent_creation150\n",
      "5100/31748 matches treated. features_recent_creation150\n",
      "5200/31748 matches treated. features_recent_creation150\n",
      "5300/31748 matches treated. features_recent_creation150\n",
      "5400/31748 matches treated. features_recent_creation150\n",
      "5500/31748 matches treated. features_recent_creation150\n",
      "5600/31748 matches treated. features_recent_creation150\n",
      "5700/31748 matches treated. features_recent_creation150\n",
      "5800/31748 matches treated. features_recent_creation150\n",
      "5900/31748 matches treated. features_recent_creation150\n",
      "6000/31748 matches treated. features_recent_creation150\n",
      "6100/31748 matches treated. features_recent_creation150\n",
      "6200/31748 matches treated. features_recent_creation150\n",
      "6300/31748 matches treated. features_recent_creation150\n",
      "6400/31748 matches treated. features_recent_creation150\n",
      "6500/31748 matches treated. features_recent_creation150\n",
      "6600/31748 matches treated. features_recent_creation150\n",
      "6700/31748 matches treated. features_recent_creation150\n",
      "6800/31748 matches treated. features_recent_creation150\n",
      "6900/31748 matches treated. features_recent_creation150\n",
      "7000/31748 matches treated. features_recent_creation150\n",
      "7100/31748 matches treated. features_recent_creation150\n",
      "7200/31748 matches treated. features_recent_creation150\n",
      "7300/31748 matches treated. features_recent_creation150\n",
      "7400/31748 matches treated. features_recent_creation150\n",
      "7500/31748 matches treated. features_recent_creation150\n",
      "7600/31748 matches treated. features_recent_creation150\n",
      "7700/31748 matches treated. features_recent_creation150\n",
      "7800/31748 matches treated. features_recent_creation150\n",
      "7900/31748 matches treated. features_recent_creation150\n",
      "8000/31748 matches treated. features_recent_creation150\n",
      "8100/31748 matches treated. features_recent_creation150\n",
      "8200/31748 matches treated. features_recent_creation150\n",
      "8300/31748 matches treated. features_recent_creation150\n",
      "8400/31748 matches treated. features_recent_creation150\n",
      "8500/31748 matches treated. features_recent_creation150\n",
      "8600/31748 matches treated. features_recent_creation150\n",
      "8700/31748 matches treated. features_recent_creation150\n",
      "8800/31748 matches treated. features_recent_creation150\n",
      "8900/31748 matches treated. features_recent_creation150\n",
      "9000/31748 matches treated. features_recent_creation150\n",
      "9100/31748 matches treated. features_recent_creation150\n",
      "9200/31748 matches treated. features_recent_creation150\n",
      "9300/31748 matches treated. features_recent_creation150\n",
      "9400/31748 matches treated. features_recent_creation150\n",
      "9500/31748 matches treated. features_recent_creation150\n",
      "9600/31748 matches treated. features_recent_creation150\n",
      "9700/31748 matches treated. features_recent_creation150\n",
      "9800/31748 matches treated. features_recent_creation150\n",
      "9900/31748 matches treated. features_recent_creation150\n",
      "10000/31748 matches treated. features_recent_creation150\n",
      "10100/31748 matches treated. features_recent_creation150\n",
      "10200/31748 matches treated. features_recent_creation150\n",
      "10300/31748 matches treated. features_recent_creation150\n",
      "10400/31748 matches treated. features_recent_creation150\n",
      "10500/31748 matches treated. features_recent_creation150\n",
      "10600/31748 matches treated. features_recent_creation150\n",
      "10700/31748 matches treated. features_recent_creation150\n",
      "10800/31748 matches treated. features_recent_creation150\n",
      "10900/31748 matches treated. features_recent_creation150\n",
      "11000/31748 matches treated. features_recent_creation150\n",
      "11100/31748 matches treated. features_recent_creation150\n",
      "11200/31748 matches treated. features_recent_creation150\n",
      "11300/31748 matches treated. features_recent_creation150\n",
      "11400/31748 matches treated. features_recent_creation150\n",
      "11500/31748 matches treated. features_recent_creation150\n",
      "11600/31748 matches treated. features_recent_creation150\n",
      "11700/31748 matches treated. features_recent_creation150\n",
      "11800/31748 matches treated. features_recent_creation150\n",
      "11900/31748 matches treated. features_recent_creation150\n",
      "12000/31748 matches treated. features_recent_creation150\n",
      "12100/31748 matches treated. features_recent_creation150\n",
      "12200/31748 matches treated. features_recent_creation150\n",
      "12300/31748 matches treated. features_recent_creation150\n",
      "12400/31748 matches treated. features_recent_creation150\n",
      "12500/31748 matches treated. features_recent_creation150\n",
      "12600/31748 matches treated. features_recent_creation150\n",
      "12700/31748 matches treated. features_recent_creation150\n",
      "12800/31748 matches treated. features_recent_creation150\n",
      "12900/31748 matches treated. features_recent_creation150\n",
      "13000/31748 matches treated. features_recent_creation150\n",
      "13100/31748 matches treated. features_recent_creation150\n",
      "13200/31748 matches treated. features_recent_creation150\n",
      "13300/31748 matches treated. features_recent_creation150\n",
      "13400/31748 matches treated. features_recent_creation150\n",
      "13500/31748 matches treated. features_recent_creation150\n",
      "13600/31748 matches treated. features_recent_creation150\n",
      "13700/31748 matches treated. features_recent_creation150\n",
      "13800/31748 matches treated. features_recent_creation150\n",
      "13900/31748 matches treated. features_recent_creation150\n",
      "14000/31748 matches treated. features_recent_creation150\n",
      "14100/31748 matches treated. features_recent_creation150\n",
      "14200/31748 matches treated. features_recent_creation150\n",
      "14300/31748 matches treated. features_recent_creation150\n",
      "14400/31748 matches treated. features_recent_creation150\n",
      "14500/31748 matches treated. features_recent_creation150\n"
     ]
    },
    {
     "name": "stdout",
     "output_type": "stream",
     "text": [
      "14600/31748 matches treated. features_recent_creation150\n",
      "14700/31748 matches treated. features_recent_creation150\n",
      "14800/31748 matches treated. features_recent_creation150\n",
      "14900/31748 matches treated. features_recent_creation150\n",
      "15000/31748 matches treated. features_recent_creation150\n",
      "15100/31748 matches treated. features_recent_creation150\n",
      "15200/31748 matches treated. features_recent_creation150\n",
      "15300/31748 matches treated. features_recent_creation150\n",
      "15400/31748 matches treated. features_recent_creation150\n",
      "15500/31748 matches treated. features_recent_creation150\n",
      "15600/31748 matches treated. features_recent_creation150\n",
      "15700/31748 matches treated. features_recent_creation150\n",
      "15800/31748 matches treated. features_recent_creation150\n",
      "15900/31748 matches treated. features_recent_creation150\n",
      "16000/31748 matches treated. features_recent_creation150\n",
      "16100/31748 matches treated. features_recent_creation150\n",
      "16200/31748 matches treated. features_recent_creation150\n",
      "16300/31748 matches treated. features_recent_creation150\n",
      "16400/31748 matches treated. features_recent_creation150\n",
      "16500/31748 matches treated. features_recent_creation150\n",
      "16600/31748 matches treated. features_recent_creation150\n",
      "16700/31748 matches treated. features_recent_creation150\n",
      "16800/31748 matches treated. features_recent_creation150\n",
      "16900/31748 matches treated. features_recent_creation150\n",
      "17000/31748 matches treated. features_recent_creation150\n",
      "17100/31748 matches treated. features_recent_creation150\n",
      "17200/31748 matches treated. features_recent_creation150\n",
      "17300/31748 matches treated. features_recent_creation150\n",
      "17400/31748 matches treated. features_recent_creation150\n",
      "17500/31748 matches treated. features_recent_creation150\n",
      "17600/31748 matches treated. features_recent_creation150\n",
      "17700/31748 matches treated. features_recent_creation150\n",
      "17800/31748 matches treated. features_recent_creation150\n",
      "17900/31748 matches treated. features_recent_creation150\n",
      "18000/31748 matches treated. features_recent_creation150\n",
      "18100/31748 matches treated. features_recent_creation150\n",
      "18200/31748 matches treated. features_recent_creation150\n",
      "18300/31748 matches treated. features_recent_creation150\n",
      "18400/31748 matches treated. features_recent_creation150\n",
      "18500/31748 matches treated. features_recent_creation150\n",
      "18600/31748 matches treated. features_recent_creation150\n",
      "18700/31748 matches treated. features_recent_creation150\n",
      "18800/31748 matches treated. features_recent_creation150\n",
      "18900/31748 matches treated. features_recent_creation150\n",
      "19000/31748 matches treated. features_recent_creation150\n",
      "19100/31748 matches treated. features_recent_creation150\n",
      "19200/31748 matches treated. features_recent_creation150\n",
      "19300/31748 matches treated. features_recent_creation150\n",
      "19400/31748 matches treated. features_recent_creation150\n",
      "19500/31748 matches treated. features_recent_creation150\n",
      "19600/31748 matches treated. features_recent_creation150\n",
      "19700/31748 matches treated. features_recent_creation150\n",
      "19800/31748 matches treated. features_recent_creation150\n",
      "19900/31748 matches treated. features_recent_creation150\n",
      "20000/31748 matches treated. features_recent_creation150\n",
      "20100/31748 matches treated. features_recent_creation150\n",
      "20200/31748 matches treated. features_recent_creation150\n",
      "20300/31748 matches treated. features_recent_creation150\n",
      "20400/31748 matches treated. features_recent_creation150\n",
      "20500/31748 matches treated. features_recent_creation150\n",
      "20600/31748 matches treated. features_recent_creation150\n",
      "20700/31748 matches treated. features_recent_creation150\n",
      "20800/31748 matches treated. features_recent_creation150\n",
      "20900/31748 matches treated. features_recent_creation150\n",
      "21000/31748 matches treated. features_recent_creation150\n",
      "21100/31748 matches treated. features_recent_creation150\n",
      "21200/31748 matches treated. features_recent_creation150\n",
      "21300/31748 matches treated. features_recent_creation150\n",
      "21400/31748 matches treated. features_recent_creation150\n",
      "21500/31748 matches treated. features_recent_creation150\n",
      "21600/31748 matches treated. features_recent_creation150\n",
      "21700/31748 matches treated. features_recent_creation150\n",
      "21800/31748 matches treated. features_recent_creation150\n",
      "21900/31748 matches treated. features_recent_creation150\n",
      "22000/31748 matches treated. features_recent_creation150\n",
      "22100/31748 matches treated. features_recent_creation150\n",
      "22200/31748 matches treated. features_recent_creation150\n",
      "22300/31748 matches treated. features_recent_creation150\n",
      "22400/31748 matches treated. features_recent_creation150\n",
      "22500/31748 matches treated. features_recent_creation150\n",
      "22600/31748 matches treated. features_recent_creation150\n",
      "22700/31748 matches treated. features_recent_creation150\n",
      "22800/31748 matches treated. features_recent_creation150\n",
      "22900/31748 matches treated. features_recent_creation150\n",
      "23000/31748 matches treated. features_recent_creation150\n",
      "23100/31748 matches treated. features_recent_creation150\n",
      "23200/31748 matches treated. features_recent_creation150\n",
      "23300/31748 matches treated. features_recent_creation150\n",
      "23400/31748 matches treated. features_recent_creation150\n",
      "23500/31748 matches treated. features_recent_creation150\n",
      "23600/31748 matches treated. features_recent_creation150\n",
      "23700/31748 matches treated. features_recent_creation150\n",
      "23800/31748 matches treated. features_recent_creation150\n",
      "23900/31748 matches treated. features_recent_creation150\n",
      "24000/31748 matches treated. features_recent_creation150\n",
      "24100/31748 matches treated. features_recent_creation150\n",
      "24200/31748 matches treated. features_recent_creation150\n",
      "24300/31748 matches treated. features_recent_creation150\n",
      "24400/31748 matches treated. features_recent_creation150\n",
      "24500/31748 matches treated. features_recent_creation150\n",
      "24600/31748 matches treated. features_recent_creation150\n",
      "24700/31748 matches treated. features_recent_creation150\n",
      "24800/31748 matches treated. features_recent_creation150\n",
      "24900/31748 matches treated. features_recent_creation150\n",
      "25000/31748 matches treated. features_recent_creation150\n",
      "25100/31748 matches treated. features_recent_creation150\n",
      "25200/31748 matches treated. features_recent_creation150\n",
      "25300/31748 matches treated. features_recent_creation150\n",
      "25400/31748 matches treated. features_recent_creation150\n",
      "25500/31748 matches treated. features_recent_creation150\n",
      "25600/31748 matches treated. features_recent_creation150\n",
      "25700/31748 matches treated. features_recent_creation150\n",
      "25800/31748 matches treated. features_recent_creation150\n",
      "25900/31748 matches treated. features_recent_creation150\n",
      "26000/31748 matches treated. features_recent_creation150\n",
      "26100/31748 matches treated. features_recent_creation150\n",
      "26200/31748 matches treated. features_recent_creation150\n",
      "26300/31748 matches treated. features_recent_creation150\n",
      "26400/31748 matches treated. features_recent_creation150\n",
      "26500/31748 matches treated. features_recent_creation150\n",
      "26600/31748 matches treated. features_recent_creation150\n",
      "26700/31748 matches treated. features_recent_creation150\n",
      "26800/31748 matches treated. features_recent_creation150\n",
      "26900/31748 matches treated. features_recent_creation150\n",
      "27000/31748 matches treated. features_recent_creation150\n",
      "27100/31748 matches treated. features_recent_creation150\n",
      "27200/31748 matches treated. features_recent_creation150\n",
      "27300/31748 matches treated. features_recent_creation150\n",
      "27400/31748 matches treated. features_recent_creation150\n",
      "27500/31748 matches treated. features_recent_creation150\n",
      "27600/31748 matches treated. features_recent_creation150\n",
      "27700/31748 matches treated. features_recent_creation150\n",
      "27800/31748 matches treated. features_recent_creation150\n",
      "27900/31748 matches treated. features_recent_creation150\n",
      "28000/31748 matches treated. features_recent_creation150\n",
      "28100/31748 matches treated. features_recent_creation150\n",
      "28200/31748 matches treated. features_recent_creation150\n",
      "28300/31748 matches treated. features_recent_creation150\n",
      "28400/31748 matches treated. features_recent_creation150\n",
      "28500/31748 matches treated. features_recent_creation150\n",
      "28600/31748 matches treated. features_recent_creation150\n",
      "28700/31748 matches treated. features_recent_creation150\n",
      "28800/31748 matches treated. features_recent_creation150\n",
      "28900/31748 matches treated. features_recent_creation150\n"
     ]
    },
    {
     "name": "stdout",
     "output_type": "stream",
     "text": [
      "29000/31748 matches treated. features_recent_creation150\n",
      "29100/31748 matches treated. features_recent_creation150\n",
      "29200/31748 matches treated. features_recent_creation150\n",
      "29300/31748 matches treated. features_recent_creation150\n",
      "29400/31748 matches treated. features_recent_creation150\n",
      "29500/31748 matches treated. features_recent_creation150\n",
      "29600/31748 matches treated. features_recent_creation150\n",
      "29700/31748 matches treated. features_recent_creation150\n",
      "29800/31748 matches treated. features_recent_creation150\n",
      "29900/31748 matches treated. features_recent_creation150\n",
      "30000/31748 matches treated. features_recent_creation150\n",
      "30100/31748 matches treated. features_recent_creation150\n",
      "30200/31748 matches treated. features_recent_creation150\n",
      "30300/31748 matches treated. features_recent_creation150\n",
      "30400/31748 matches treated. features_recent_creation150\n",
      "30500/31748 matches treated. features_recent_creation150\n",
      "30600/31748 matches treated. features_recent_creation150\n",
      "30700/31748 matches treated. features_recent_creation150\n",
      "30800/31748 matches treated. features_recent_creation150\n",
      "30900/31748 matches treated. features_recent_creation150\n",
      "31000/31748 matches treated. features_recent_creation150\n",
      "31100/31748 matches treated. features_recent_creation150\n",
      "31200/31748 matches treated. features_recent_creation150\n",
      "31300/31748 matches treated. features_recent_creation150\n",
      "31400/31748 matches treated. features_recent_creation150\n",
      "31500/31748 matches treated. features_recent_creation150\n",
      "31600/31748 matches treated. features_recent_creation150\n",
      "31700/31748 matches treated. features_recent_creation150\n"
     ]
    }
   ],
   "source": [
    "#features_player      = features_past_generation(features_player_creation,5,\"playerft\",data,indices)\n",
    "#features_player_20   = features_past_generation(features_player_creation,20,\"playerft\",data,indices)\n",
    "\n",
    "#features_duo         = features_past_generation(features_duo_creation,150,\"duoft\",data,indices)\n",
    "#features_duo_300     = features_past_generation(features_duo_creation,300,\"duoft_300\",data,indices)\n",
    "\n",
    "#features_general     = features_past_generation(features_general_creation,150,\"generalft\",data,indices)\n",
    "#features_general_300 = features_past_generation(features_general_creation,300,\"generalft_300\",data,indices)\n",
    "\n",
    "features_recent      = features_past_generation(features_recent_creation,150,\"recentft\",data,indices)\n",
    "#features_recent_300  = features_past_generation(features_recent_creation,300,\"recentft_300\",data,indices)\n",
    "\n"
   ]
  },
  {
   "cell_type": "code",
   "execution_count": 50,
   "metadata": {
    "ExecuteTime": {
     "end_time": "2020-08-02T21:58:04.428684Z",
     "start_time": "2020-08-02T21:58:00.179334Z"
    }
   },
   "outputs": [],
   "source": [
    "players_encoded = features_players_encoding_2(data, indices)"
   ]
  },
  {
   "cell_type": "code",
   "execution_count": null,
   "metadata": {
    "ExecuteTime": {
     "end_time": "2020-08-02T19:13:06.970462Z",
     "start_time": "2020-08-02T19:13:06.955338Z"
    }
   },
   "outputs": [],
   "source": []
  },
  {
   "cell_type": "code",
   "execution_count": 23,
   "metadata": {
    "ExecuteTime": {
     "end_time": "2020-07-30T18:16:55.891074Z",
     "start_time": "2020-07-30T18:16:55.864914Z"
    }
   },
   "outputs": [],
   "source": [
    "# Putting together the features of 150 and 300 days\n",
    "features_recent = pd.concat([features_recent,features_recent_300], sort=False, axis=1)\n",
    "features_general = pd.concat([features_general,features_general_300], sort=False, axis=1)\n",
    "features_duo = pd.concat([features_duo,features_duo_300], sort=False, axis=1)"
   ]
  },
  {
   "cell_type": "code",
   "execution_count": 5,
   "metadata": {
    "ExecuteTime": {
     "end_time": "2020-08-02T17:53:11.847098Z",
     "start_time": "2020-08-02T17:53:11.826924Z"
    }
   },
   "outputs": [],
   "source": [
    "# save the features\n",
    "#dump(features_player,\"Generated Data/player_features\")\n",
    "#dump(features_player_20,\"Generated Data/player_features_20\")\n",
    "#dump(features_duo,\"Generated Data/duo_features\")\n",
    "#dump(features_general,\"Generated Data/general_features\")\n",
    "dump(features_recent,\"Generated Data/recent_features\")"
   ]
  },
  {
   "cell_type": "code",
   "execution_count": 31,
   "metadata": {
    "ExecuteTime": {
     "end_time": "2020-08-02T21:41:42.418770Z",
     "start_time": "2020-08-02T21:41:42.332918Z"
    }
   },
   "outputs": [],
   "source": [
    "\n",
    "# load features to go ahead\n",
    "features_player=load(\"Generated Data/player_features\")\n",
    "features_player_20=load(\"Generated Data/player_features_20\")\n",
    "features_duo=load(\"Generated Data/duo_features\")\n",
    "features_general=load(\"Generated Data/general_features\")\n",
    "features_recent=load(\"Generated Data/recent_features\")\n"
   ]
  },
  {
   "cell_type": "code",
   "execution_count": 7,
   "metadata": {
    "ExecuteTime": {
     "end_time": "2020-08-02T17:53:48.566797Z",
     "start_time": "2020-08-02T17:53:48.554989Z"
    }
   },
   "outputs": [
    {
     "data": {
      "text/plain": [
       "(63496, 11)"
      ]
     },
     "execution_count": 7,
     "metadata": {},
     "output_type": "execute_result"
    }
   ],
   "source": [
    "#features_general.shape\n",
    "features_recent.shape"
   ]
  },
  {
   "cell_type": "code",
   "execution_count": 12,
   "metadata": {
    "ExecuteTime": {
     "end_time": "2020-08-04T07:13:46.738735Z",
     "start_time": "2020-08-04T07:13:46.451724Z"
    }
   },
   "outputs": [],
   "source": [
    "data = data.iloc[indices,:].reset_index(drop=True)\n",
    "odds = data[[\"PSW\",\"PSL\"]]\n",
    "\n",
    "\n",
    "# odds feature\n",
    "features_odds = pd.Series(odds.values.flatten(),name=\"odds\")\n",
    "features_odds = pd.DataFrame(features_odds)"
   ]
  },
  {
   "cell_type": "code",
   "execution_count": 16,
   "metadata": {
    "ExecuteTime": {
     "end_time": "2020-08-04T07:17:00.573349Z",
     "start_time": "2020-08-04T07:16:58.593339Z"
    }
   },
   "outputs": [
    {
     "data": {
      "text/plain": [
       "array([ 1.212, -1.   ,  1.69 , ..., -1.   ,  2.   , -1.   ])"
      ]
     },
     "execution_count": 16,
     "metadata": {},
     "output_type": "execute_result"
    }
   ],
   "source": [
    "eval_odds = np.array(data[[\"PSW\",\"PSL\"]])\n",
    "for i in range(data.shape[0]):\n",
    "    if np.isnan(eval_odds[i,0]):\n",
    "        eval_odds[i,0] = 0\n",
    "        eval_odds[i,1] = 0\n",
    "    else:\n",
    "        eval_odds[i,1] = -1\n",
    "\n",
    "eval_odds_new = eval_odds.flatten()\n",
    "\n",
    "dump(eval_odds_new,\"Generated Data/eval_odds\")"
   ]
  },
  {
   "cell_type": "code",
   "execution_count": null,
   "metadata": {
    "ExecuteTime": {
     "end_time": "2020-08-04T07:17:13.847180Z",
     "start_time": "2020-08-04T07:17:13.751874Z"
    }
   },
   "outputs": [],
   "source": []
  },
  {
   "cell_type": "code",
   "execution_count": null,
   "metadata": {
    "ExecuteTime": {
     "end_time": "2020-08-04T06:59:07.241541Z",
     "start_time": "2020-08-04T06:59:07.194273Z"
    }
   },
   "outputs": [],
   "source": []
  },
  {
   "cell_type": "markdown",
   "metadata": {},
   "source": [
    "## Making opponents"
   ]
  },
  {
   "cell_type": "code",
   "execution_count": null,
   "metadata": {},
   "outputs": [],
   "source": []
  },
  {
   "cell_type": "markdown",
   "metadata": {
    "ExecuteTime": {
     "end_time": "2020-07-22T19:13:44.495250Z",
     "start_time": "2020-07-22T19:13:44.247636Z"
    }
   },
   "source": [
    "## Encoding of categorical features"
   ]
  },
  {
   "cell_type": "code",
   "execution_count": 51,
   "metadata": {
    "ExecuteTime": {
     "end_time": "2020-08-02T21:58:32.828170Z",
     "start_time": "2020-08-02T21:58:29.311917Z"
    }
   },
   "outputs": [],
   "source": [
    "#features_categorical = data[[\"Series\",\"Court\",\"Surface\",\"Round\",\"Best of\",\"Tournament\"]]\n",
    "features_categorical = data[[\"Series\",\"Court\",\"Surface\",\"Round\",\"Best of\"]]\n",
    "features_categorical_encoded = categorical_features_encoding(features_categorical)\n",
    "#players_encoded = features_players_encoding(data)\n",
    "players_encoded = features_players_encoding_2(data, indices)\n",
    "tournaments_encoded = features_tournaments_encoding(data)\n",
    "#features_onehot = pd.concat([features_categorical_encoded,players_encoded,tournaments_encoded],1)\n",
    "features_onehot = pd.concat([features_categorical_encoded,tournaments_encoded],1)"
   ]
  },
  {
   "cell_type": "markdown",
   "metadata": {},
   "source": []
  },
  {
   "cell_type": "markdown",
   "metadata": {
    "ExecuteTime": {
     "end_time": "2020-07-23T09:27:23.214677Z",
     "start_time": "2020-07-23T09:27:23.184725Z"
    }
   },
   "source": [
    "## Duplication of rows\n",
    "For the moment we have one row per match. \n",
    "We \"duplicate\" each row to have one row for each outcome of each match. \n",
    "Of course it isn't a simple duplication of  each row, we need to \"invert\" some features"
   ]
  },
  {
   "cell_type": "code",
   "execution_count": 52,
   "metadata": {
    "ExecuteTime": {
     "end_time": "2020-08-02T21:58:44.112861Z",
     "start_time": "2020-08-02T21:58:44.004703Z"
    }
   },
   "outputs": [],
   "source": [
    "# Categorical features\n",
    "features_onehot = pd.DataFrame(np.repeat(features_onehot.values,2, axis=0),columns=features_onehot.columns)"
   ]
  },
  {
   "cell_type": "code",
   "execution_count": 10,
   "metadata": {
    "ExecuteTime": {
     "end_time": "2020-08-02T20:16:36.221382Z",
     "start_time": "2020-08-02T20:16:36.215223Z"
    }
   },
   "outputs": [],
   "source": [
    "def make_opp_ft(feats):\n",
    "    '''\n",
    "    Takes the Features of a match and adds it to the opponent as as features_opp.\n",
    "    \n",
    "    Output:\n",
    "    -----------\n",
    "    gives back a Dataframe withe the features_opp only. \n",
    "    Not concat with the input features. \n",
    "    '''\n",
    "    feats_odd = feats.loc[range(1,feats.shape[0],2),:]\n",
    "    feats_odd.index = range(0,feats.shape[0],2)\n",
    "\n",
    "    feats_even = feats.loc[range(0,feats.shape[0],2),:]\n",
    "    feats_even.index = range(1,feats.shape[0],2)\n",
    "\n",
    "    feats_opp = pd.concat([feats_odd, feats_even]).sort_index(kind='merge')\n",
    "    col_names = list(feats.columns)\n",
    "    col_names_new = [x + '_opp' for x in col_names]\n",
    "    feats_opp.columns = col_names_new\n",
    "    \n",
    "    return feats_opp\n"
   ]
  },
  {
   "cell_type": "code",
   "execution_count": 24,
   "metadata": {
    "ExecuteTime": {
     "end_time": "2020-08-02T21:17:39.379156Z",
     "start_time": "2020-08-02T21:17:39.373277Z"
    }
   },
   "outputs": [
    {
     "ename": "SyntaxError",
     "evalue": "invalid syntax (<ipython-input-24-90d2a65c4071>, line 9)",
     "output_type": "error",
     "traceback": [
      "\u001b[0;36m  File \u001b[0;32m\"<ipython-input-24-90d2a65c4071>\"\u001b[0;36m, line \u001b[0;32m9\u001b[0m\n\u001b[0;31m    global(exec(new_feat_df_name + \" = 123\"))\u001b[0m\n\u001b[0m          ^\u001b[0m\n\u001b[0;31mSyntaxError\u001b[0m\u001b[0;31m:\u001b[0m invalid syntax\n"
     ]
    }
   ],
   "source": []
  },
  {
   "cell_type": "code",
   "execution_count": 53,
   "metadata": {
    "ExecuteTime": {
     "end_time": "2020-08-02T21:58:59.887401Z",
     "start_time": "2020-08-02T21:58:59.742233Z"
    }
   },
   "outputs": [],
   "source": [
    "# ------- player_ft\n",
    "feat_to_opp = features_player\n",
    "feat_ini = features_player\n",
    "feat_opped = make_opp_ft(feat_to_opp)\n",
    "features_player_opp = pd.concat([feat_ini, feat_opped], axis=1)\n",
    "\n",
    "# ------- player_ft 20\n",
    "feat_to_opp = features_player_20\n",
    "feat_ini = features_player_20\n",
    "feat_opped = make_opp_ft(feat_to_opp)\n",
    "features_player_20_opp = pd.concat([feat_ini, feat_opped], axis=1)\n",
    "\n",
    "# ------- recent ft\n",
    "feat_to_opp = features_recent\n",
    "feat_ini = features_recent\n",
    "feat_opped = make_opp_ft(feat_to_opp)\n",
    "features_recent_opp = pd.concat([feat_ini, feat_opped], axis=1)\n",
    "\n",
    "# ------- general ft\n",
    "feat_to_opp = features_general[list(features_general.columns)[9:12]]\n",
    "feat_ini = features_general\n",
    "feat_opped = make_opp_ft(feat_to_opp)\n",
    "features_general_opp = pd.concat([feat_ini, feat_opped], axis=1)\n",
    "\n",
    "# ------- general ft\n",
    "feat_to_opp = features_odds\n",
    "feat_ini = features_odds\n",
    "feat_opped = make_opp_ft(feat_to_opp)\n",
    "features_odds_opp = pd.concat([feat_ini, feat_opped], axis=1)"
   ]
  },
  {
   "cell_type": "code",
   "execution_count": null,
   "metadata": {
    "ExecuteTime": {
     "end_time": "2020-08-02T21:43:21.034559Z",
     "start_time": "2020-08-02T21:43:21.008402Z"
    }
   },
   "outputs": [],
   "source": []
  },
  {
   "cell_type": "raw",
   "metadata": {},
   "source": []
  },
  {
   "cell_type": "code",
   "execution_count": null,
   "metadata": {
    "ExecuteTime": {
     "end_time": "2020-08-02T21:37:32.217108Z",
     "start_time": "2020-08-02T21:37:32.210870Z"
    }
   },
   "outputs": [],
   "source": []
  },
  {
   "cell_type": "markdown",
   "metadata": {},
   "source": [
    "## Odd features\n",
    "We will put in for the moment. Due to the enormous influence of the odds on the results we will drop them for some models later to make our own opinion."
   ]
  },
  {
   "cell_type": "code",
   "execution_count": 40,
   "metadata": {
    "ExecuteTime": {
     "end_time": "2020-08-02T21:51:16.098722Z",
     "start_time": "2020-08-02T21:51:16.093233Z"
    }
   },
   "outputs": [],
   "source": [
    "# odds feature\n",
    "features_odds = pd.Series(odds.values.flatten(),name=\"odds\")\n",
    "features_odds = pd.DataFrame(features_odds)"
   ]
  },
  {
   "cell_type": "markdown",
   "metadata": {},
   "source": [
    "## Putting all together"
   ]
  },
  {
   "cell_type": "code",
   "execution_count": 61,
   "metadata": {
    "ExecuteTime": {
     "end_time": "2020-08-03T07:56:07.352188Z",
     "start_time": "2020-08-03T07:55:56.158491Z"
    }
   },
   "outputs": [],
   "source": [
    "### Building of the final dataset\n",
    "# You can remove some features to see the effect on the ROI\n",
    "features = pd.concat([features_odds_opp,\n",
    "                  features_onehot,\n",
    "                  features_player_opp,\n",
    "                  features_player_20_opp,\n",
    "                  features_duo,\n",
    "                  features_general_opp,\n",
    "                  players_encoded,\n",
    "                  features_recent_opp],1)\n",
    "\n",
    "#features.to_csv(\"../Generated Data/atp_data_features.csv\",index=True)\n",
    "dump(features,\"Generated Data/atp_data_features2\")"
   ]
  },
  {
   "cell_type": "code",
   "execution_count": 32,
   "metadata": {
    "ExecuteTime": {
     "end_time": "2020-07-30T18:35:58.088951Z",
     "start_time": "2020-07-30T18:35:56.909705Z"
    }
   },
   "outputs": [],
   "source": [
    "### Building of the final dataset\n",
    "# You can remove some features to see the effect on the ROI\n",
    "features = pd.concat([features_odds,\n",
    "                  features_onehot,\n",
    "                  features_player,\n",
    "                  features_duo,\n",
    "                  features_general,\n",
    "                  features_recent],1)\n",
    "\n",
    "#features.to_csv(\"../Generated Data/atp_data_features.csv\",index=True)\n",
    "#dump(data,\"Generated Data/atp_data_features\")"
   ]
  },
  {
   "cell_type": "code",
   "execution_count": 33,
   "metadata": {
    "ExecuteTime": {
     "end_time": "2020-07-30T18:39:48.098632Z",
     "start_time": "2020-07-30T18:39:48.094769Z"
    }
   },
   "outputs": [],
   "source": [
    "# - Have fun with the model building ! ;-)"
   ]
  },
  {
   "cell_type": "code",
   "execution_count": 60,
   "metadata": {
    "ExecuteTime": {
     "end_time": "2020-08-03T07:55:33.407464Z",
     "start_time": "2020-08-03T07:55:33.399639Z"
    }
   },
   "outputs": [
    {
     "data": {
      "text/plain": [
       "(63496, 2068)"
      ]
     },
     "execution_count": 60,
     "metadata": {},
     "output_type": "execute_result"
    }
   ],
   "source": [
    "features.shape"
   ]
  }
 ],
 "metadata": {
  "kernelspec": {
   "display_name": "Python [conda env:nf] *",
   "language": "python",
   "name": "conda-env-nf-py"
  },
  "language_info": {
   "codemirror_mode": {
    "name": "ipython",
    "version": 3
   },
   "file_extension": ".py",
   "mimetype": "text/x-python",
   "name": "python",
   "nbconvert_exporter": "python",
   "pygments_lexer": "ipython3",
   "version": "3.6.10"
  },
  "latex_envs": {
   "LaTeX_envs_menu_present": true,
   "autoclose": false,
   "autocomplete": true,
   "bibliofile": "biblio.bib",
   "cite_by": "apalike",
   "current_citInitial": 1,
   "eqLabelWithNumbers": true,
   "eqNumInitial": 1,
   "hotkeys": {
    "equation": "Ctrl-E",
    "itemize": "Ctrl-I"
   },
   "labels_anchors": false,
   "latex_user_defs": false,
   "report_style_numbering": false,
   "user_envs_cfg": false
  },
  "toc": {
   "base_numbering": 1,
   "nav_menu": {},
   "number_sections": true,
   "sideBar": true,
   "skip_h1_title": false,
   "title_cell": "Table of Contents",
   "title_sidebar": "Contents",
   "toc_cell": false,
   "toc_position": {
    "height": "calc(100% - 180px)",
    "left": "10px",
    "top": "150px",
    "width": "165.469px"
   },
   "toc_section_display": true,
   "toc_window_display": true
  },
  "varInspector": {
   "cols": {
    "lenName": 16,
    "lenType": 16,
    "lenVar": 40
   },
   "kernels_config": {
    "python": {
     "delete_cmd_postfix": "",
     "delete_cmd_prefix": "del ",
     "library": "var_list.py",
     "varRefreshCmd": "print(var_dic_list())"
    },
    "r": {
     "delete_cmd_postfix": ") ",
     "delete_cmd_prefix": "rm(",
     "library": "var_list.r",
     "varRefreshCmd": "cat(var_dic_list()) "
    }
   },
   "types_to_exclude": [
    "module",
    "function",
    "builtin_function_or_method",
    "instance",
    "_Feature"
   ],
   "window_display": false
  }
 },
 "nbformat": 4,
 "nbformat_minor": 4
}
