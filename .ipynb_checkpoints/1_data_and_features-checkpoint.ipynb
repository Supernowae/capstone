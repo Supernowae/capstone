{
 "cells": [
  {
   "cell_type": "code",
   "execution_count": 1,
   "metadata": {
    "ExecuteTime": {
     "end_time": "2020-08-02T19:10:23.264220Z",
     "start_time": "2020-08-02T19:10:22.192604Z"
    }
   },
   "outputs": [],
   "source": [
    "#!/usr/bin/env python3\n",
    "# -*- coding: utf-8 -*-\n",
    "from datetime import datetime,timedelta\n",
    "\n",
    "import os\n",
    "\n",
    "os.chdir('Python')\n",
    "from past_features import *\n",
    "from elo_features import *\n",
    "from categorical_features import *\n",
    "from utilities import *\n",
    "from additional_stuff import *\n",
    "os.chdir('../')\n",
    "import numpy as np\n",
    "import pandas as pd"
   ]
  },
  {
   "cell_type": "markdown",
   "metadata": {},
   "source": [
    "# Preprocessing\n",
    "\n",
    "## Load data\n",
    "The initial data was downloaded from [http://tennis-data.co.uk/alldata.php](http://tennis-data.co.uk/alldata.php) and stored in data folder. (Further work could be to automate this)\n",
    "\n",
    "At first load the data from the files and put them together in a dataframe"
   ]
  },
  {
   "cell_type": "code",
   "execution_count": 2,
   "metadata": {
    "ExecuteTime": {
     "end_time": "2020-08-02T12:38:11.871866Z",
     "start_time": "2020-08-02T12:38:01.451385Z"
    }
   },
   "outputs": [],
   "source": [
    "import glob\n",
    "#filenames=list(glob.glob(\"../Data/20*.xls*\"))\n",
    "filenames=list(glob.glob(\"Data/20*.xls*\"))\n",
    "l = [pd.read_excel(filename,encoding='latin-1') for filename in filenames]\n",
    "data=pd.concat(l,0,sort=False)\n",
    "\n",
    "data = data[list(data.columns)[:13]+[\"Wsets\",\"Lsets\",\"Comment\"] +[\"PSW\",\"PSL\",\"B365W\",\"B365L\"]]"
   ]
  },
  {
   "cell_type": "markdown",
   "metadata": {},
   "source": [
    "## Data Cleaning (#1)"
   ]
  },
  {
   "cell_type": "code",
   "execution_count": 3,
   "metadata": {
    "ExecuteTime": {
     "end_time": "2020-08-02T12:38:16.552562Z",
     "start_time": "2020-08-02T12:38:15.057325Z"
    }
   },
   "outputs": [],
   "source": [
    "### Data cleaning\n",
    "data=data.sort_values(\"Date\")\n",
    "data[\"WRank\"]=data[\"WRank\"].replace(np.nan,0)\n",
    "data[\"WRank\"]=data[\"WRank\"].replace(\"NR\",2000)\n",
    "data[\"LRank\"]=data[\"LRank\"].replace(np.nan,0)\n",
    "data[\"LRank\"]=data[\"LRank\"].replace(\"NR\",2000)\n",
    "data[\"WRank\"]=data[\"WRank\"].astype(int)\n",
    "data[\"LRank\"]=data[\"LRank\"].astype(int)\n",
    "data[\"Wsets\"]=data[\"Wsets\"].astype(float)\n",
    "data[\"Lsets\"]=data[\"Lsets\"].replace(\"`1\",1)\n",
    "data[\"Lsets\"]=data[\"Lsets\"].astype(float)\n",
    "\n",
    "data['Winner']=data['Winner'].str.strip()\n",
    "data['Loser']=data['Loser'].str.strip()\n",
    "\n",
    "# the dict 'names_to_correct' is in Python/additional_stuff.py\n",
    "data = data.replace(names_to_correct)\n",
    "\n",
    "data=data.reset_index(drop=True)\n",
    "\n",
    "### Storage of the raw dataset\n",
    "#data.to_csv(\"../Generated Data/atp_data_raw.csv\",index=False)\n",
    "#dump(data,\"../Generated Data/atp_data_raw\")\n",
    "dump(data,\"Generated Data/atp_data_raw\")"
   ]
  },
  {
   "cell_type": "markdown",
   "metadata": {
    "ExecuteTime": {
     "end_time": "2020-07-23T08:37:52.534008Z",
     "start_time": "2020-07-23T08:37:52.525030Z"
    }
   },
   "source": [
    "## Preproc. Elo-Rating\n",
    "\n",
    "The elo-score / elo-rating is a value that describes the performance in the past of the player. It takes into account the wins and losses in the past but also the performance of the opponent. So a success against a strong comtetitor has a larger gain as against a weak opponent. Further information on [Wiki](https://en.wikipedia.org/wiki/Elo_rating_system)\n",
    "\n",
    "The calculation-method of the elo-score is not unique and the algorithm is empirical with variats. Here is a rather simple implementation of the calculation. The *K-factor* e.g. is set constant to 32, and could be seen as *hyer-parameter*. (Working on that is for the future) \n",
    "\n",
    "The function is stored in [Python/elo_features.py](Python/elo_features.py)\n",
    "\n",
    "It figured out that this feature belongs to the most important ones in this project.\n",
    "\n",
    "(TODO: Create also Surface-dependant elo-scores for each underground)"
   ]
  },
  {
   "cell_type": "code",
   "execution_count": 4,
   "metadata": {
    "ExecuteTime": {
     "end_time": "2020-08-02T12:39:30.692153Z",
     "start_time": "2020-08-02T12:38:27.123764Z"
    }
   },
   "outputs": [
    {
     "name": "stdout",
     "output_type": "stream",
     "text": [
      "Elo rankings computing...\n",
      "5000 of 54908 matches computed...\n",
      "10000 of 54908 matches computed...\n",
      "15000 of 54908 matches computed...\n",
      "20000 of 54908 matches computed...\n",
      "25000 of 54908 matches computed...\n",
      "30000 of 54908 matches computed...\n",
      "35000 of 54908 matches computed...\n",
      "40000 of 54908 matches computed...\n",
      "45000 of 54908 matches computed...\n",
      "50000 of 54908 matches computed...\n",
      "Done! 54907 of 54908 matches computed...\n"
     ]
    }
   ],
   "source": [
    "### Elo rankings data\n",
    "\n",
    "# Computing of the elo ranking of each player at the beginning of each match.\n",
    "elo_rankings = compute_elo_rankings(data)\n",
    "data = pd.concat([data,elo_rankings],1)\n",
    "\n",
    "### Storage of the dataset with elo\n",
    "#data.to_csv(\"../Generated Data/atp_data.csv\",index=False)\n",
    "#dump(data,\"../Generated Data/atp_data\")\n",
    "dump(data,\"Generated Data/atp_data\")"
   ]
  },
  {
   "cell_type": "code",
   "execution_count": 6,
   "metadata": {
    "ExecuteTime": {
     "end_time": "2020-07-28T22:45:48.629945Z",
     "start_time": "2020-07-28T22:45:48.391933Z"
    }
   },
   "outputs": [],
   "source": [
    "#######################################################\n",
    "# Until here basic with elo                ############\n",
    "#######################################################"
   ]
  },
  {
   "cell_type": "code",
   "execution_count": 2,
   "metadata": {
    "ExecuteTime": {
     "end_time": "2020-08-02T19:10:31.349850Z",
     "start_time": "2020-08-02T19:10:31.309071Z"
    },
    "run_control": {
     "marked": false
    }
   },
   "outputs": [],
   "source": [
    "# Loading data if necessary\n",
    "\n",
    "#data = pd.read_csv(\"../Generated Data/atp_data.csv\")\n",
    "#data.Date = data.Date.apply(lambda x: datetime.datetime.strptime(x, '%Y-%m-%d'))\n",
    "#data = load(\"../Generated Data/atp_data\")\n",
    "data = load(\"Generated Data/atp_data\")"
   ]
  },
  {
   "cell_type": "markdown",
   "metadata": {},
   "source": [
    "Just for visual checking if data distribution is ok. Loading data sometimes gives strange datasets. \n",
    "An indication that something is wrong is when a year has only few matches (<1000). If something is wrong latest the splitting function will give errors.\n"
   ]
  },
  {
   "cell_type": "code",
   "execution_count": null,
   "metadata": {},
   "outputs": [],
   "source": [
    "data.groupby(pd.Grouper(key='Date',freq='Y')).agg('count')"
   ]
  },
  {
   "cell_type": "markdown",
   "metadata": {},
   "source": [
    "# Feature engineering"
   ]
  },
  {
   "cell_type": "markdown",
   "metadata": {},
   "source": [
    "## Selecting data to proceed\n",
    "For further procedure not all data is necessary. Of course it depends on how much we want to train on. \n",
    "The earlier data was primaly needed to calculate the elo-scores. Even we start here in 2008 there will remain more than 30k matches."
   ]
  },
  {
   "cell_type": "code",
   "execution_count": 3,
   "metadata": {
    "ExecuteTime": {
     "end_time": "2020-08-02T19:10:36.463367Z",
     "start_time": "2020-08-02T19:10:36.414175Z"
    }
   },
   "outputs": [],
   "source": [
    "#beg = datetime.datetime(2008,1,1) \n",
    "#end = data.Date.iloc[-1]\n",
    "#indices = data[(data.Date>beg)&(data.Date<=end)].index\n",
    "\n",
    "beg_year = 2008\n",
    "#beg_year = 2017\n",
    "indices = data[(data.Date.dt.year >= beg_year)].index"
   ]
  },
  {
   "cell_type": "markdown",
   "metadata": {},
   "source": [
    "## Calculate the other features\n",
    "Most features look in the past of the player and his performance. \n",
    "For the moment the most features analyze the past **150** and **300** days. \n",
    "I don't know if larger time spans may cause better results. The time span(s) is a kind of a hyperparameter.\n",
    "\n",
    "The functions below for the feature calculation is stored in [Python/past_features.py](Python/past_features.py)\n",
    "\n",
    "Note: There are cases where nothing is to say about the past. That means that *missing values / NaN* are produced in the features. Some classifieres can handle them (XGBoost) others not (AdaBoost with DecisionTree e.g.). These missing values will be filtered out later after splitting.\n",
    "\n",
    "(TODO: These functions take their time. It would be nice to run them in parallel to accelerate the building. I tried and gave up. It seems that it is not as easy to use *multiprocessing* or similar in an iPython enviroment. It would have to be outsourced to a py-file and run in a shell.)"
   ]
  },
  {
   "cell_type": "code",
   "execution_count": 4,
   "metadata": {
    "ExecuteTime": {
     "end_time": "2020-08-02T17:10:55.356623Z",
     "start_time": "2020-08-02T17:01:20.206729Z"
    }
   },
   "outputs": [
    {
     "name": "stdout",
     "output_type": "stream",
     "text": [
      "0/31748 matches treated. features_recent_creation150\n",
      "100/31748 matches treated. features_recent_creation150\n",
      "200/31748 matches treated. features_recent_creation150\n",
      "300/31748 matches treated. features_recent_creation150\n",
      "400/31748 matches treated. features_recent_creation150\n",
      "500/31748 matches treated. features_recent_creation150\n",
      "600/31748 matches treated. features_recent_creation150\n",
      "700/31748 matches treated. features_recent_creation150\n",
      "800/31748 matches treated. features_recent_creation150\n",
      "900/31748 matches treated. features_recent_creation150\n",
      "1000/31748 matches treated. features_recent_creation150\n",
      "1100/31748 matches treated. features_recent_creation150\n",
      "1200/31748 matches treated. features_recent_creation150\n",
      "1300/31748 matches treated. features_recent_creation150\n",
      "1400/31748 matches treated. features_recent_creation150\n",
      "1500/31748 matches treated. features_recent_creation150\n",
      "1600/31748 matches treated. features_recent_creation150\n",
      "1700/31748 matches treated. features_recent_creation150\n",
      "1800/31748 matches treated. features_recent_creation150\n",
      "1900/31748 matches treated. features_recent_creation150\n",
      "2000/31748 matches treated. features_recent_creation150\n",
      "2100/31748 matches treated. features_recent_creation150\n",
      "2200/31748 matches treated. features_recent_creation150\n",
      "2300/31748 matches treated. features_recent_creation150\n",
      "2400/31748 matches treated. features_recent_creation150\n",
      "2500/31748 matches treated. features_recent_creation150\n",
      "2600/31748 matches treated. features_recent_creation150\n",
      "2700/31748 matches treated. features_recent_creation150\n",
      "2800/31748 matches treated. features_recent_creation150\n",
      "2900/31748 matches treated. features_recent_creation150\n",
      "3000/31748 matches treated. features_recent_creation150\n",
      "3100/31748 matches treated. features_recent_creation150\n",
      "3200/31748 matches treated. features_recent_creation150\n",
      "3300/31748 matches treated. features_recent_creation150\n",
      "3400/31748 matches treated. features_recent_creation150\n",
      "3500/31748 matches treated. features_recent_creation150\n",
      "3600/31748 matches treated. features_recent_creation150\n",
      "3700/31748 matches treated. features_recent_creation150\n",
      "3800/31748 matches treated. features_recent_creation150\n",
      "3900/31748 matches treated. features_recent_creation150\n",
      "4000/31748 matches treated. features_recent_creation150\n",
      "4100/31748 matches treated. features_recent_creation150\n",
      "4200/31748 matches treated. features_recent_creation150\n",
      "4300/31748 matches treated. features_recent_creation150\n",
      "4400/31748 matches treated. features_recent_creation150\n",
      "4500/31748 matches treated. features_recent_creation150\n",
      "4600/31748 matches treated. features_recent_creation150\n",
      "4700/31748 matches treated. features_recent_creation150\n",
      "4800/31748 matches treated. features_recent_creation150\n",
      "4900/31748 matches treated. features_recent_creation150\n",
      "5000/31748 matches treated. features_recent_creation150\n",
      "5100/31748 matches treated. features_recent_creation150\n",
      "5200/31748 matches treated. features_recent_creation150\n",
      "5300/31748 matches treated. features_recent_creation150\n",
      "5400/31748 matches treated. features_recent_creation150\n",
      "5500/31748 matches treated. features_recent_creation150\n",
      "5600/31748 matches treated. features_recent_creation150\n",
      "5700/31748 matches treated. features_recent_creation150\n",
      "5800/31748 matches treated. features_recent_creation150\n",
      "5900/31748 matches treated. features_recent_creation150\n",
      "6000/31748 matches treated. features_recent_creation150\n",
      "6100/31748 matches treated. features_recent_creation150\n",
      "6200/31748 matches treated. features_recent_creation150\n",
      "6300/31748 matches treated. features_recent_creation150\n",
      "6400/31748 matches treated. features_recent_creation150\n",
      "6500/31748 matches treated. features_recent_creation150\n",
      "6600/31748 matches treated. features_recent_creation150\n",
      "6700/31748 matches treated. features_recent_creation150\n",
      "6800/31748 matches treated. features_recent_creation150\n",
      "6900/31748 matches treated. features_recent_creation150\n",
      "7000/31748 matches treated. features_recent_creation150\n",
      "7100/31748 matches treated. features_recent_creation150\n",
      "7200/31748 matches treated. features_recent_creation150\n",
      "7300/31748 matches treated. features_recent_creation150\n",
      "7400/31748 matches treated. features_recent_creation150\n",
      "7500/31748 matches treated. features_recent_creation150\n",
      "7600/31748 matches treated. features_recent_creation150\n",
      "7700/31748 matches treated. features_recent_creation150\n",
      "7800/31748 matches treated. features_recent_creation150\n",
      "7900/31748 matches treated. features_recent_creation150\n",
      "8000/31748 matches treated. features_recent_creation150\n",
      "8100/31748 matches treated. features_recent_creation150\n",
      "8200/31748 matches treated. features_recent_creation150\n",
      "8300/31748 matches treated. features_recent_creation150\n",
      "8400/31748 matches treated. features_recent_creation150\n",
      "8500/31748 matches treated. features_recent_creation150\n",
      "8600/31748 matches treated. features_recent_creation150\n",
      "8700/31748 matches treated. features_recent_creation150\n",
      "8800/31748 matches treated. features_recent_creation150\n",
      "8900/31748 matches treated. features_recent_creation150\n",
      "9000/31748 matches treated. features_recent_creation150\n",
      "9100/31748 matches treated. features_recent_creation150\n",
      "9200/31748 matches treated. features_recent_creation150\n",
      "9300/31748 matches treated. features_recent_creation150\n",
      "9400/31748 matches treated. features_recent_creation150\n",
      "9500/31748 matches treated. features_recent_creation150\n",
      "9600/31748 matches treated. features_recent_creation150\n",
      "9700/31748 matches treated. features_recent_creation150\n",
      "9800/31748 matches treated. features_recent_creation150\n",
      "9900/31748 matches treated. features_recent_creation150\n",
      "10000/31748 matches treated. features_recent_creation150\n",
      "10100/31748 matches treated. features_recent_creation150\n",
      "10200/31748 matches treated. features_recent_creation150\n",
      "10300/31748 matches treated. features_recent_creation150\n",
      "10400/31748 matches treated. features_recent_creation150\n",
      "10500/31748 matches treated. features_recent_creation150\n",
      "10600/31748 matches treated. features_recent_creation150\n",
      "10700/31748 matches treated. features_recent_creation150\n",
      "10800/31748 matches treated. features_recent_creation150\n",
      "10900/31748 matches treated. features_recent_creation150\n",
      "11000/31748 matches treated. features_recent_creation150\n",
      "11100/31748 matches treated. features_recent_creation150\n",
      "11200/31748 matches treated. features_recent_creation150\n",
      "11300/31748 matches treated. features_recent_creation150\n",
      "11400/31748 matches treated. features_recent_creation150\n",
      "11500/31748 matches treated. features_recent_creation150\n",
      "11600/31748 matches treated. features_recent_creation150\n",
      "11700/31748 matches treated. features_recent_creation150\n",
      "11800/31748 matches treated. features_recent_creation150\n",
      "11900/31748 matches treated. features_recent_creation150\n",
      "12000/31748 matches treated. features_recent_creation150\n",
      "12100/31748 matches treated. features_recent_creation150\n",
      "12200/31748 matches treated. features_recent_creation150\n",
      "12300/31748 matches treated. features_recent_creation150\n",
      "12400/31748 matches treated. features_recent_creation150\n",
      "12500/31748 matches treated. features_recent_creation150\n",
      "12600/31748 matches treated. features_recent_creation150\n",
      "12700/31748 matches treated. features_recent_creation150\n",
      "12800/31748 matches treated. features_recent_creation150\n",
      "12900/31748 matches treated. features_recent_creation150\n",
      "13000/31748 matches treated. features_recent_creation150\n",
      "13100/31748 matches treated. features_recent_creation150\n",
      "13200/31748 matches treated. features_recent_creation150\n",
      "13300/31748 matches treated. features_recent_creation150\n",
      "13400/31748 matches treated. features_recent_creation150\n",
      "13500/31748 matches treated. features_recent_creation150\n",
      "13600/31748 matches treated. features_recent_creation150\n",
      "13700/31748 matches treated. features_recent_creation150\n",
      "13800/31748 matches treated. features_recent_creation150\n",
      "13900/31748 matches treated. features_recent_creation150\n",
      "14000/31748 matches treated. features_recent_creation150\n",
      "14100/31748 matches treated. features_recent_creation150\n",
      "14200/31748 matches treated. features_recent_creation150\n",
      "14300/31748 matches treated. features_recent_creation150\n",
      "14400/31748 matches treated. features_recent_creation150\n",
      "14500/31748 matches treated. features_recent_creation150\n"
     ]
    },
    {
     "name": "stdout",
     "output_type": "stream",
     "text": [
      "14600/31748 matches treated. features_recent_creation150\n",
      "14700/31748 matches treated. features_recent_creation150\n",
      "14800/31748 matches treated. features_recent_creation150\n",
      "14900/31748 matches treated. features_recent_creation150\n",
      "15000/31748 matches treated. features_recent_creation150\n",
      "15100/31748 matches treated. features_recent_creation150\n",
      "15200/31748 matches treated. features_recent_creation150\n",
      "15300/31748 matches treated. features_recent_creation150\n",
      "15400/31748 matches treated. features_recent_creation150\n",
      "15500/31748 matches treated. features_recent_creation150\n",
      "15600/31748 matches treated. features_recent_creation150\n",
      "15700/31748 matches treated. features_recent_creation150\n",
      "15800/31748 matches treated. features_recent_creation150\n",
      "15900/31748 matches treated. features_recent_creation150\n",
      "16000/31748 matches treated. features_recent_creation150\n",
      "16100/31748 matches treated. features_recent_creation150\n",
      "16200/31748 matches treated. features_recent_creation150\n",
      "16300/31748 matches treated. features_recent_creation150\n",
      "16400/31748 matches treated. features_recent_creation150\n",
      "16500/31748 matches treated. features_recent_creation150\n",
      "16600/31748 matches treated. features_recent_creation150\n",
      "16700/31748 matches treated. features_recent_creation150\n",
      "16800/31748 matches treated. features_recent_creation150\n",
      "16900/31748 matches treated. features_recent_creation150\n",
      "17000/31748 matches treated. features_recent_creation150\n",
      "17100/31748 matches treated. features_recent_creation150\n",
      "17200/31748 matches treated. features_recent_creation150\n",
      "17300/31748 matches treated. features_recent_creation150\n",
      "17400/31748 matches treated. features_recent_creation150\n",
      "17500/31748 matches treated. features_recent_creation150\n",
      "17600/31748 matches treated. features_recent_creation150\n",
      "17700/31748 matches treated. features_recent_creation150\n",
      "17800/31748 matches treated. features_recent_creation150\n",
      "17900/31748 matches treated. features_recent_creation150\n",
      "18000/31748 matches treated. features_recent_creation150\n",
      "18100/31748 matches treated. features_recent_creation150\n",
      "18200/31748 matches treated. features_recent_creation150\n",
      "18300/31748 matches treated. features_recent_creation150\n",
      "18400/31748 matches treated. features_recent_creation150\n",
      "18500/31748 matches treated. features_recent_creation150\n",
      "18600/31748 matches treated. features_recent_creation150\n",
      "18700/31748 matches treated. features_recent_creation150\n",
      "18800/31748 matches treated. features_recent_creation150\n",
      "18900/31748 matches treated. features_recent_creation150\n",
      "19000/31748 matches treated. features_recent_creation150\n",
      "19100/31748 matches treated. features_recent_creation150\n",
      "19200/31748 matches treated. features_recent_creation150\n",
      "19300/31748 matches treated. features_recent_creation150\n",
      "19400/31748 matches treated. features_recent_creation150\n",
      "19500/31748 matches treated. features_recent_creation150\n",
      "19600/31748 matches treated. features_recent_creation150\n",
      "19700/31748 matches treated. features_recent_creation150\n",
      "19800/31748 matches treated. features_recent_creation150\n",
      "19900/31748 matches treated. features_recent_creation150\n",
      "20000/31748 matches treated. features_recent_creation150\n",
      "20100/31748 matches treated. features_recent_creation150\n",
      "20200/31748 matches treated. features_recent_creation150\n",
      "20300/31748 matches treated. features_recent_creation150\n",
      "20400/31748 matches treated. features_recent_creation150\n",
      "20500/31748 matches treated. features_recent_creation150\n",
      "20600/31748 matches treated. features_recent_creation150\n",
      "20700/31748 matches treated. features_recent_creation150\n",
      "20800/31748 matches treated. features_recent_creation150\n",
      "20900/31748 matches treated. features_recent_creation150\n",
      "21000/31748 matches treated. features_recent_creation150\n",
      "21100/31748 matches treated. features_recent_creation150\n",
      "21200/31748 matches treated. features_recent_creation150\n",
      "21300/31748 matches treated. features_recent_creation150\n",
      "21400/31748 matches treated. features_recent_creation150\n",
      "21500/31748 matches treated. features_recent_creation150\n",
      "21600/31748 matches treated. features_recent_creation150\n",
      "21700/31748 matches treated. features_recent_creation150\n",
      "21800/31748 matches treated. features_recent_creation150\n",
      "21900/31748 matches treated. features_recent_creation150\n",
      "22000/31748 matches treated. features_recent_creation150\n",
      "22100/31748 matches treated. features_recent_creation150\n",
      "22200/31748 matches treated. features_recent_creation150\n",
      "22300/31748 matches treated. features_recent_creation150\n",
      "22400/31748 matches treated. features_recent_creation150\n",
      "22500/31748 matches treated. features_recent_creation150\n",
      "22600/31748 matches treated. features_recent_creation150\n",
      "22700/31748 matches treated. features_recent_creation150\n",
      "22800/31748 matches treated. features_recent_creation150\n",
      "22900/31748 matches treated. features_recent_creation150\n",
      "23000/31748 matches treated. features_recent_creation150\n",
      "23100/31748 matches treated. features_recent_creation150\n",
      "23200/31748 matches treated. features_recent_creation150\n",
      "23300/31748 matches treated. features_recent_creation150\n",
      "23400/31748 matches treated. features_recent_creation150\n",
      "23500/31748 matches treated. features_recent_creation150\n",
      "23600/31748 matches treated. features_recent_creation150\n",
      "23700/31748 matches treated. features_recent_creation150\n",
      "23800/31748 matches treated. features_recent_creation150\n",
      "23900/31748 matches treated. features_recent_creation150\n",
      "24000/31748 matches treated. features_recent_creation150\n",
      "24100/31748 matches treated. features_recent_creation150\n",
      "24200/31748 matches treated. features_recent_creation150\n",
      "24300/31748 matches treated. features_recent_creation150\n",
      "24400/31748 matches treated. features_recent_creation150\n",
      "24500/31748 matches treated. features_recent_creation150\n",
      "24600/31748 matches treated. features_recent_creation150\n",
      "24700/31748 matches treated. features_recent_creation150\n",
      "24800/31748 matches treated. features_recent_creation150\n",
      "24900/31748 matches treated. features_recent_creation150\n",
      "25000/31748 matches treated. features_recent_creation150\n",
      "25100/31748 matches treated. features_recent_creation150\n",
      "25200/31748 matches treated. features_recent_creation150\n",
      "25300/31748 matches treated. features_recent_creation150\n",
      "25400/31748 matches treated. features_recent_creation150\n",
      "25500/31748 matches treated. features_recent_creation150\n",
      "25600/31748 matches treated. features_recent_creation150\n",
      "25700/31748 matches treated. features_recent_creation150\n",
      "25800/31748 matches treated. features_recent_creation150\n",
      "25900/31748 matches treated. features_recent_creation150\n",
      "26000/31748 matches treated. features_recent_creation150\n",
      "26100/31748 matches treated. features_recent_creation150\n",
      "26200/31748 matches treated. features_recent_creation150\n",
      "26300/31748 matches treated. features_recent_creation150\n",
      "26400/31748 matches treated. features_recent_creation150\n",
      "26500/31748 matches treated. features_recent_creation150\n",
      "26600/31748 matches treated. features_recent_creation150\n",
      "26700/31748 matches treated. features_recent_creation150\n",
      "26800/31748 matches treated. features_recent_creation150\n",
      "26900/31748 matches treated. features_recent_creation150\n",
      "27000/31748 matches treated. features_recent_creation150\n",
      "27100/31748 matches treated. features_recent_creation150\n",
      "27200/31748 matches treated. features_recent_creation150\n",
      "27300/31748 matches treated. features_recent_creation150\n",
      "27400/31748 matches treated. features_recent_creation150\n",
      "27500/31748 matches treated. features_recent_creation150\n",
      "27600/31748 matches treated. features_recent_creation150\n",
      "27700/31748 matches treated. features_recent_creation150\n",
      "27800/31748 matches treated. features_recent_creation150\n",
      "27900/31748 matches treated. features_recent_creation150\n",
      "28000/31748 matches treated. features_recent_creation150\n",
      "28100/31748 matches treated. features_recent_creation150\n",
      "28200/31748 matches treated. features_recent_creation150\n",
      "28300/31748 matches treated. features_recent_creation150\n",
      "28400/31748 matches treated. features_recent_creation150\n",
      "28500/31748 matches treated. features_recent_creation150\n",
      "28600/31748 matches treated. features_recent_creation150\n",
      "28700/31748 matches treated. features_recent_creation150\n",
      "28800/31748 matches treated. features_recent_creation150\n",
      "28900/31748 matches treated. features_recent_creation150\n"
     ]
    },
    {
     "name": "stdout",
     "output_type": "stream",
     "text": [
      "29000/31748 matches treated. features_recent_creation150\n",
      "29100/31748 matches treated. features_recent_creation150\n",
      "29200/31748 matches treated. features_recent_creation150\n",
      "29300/31748 matches treated. features_recent_creation150\n",
      "29400/31748 matches treated. features_recent_creation150\n",
      "29500/31748 matches treated. features_recent_creation150\n",
      "29600/31748 matches treated. features_recent_creation150\n",
      "29700/31748 matches treated. features_recent_creation150\n",
      "29800/31748 matches treated. features_recent_creation150\n",
      "29900/31748 matches treated. features_recent_creation150\n",
      "30000/31748 matches treated. features_recent_creation150\n",
      "30100/31748 matches treated. features_recent_creation150\n",
      "30200/31748 matches treated. features_recent_creation150\n",
      "30300/31748 matches treated. features_recent_creation150\n",
      "30400/31748 matches treated. features_recent_creation150\n",
      "30500/31748 matches treated. features_recent_creation150\n",
      "30600/31748 matches treated. features_recent_creation150\n",
      "30700/31748 matches treated. features_recent_creation150\n",
      "30800/31748 matches treated. features_recent_creation150\n",
      "30900/31748 matches treated. features_recent_creation150\n",
      "31000/31748 matches treated. features_recent_creation150\n",
      "31100/31748 matches treated. features_recent_creation150\n",
      "31200/31748 matches treated. features_recent_creation150\n",
      "31300/31748 matches treated. features_recent_creation150\n",
      "31400/31748 matches treated. features_recent_creation150\n",
      "31500/31748 matches treated. features_recent_creation150\n",
      "31600/31748 matches treated. features_recent_creation150\n",
      "31700/31748 matches treated. features_recent_creation150\n"
     ]
    }
   ],
   "source": [
    "#features_player      = features_past_generation(features_player_creation,5,\"playerft\",data,indices)\n",
    "#features_player_20   = features_past_generation(features_player_creation,20,\"playerft\",data,indices)\n",
    "\n",
    "#features_duo         = features_past_generation(features_duo_creation,150,\"duoft\",data,indices)\n",
    "#features_duo_300     = features_past_generation(features_duo_creation,300,\"duoft_300\",data,indices)\n",
    "\n",
    "#features_general     = features_past_generation(features_general_creation,150,\"generalft\",data,indices)\n",
    "#features_general_300 = features_past_generation(features_general_creation,300,\"generalft_300\",data,indices)\n",
    "\n",
    "features_recent      = features_past_generation(features_recent_creation,150,\"recentft\",data,indices)\n",
    "#features_recent_300  = features_past_generation(features_recent_creation,300,\"recentft_300\",data,indices)\n",
    "\n"
   ]
  },
  {
   "cell_type": "code",
   "execution_count": 4,
   "metadata": {
    "ExecuteTime": {
     "end_time": "2020-08-02T19:10:45.152646Z",
     "start_time": "2020-08-02T19:10:41.753432Z"
    }
   },
   "outputs": [],
   "source": [
    "players_encoded = features_players_encoding_2(data, indices)"
   ]
  },
  {
   "cell_type": "code",
   "execution_count": null,
   "metadata": {
    "ExecuteTime": {
     "end_time": "2020-08-02T19:13:06.970462Z",
     "start_time": "2020-08-02T19:13:06.955338Z"
    }
   },
   "outputs": [],
   "source": []
  },
  {
   "cell_type": "code",
   "execution_count": 23,
   "metadata": {
    "ExecuteTime": {
     "end_time": "2020-07-30T18:16:55.891074Z",
     "start_time": "2020-07-30T18:16:55.864914Z"
    }
   },
   "outputs": [],
   "source": [
    "# Putting together the features of 150 and 300 days\n",
    "features_recent = pd.concat([features_recent,features_recent_300], sort=False, axis=1)\n",
    "features_general = pd.concat([features_general,features_general_300], sort=False, axis=1)\n",
    "features_duo = pd.concat([features_duo,features_duo_300], sort=False, axis=1)"
   ]
  },
  {
   "cell_type": "code",
   "execution_count": 5,
   "metadata": {
    "ExecuteTime": {
     "end_time": "2020-08-02T17:53:11.847098Z",
     "start_time": "2020-08-02T17:53:11.826924Z"
    }
   },
   "outputs": [],
   "source": [
    "# save the features\n",
    "#dump(features_player,\"Generated Data/player_features\")\n",
    "#dump(features_player_20,\"Generated Data/player_features_20\")\n",
    "#dump(features_duo,\"Generated Data/duo_features\")\n",
    "#dump(features_general,\"Generated Data/general_features\")\n",
    "dump(features_recent,\"Generated Data/recent_features\")"
   ]
  },
  {
   "cell_type": "code",
   "execution_count": 6,
   "metadata": {
    "ExecuteTime": {
     "end_time": "2020-08-02T17:53:40.580905Z",
     "start_time": "2020-08-02T17:53:40.546209Z"
    }
   },
   "outputs": [],
   "source": [
    "\n",
    "# load features to go ahead\n",
    "features_player=load(\"Generated Data/player_features\")\n",
    "features_player_20=load(\"Generated Data/player_features_20\")\n",
    "features_duo=load(\"Generated Data/duo_features\")\n",
    "features_general=load(\"Generated Data/general_features\")\n",
    "features_recent=load(\"Generated Data/recent_features\")\n"
   ]
  },
  {
   "cell_type": "code",
   "execution_count": 7,
   "metadata": {
    "ExecuteTime": {
     "end_time": "2020-08-02T17:53:48.566797Z",
     "start_time": "2020-08-02T17:53:48.554989Z"
    }
   },
   "outputs": [
    {
     "data": {
      "text/plain": [
       "(63496, 11)"
      ]
     },
     "execution_count": 7,
     "metadata": {},
     "output_type": "execute_result"
    }
   ],
   "source": [
    "#features_general.shape\n",
    "features_recent.shape"
   ]
  },
  {
   "cell_type": "code",
   "execution_count": 25,
   "metadata": {
    "ExecuteTime": {
     "end_time": "2020-07-30T18:17:09.375518Z",
     "start_time": "2020-07-30T18:17:09.352088Z"
    }
   },
   "outputs": [],
   "source": [
    "data = data.iloc[indices,:].reset_index(drop=True)\n",
    "odds = data[[\"PSW\",\"PSL\"]]"
   ]
  },
  {
   "cell_type": "markdown",
   "metadata": {},
   "source": [
    "## Making opponents"
   ]
  },
  {
   "cell_type": "code",
   "execution_count": null,
   "metadata": {},
   "outputs": [],
   "source": []
  },
  {
   "cell_type": "markdown",
   "metadata": {
    "ExecuteTime": {
     "end_time": "2020-07-22T19:13:44.495250Z",
     "start_time": "2020-07-22T19:13:44.247636Z"
    }
   },
   "source": [
    "## Encoding of categorical features"
   ]
  },
  {
   "cell_type": "code",
   "execution_count": 26,
   "metadata": {
    "ExecuteTime": {
     "end_time": "2020-07-30T18:19:40.110682Z",
     "start_time": "2020-07-30T18:19:39.362065Z"
    }
   },
   "outputs": [],
   "source": [
    "#features_categorical = data[[\"Series\",\"Court\",\"Surface\",\"Round\",\"Best of\",\"Tournament\"]]\n",
    "features_categorical = data[[\"Series\",\"Court\",\"Surface\",\"Round\",\"Best of\"]]\n",
    "features_categorical_encoded = categorical_features_encoding(features_categorical)\n",
    "#players_encoded = features_players_encoding(data)\n",
    "players_encoded = features_players_encoding_2(data, indices)\n",
    "tournaments_encoded = features_tournaments_encoding(data)\n",
    "#features_onehot = pd.concat([features_categorical_encoded,players_encoded,tournaments_encoded],1)\n",
    "features_onehot = pd.concat([features_categorical_encoded,tournaments_encoded],1)"
   ]
  },
  {
   "cell_type": "markdown",
   "metadata": {},
   "source": []
  },
  {
   "cell_type": "markdown",
   "metadata": {
    "ExecuteTime": {
     "end_time": "2020-07-23T09:27:23.214677Z",
     "start_time": "2020-07-23T09:27:23.184725Z"
    }
   },
   "source": [
    "## Duplication of rows\n",
    "For the moment we have one row per match. \n",
    "We \"duplicate\" each row to have one row for each outcome of each match. \n",
    "Of course it isn't a simple duplication of  each row, we need to \"invert\" some features"
   ]
  },
  {
   "cell_type": "code",
   "execution_count": 30,
   "metadata": {
    "ExecuteTime": {
     "end_time": "2020-07-30T18:34:55.720822Z",
     "start_time": "2020-07-30T18:34:53.884368Z"
    }
   },
   "outputs": [],
   "source": [
    "# Categorical features\n",
    "features_onehot = pd.DataFrame(np.repeat(features_onehot.values,2, axis=0),columns=features_onehot.columns)"
   ]
  },
  {
   "cell_type": "code",
   "execution_count": 10,
   "metadata": {
    "ExecuteTime": {
     "end_time": "2020-08-02T20:16:36.221382Z",
     "start_time": "2020-08-02T20:16:36.215223Z"
    }
   },
   "outputs": [],
   "source": [
    "def make_opp_ft(feats):\n",
    "    '''\n",
    "    Takes the Features of a match and adds it to the opponent as as features_opp.\n",
    "    \n",
    "    Output:\n",
    "    -----------\n",
    "    gives back a Dataframe withe the features_opp only. \n",
    "    Not concat with the input features. \n",
    "    '''\n",
    "    feats_odd = feats.loc[range(1,feats.shape[0],2),:]\n",
    "    feats_odd.index = range(0,feats.shape[0],2)\n",
    "\n",
    "    feats_even = feats.loc[range(0,feats.shape[0],2),:]\n",
    "    feats_even.index = range(1,feats.shape[0],2)\n",
    "\n",
    "    feats_opp = pd.concat([feats_odd, feats_even]).sort_index(kind='merge')\n",
    "    col_names = list(feats.columns)\n",
    "    col_names_new = [x + '_opp' for x in col_names]\n",
    "    feats_opp.columns = col_names_new\n",
    "    \n",
    "    return feats_opp\n"
   ]
  },
  {
   "cell_type": "code",
   "execution_count": 19,
   "metadata": {
    "ExecuteTime": {
     "end_time": "2020-08-02T21:08:39.369789Z",
     "start_time": "2020-08-02T21:08:39.365571Z"
    }
   },
   "outputs": [],
   "source": [
    "def opp_feature(feat_to_opp, new_feat_df_name):\n",
    "    \n",
    "    if new_feat_df_name in globals():\n",
    "        print('check')\n",
    "    else:\n",
    "        print('nope')\n",
    "        vars()[new_feat_df_name] = 123\n",
    "        print(new_feat_df_name)"
   ]
  },
  {
   "cell_type": "code",
   "execution_count": 20,
   "metadata": {
    "ExecuteTime": {
     "end_time": "2020-08-02T21:08:42.429247Z",
     "start_time": "2020-08-02T21:08:42.421732Z"
    }
   },
   "outputs": [
    {
     "name": "stdout",
     "output_type": "stream",
     "text": [
      "nope\n",
      "data2\n"
     ]
    }
   ],
   "source": [
    "# ------- player_ft\n",
    "#feat_to_opp = \n",
    "opp_feature(data, 'data2')"
   ]
  },
  {
   "cell_type": "raw",
   "metadata": {},
   "source": []
  },
  {
   "cell_type": "code",
   "execution_count": null,
   "metadata": {},
   "outputs": [],
   "source": []
  },
  {
   "cell_type": "markdown",
   "metadata": {},
   "source": [
    "## Odd features\n",
    "We will put in for the moment. Due to the enormous influence of the odds on the results we will drop them for some models later to make our own opinion."
   ]
  },
  {
   "cell_type": "code",
   "execution_count": 31,
   "metadata": {
    "ExecuteTime": {
     "end_time": "2020-07-30T18:35:52.235467Z",
     "start_time": "2020-07-30T18:35:52.229492Z"
    }
   },
   "outputs": [],
   "source": [
    "# odds feature\n",
    "features_odds = pd.Series(odds.values.flatten(),name=\"odds\")\n",
    "features_odds = pd.DataFrame(features_odds)"
   ]
  },
  {
   "cell_type": "markdown",
   "metadata": {},
   "source": [
    "## Putting all together"
   ]
  },
  {
   "cell_type": "code",
   "execution_count": 32,
   "metadata": {
    "ExecuteTime": {
     "end_time": "2020-07-30T18:35:58.088951Z",
     "start_time": "2020-07-30T18:35:56.909705Z"
    }
   },
   "outputs": [],
   "source": [
    "### Building of the final dataset\n",
    "# You can remove some features to see the effect on the ROI\n",
    "features = pd.concat([features_odds,\n",
    "                  features_onehot,\n",
    "                  features_player,\n",
    "                  features_duo,\n",
    "                  features_general,\n",
    "                  features_recent],1)\n",
    "\n",
    "#features.to_csv(\"../Generated Data/atp_data_features.csv\",index=True)\n",
    "dump(data,\"Generated Data/atp_data_features\")"
   ]
  },
  {
   "cell_type": "code",
   "execution_count": 33,
   "metadata": {
    "ExecuteTime": {
     "end_time": "2020-07-30T18:39:48.098632Z",
     "start_time": "2020-07-30T18:39:48.094769Z"
    }
   },
   "outputs": [],
   "source": [
    "# - Have fun with the model building ! ;-)"
   ]
  },
  {
   "cell_type": "code",
   "execution_count": 9,
   "metadata": {
    "ExecuteTime": {
     "end_time": "2020-08-02T18:51:47.437337Z",
     "start_time": "2020-08-02T18:51:47.411954Z"
    }
   },
   "outputs": [
    {
     "data": {
      "text/html": [
       "<div>\n",
       "<style scoped>\n",
       "    .dataframe tbody tr th:only-of-type {\n",
       "        vertical-align: middle;\n",
       "    }\n",
       "\n",
       "    .dataframe tbody tr th {\n",
       "        vertical-align: top;\n",
       "    }\n",
       "\n",
       "    .dataframe thead th {\n",
       "        text-align: right;\n",
       "    }\n",
       "</style>\n",
       "<table border=\"1\" class=\"dataframe\">\n",
       "  <thead>\n",
       "    <tr style=\"text-align: right;\">\n",
       "      <th></th>\n",
       "      <th>Winner</th>\n",
       "      <th>Loser</th>\n",
       "    </tr>\n",
       "  </thead>\n",
       "  <tbody>\n",
       "    <tr>\n",
       "      <th>23160</th>\n",
       "      <td>Murray A.</td>\n",
       "      <td>Rochus O.</td>\n",
       "    </tr>\n",
       "    <tr>\n",
       "      <th>23161</th>\n",
       "      <td>Garcia-Lopez G.</td>\n",
       "      <td>Peya A.</td>\n",
       "    </tr>\n",
       "    <tr>\n",
       "      <th>23162</th>\n",
       "      <td>Vliegen K.</td>\n",
       "      <td>Gicquel M.</td>\n",
       "    </tr>\n",
       "    <tr>\n",
       "      <th>23163</th>\n",
       "      <td>Haase R.</td>\n",
       "      <td>Baghdatis M.</td>\n",
       "    </tr>\n",
       "    <tr>\n",
       "      <th>23164</th>\n",
       "      <td>Schuettler R.</td>\n",
       "      <td>Pavel A.</td>\n",
       "    </tr>\n",
       "    <tr>\n",
       "      <th>23165</th>\n",
       "      <td>Zovko L.</td>\n",
       "      <td>Ascione T.</td>\n",
       "    </tr>\n",
       "    <tr>\n",
       "      <th>23166</th>\n",
       "      <td>Nadal R.</td>\n",
       "      <td>Montcourt M.</td>\n",
       "    </tr>\n",
       "    <tr>\n",
       "      <th>23167</th>\n",
       "      <td>Mahut N.</td>\n",
       "      <td>Haase R.</td>\n",
       "    </tr>\n",
       "    <tr>\n",
       "      <th>23168</th>\n",
       "      <td>Moya C.</td>\n",
       "      <td>Gabashvili T.</td>\n",
       "    </tr>\n",
       "    <tr>\n",
       "      <th>23169</th>\n",
       "      <td>Cilic M.</td>\n",
       "      <td>Troicki V.</td>\n",
       "    </tr>\n",
       "    <tr>\n",
       "      <th>23170</th>\n",
       "      <td>Kudryavtsev A.</td>\n",
       "      <td>Amritraj P.</td>\n",
       "    </tr>\n",
       "    <tr>\n",
       "      <th>23171</th>\n",
       "      <td>Eschauer W.</td>\n",
       "      <td>Salva B.</td>\n",
       "    </tr>\n",
       "    <tr>\n",
       "      <th>23172</th>\n",
       "      <td>Tipsarevic J.</td>\n",
       "      <td>Ventura S.</td>\n",
       "    </tr>\n",
       "    <tr>\n",
       "      <th>23173</th>\n",
       "      <td>Ram R.</td>\n",
       "      <td>Schukin Y.</td>\n",
       "    </tr>\n",
       "    <tr>\n",
       "      <th>23174</th>\n",
       "      <td>Wawrinka S.</td>\n",
       "      <td>Martin A.</td>\n",
       "    </tr>\n",
       "    <tr>\n",
       "      <th>23175</th>\n",
       "      <td>Mathieu P.H.</td>\n",
       "      <td>Benneteau J.</td>\n",
       "    </tr>\n",
       "    <tr>\n",
       "      <th>23176</th>\n",
       "      <td>Korolev E.</td>\n",
       "      <td>Jones A.</td>\n",
       "    </tr>\n",
       "    <tr>\n",
       "      <th>23177</th>\n",
       "      <td>Guccione C.</td>\n",
       "      <td>Odesnik W.</td>\n",
       "    </tr>\n",
       "    <tr>\n",
       "      <th>23178</th>\n",
       "      <td>Calleri A.</td>\n",
       "      <td>Robredo T.</td>\n",
       "    </tr>\n",
       "    <tr>\n",
       "      <th>23179</th>\n",
       "      <td>Tsonga J.W.</td>\n",
       "      <td>Hanescu V.</td>\n",
       "    </tr>\n",
       "    <tr>\n",
       "      <th>23180</th>\n",
       "      <td>Spadea V.</td>\n",
       "      <td>Grosjean S.</td>\n",
       "    </tr>\n",
       "    <tr>\n",
       "      <th>23181</th>\n",
       "      <td>Acasuso J.</td>\n",
       "      <td>Falla A.</td>\n",
       "    </tr>\n",
       "    <tr>\n",
       "      <th>23182</th>\n",
       "      <td>Nieminen J.</td>\n",
       "      <td>Klec I.</td>\n",
       "    </tr>\n",
       "    <tr>\n",
       "      <th>23183</th>\n",
       "      <td>Dancevic F.</td>\n",
       "      <td>Bolelli S.</td>\n",
       "    </tr>\n",
       "    <tr>\n",
       "      <th>23184</th>\n",
       "      <td>Gulbis E.</td>\n",
       "      <td>Golubev A.</td>\n",
       "    </tr>\n",
       "    <tr>\n",
       "      <th>23185</th>\n",
       "      <td>Tursunov D.</td>\n",
       "      <td>Montanes A.</td>\n",
       "    </tr>\n",
       "    <tr>\n",
       "      <th>23186</th>\n",
       "      <td>Rochus C.</td>\n",
       "      <td>Karlovic I.</td>\n",
       "    </tr>\n",
       "    <tr>\n",
       "      <th>23187</th>\n",
       "      <td>Kiefer N.</td>\n",
       "      <td>de Chaunac S.</td>\n",
       "    </tr>\n",
       "    <tr>\n",
       "      <th>23188</th>\n",
       "      <td>Davydenko N.</td>\n",
       "      <td>Dorsch B.</td>\n",
       "    </tr>\n",
       "    <tr>\n",
       "      <th>23189</th>\n",
       "      <td>Hewitt L.</td>\n",
       "      <td>Sela D.</td>\n",
       "    </tr>\n",
       "    <tr>\n",
       "      <th>...</th>\n",
       "      <td>...</td>\n",
       "      <td>...</td>\n",
       "    </tr>\n",
       "    <tr>\n",
       "      <th>54878</th>\n",
       "      <td>Monfils G.</td>\n",
       "      <td>Albot R.</td>\n",
       "    </tr>\n",
       "    <tr>\n",
       "      <th>54879</th>\n",
       "      <td>Nadal R.</td>\n",
       "      <td>Wawrinka S.</td>\n",
       "    </tr>\n",
       "    <tr>\n",
       "      <th>54880</th>\n",
       "      <td>Shapovalov D.</td>\n",
       "      <td>Zverev A.</td>\n",
       "    </tr>\n",
       "    <tr>\n",
       "      <th>54881</th>\n",
       "      <td>Garin C.</td>\n",
       "      <td>Chardy J.</td>\n",
       "    </tr>\n",
       "    <tr>\n",
       "      <th>54882</th>\n",
       "      <td>Djokovic N.</td>\n",
       "      <td>Edmund K.</td>\n",
       "    </tr>\n",
       "    <tr>\n",
       "      <th>54883</th>\n",
       "      <td>Tsitsipas S.</td>\n",
       "      <td>De Minaur A.</td>\n",
       "    </tr>\n",
       "    <tr>\n",
       "      <th>54884</th>\n",
       "      <td>Tsonga J.W.</td>\n",
       "      <td>Struff J.L.</td>\n",
       "    </tr>\n",
       "    <tr>\n",
       "      <th>54885</th>\n",
       "      <td>Dimitrov G.</td>\n",
       "      <td>Thiem D.</td>\n",
       "    </tr>\n",
       "    <tr>\n",
       "      <th>54886</th>\n",
       "      <td>Dimitrov G.</td>\n",
       "      <td>Garin C.</td>\n",
       "    </tr>\n",
       "    <tr>\n",
       "      <th>54887</th>\n",
       "      <td>Djokovic N.</td>\n",
       "      <td>Tsitsipas S.</td>\n",
       "    </tr>\n",
       "    <tr>\n",
       "      <th>54888</th>\n",
       "      <td>Shapovalov D.</td>\n",
       "      <td>Monfils G.</td>\n",
       "    </tr>\n",
       "    <tr>\n",
       "      <th>54889</th>\n",
       "      <td>Nadal R.</td>\n",
       "      <td>Tsonga J.W.</td>\n",
       "    </tr>\n",
       "    <tr>\n",
       "      <th>54890</th>\n",
       "      <td>Shapovalov D.</td>\n",
       "      <td>Nadal R.</td>\n",
       "    </tr>\n",
       "    <tr>\n",
       "      <th>54891</th>\n",
       "      <td>Djokovic N.</td>\n",
       "      <td>Dimitrov G.</td>\n",
       "    </tr>\n",
       "    <tr>\n",
       "      <th>54892</th>\n",
       "      <td>Djokovic N.</td>\n",
       "      <td>Shapovalov D.</td>\n",
       "    </tr>\n",
       "    <tr>\n",
       "      <th>54893</th>\n",
       "      <td>Djokovic N.</td>\n",
       "      <td>Berrettini M.</td>\n",
       "    </tr>\n",
       "    <tr>\n",
       "      <th>54894</th>\n",
       "      <td>Thiem D.</td>\n",
       "      <td>Federer R.</td>\n",
       "    </tr>\n",
       "    <tr>\n",
       "      <th>54895</th>\n",
       "      <td>Zverev A.</td>\n",
       "      <td>Nadal R.</td>\n",
       "    </tr>\n",
       "    <tr>\n",
       "      <th>54896</th>\n",
       "      <td>Tsitsipas S.</td>\n",
       "      <td>Medvedev D.</td>\n",
       "    </tr>\n",
       "    <tr>\n",
       "      <th>54897</th>\n",
       "      <td>Thiem D.</td>\n",
       "      <td>Djokovic N.</td>\n",
       "    </tr>\n",
       "    <tr>\n",
       "      <th>54898</th>\n",
       "      <td>Federer R.</td>\n",
       "      <td>Berrettini M.</td>\n",
       "    </tr>\n",
       "    <tr>\n",
       "      <th>54899</th>\n",
       "      <td>Nadal R.</td>\n",
       "      <td>Medvedev D.</td>\n",
       "    </tr>\n",
       "    <tr>\n",
       "      <th>54900</th>\n",
       "      <td>Tsitsipas S.</td>\n",
       "      <td>Zverev A.</td>\n",
       "    </tr>\n",
       "    <tr>\n",
       "      <th>54901</th>\n",
       "      <td>Federer R.</td>\n",
       "      <td>Djokovic N.</td>\n",
       "    </tr>\n",
       "    <tr>\n",
       "      <th>54902</th>\n",
       "      <td>Berrettini M.</td>\n",
       "      <td>Thiem D.</td>\n",
       "    </tr>\n",
       "    <tr>\n",
       "      <th>54903</th>\n",
       "      <td>Nadal R.</td>\n",
       "      <td>Tsitsipas S.</td>\n",
       "    </tr>\n",
       "    <tr>\n",
       "      <th>54904</th>\n",
       "      <td>Zverev A.</td>\n",
       "      <td>Medvedev D.</td>\n",
       "    </tr>\n",
       "    <tr>\n",
       "      <th>54905</th>\n",
       "      <td>Tsitsipas S.</td>\n",
       "      <td>Federer R.</td>\n",
       "    </tr>\n",
       "    <tr>\n",
       "      <th>54906</th>\n",
       "      <td>Thiem D.</td>\n",
       "      <td>Zverev A.</td>\n",
       "    </tr>\n",
       "    <tr>\n",
       "      <th>54907</th>\n",
       "      <td>Tsitsipas S.</td>\n",
       "      <td>Thiem D.</td>\n",
       "    </tr>\n",
       "  </tbody>\n",
       "</table>\n",
       "<p>31748 rows × 2 columns</p>\n",
       "</div>"
      ],
      "text/plain": [
       "                Winner          Loser\n",
       "23160        Murray A.      Rochus O.\n",
       "23161  Garcia-Lopez G.        Peya A.\n",
       "23162       Vliegen K.     Gicquel M.\n",
       "23163         Haase R.   Baghdatis M.\n",
       "23164    Schuettler R.       Pavel A.\n",
       "23165         Zovko L.     Ascione T.\n",
       "23166         Nadal R.   Montcourt M.\n",
       "23167         Mahut N.       Haase R.\n",
       "23168          Moya C.  Gabashvili T.\n",
       "23169         Cilic M.     Troicki V.\n",
       "23170   Kudryavtsev A.    Amritraj P.\n",
       "23171      Eschauer W.       Salva B.\n",
       "23172    Tipsarevic J.     Ventura S.\n",
       "23173           Ram R.     Schukin Y.\n",
       "23174      Wawrinka S.      Martin A.\n",
       "23175     Mathieu P.H.   Benneteau J.\n",
       "23176       Korolev E.       Jones A.\n",
       "23177      Guccione C.     Odesnik W.\n",
       "23178       Calleri A.     Robredo T.\n",
       "23179      Tsonga J.W.     Hanescu V.\n",
       "23180        Spadea V.    Grosjean S.\n",
       "23181       Acasuso J.       Falla A.\n",
       "23182      Nieminen J.        Klec I.\n",
       "23183      Dancevic F.     Bolelli S.\n",
       "23184        Gulbis E.     Golubev A.\n",
       "23185      Tursunov D.    Montanes A.\n",
       "23186        Rochus C.    Karlovic I.\n",
       "23187        Kiefer N.  de Chaunac S.\n",
       "23188     Davydenko N.      Dorsch B.\n",
       "23189        Hewitt L.        Sela D.\n",
       "...                ...            ...\n",
       "54878       Monfils G.       Albot R.\n",
       "54879         Nadal R.    Wawrinka S.\n",
       "54880    Shapovalov D.      Zverev A.\n",
       "54881         Garin C.      Chardy J.\n",
       "54882      Djokovic N.      Edmund K.\n",
       "54883     Tsitsipas S.   De Minaur A.\n",
       "54884      Tsonga J.W.    Struff J.L.\n",
       "54885      Dimitrov G.       Thiem D.\n",
       "54886      Dimitrov G.       Garin C.\n",
       "54887      Djokovic N.   Tsitsipas S.\n",
       "54888    Shapovalov D.     Monfils G.\n",
       "54889         Nadal R.    Tsonga J.W.\n",
       "54890    Shapovalov D.       Nadal R.\n",
       "54891      Djokovic N.    Dimitrov G.\n",
       "54892      Djokovic N.  Shapovalov D.\n",
       "54893      Djokovic N.  Berrettini M.\n",
       "54894         Thiem D.     Federer R.\n",
       "54895        Zverev A.       Nadal R.\n",
       "54896     Tsitsipas S.    Medvedev D.\n",
       "54897         Thiem D.    Djokovic N.\n",
       "54898       Federer R.  Berrettini M.\n",
       "54899         Nadal R.    Medvedev D.\n",
       "54900     Tsitsipas S.      Zverev A.\n",
       "54901       Federer R.    Djokovic N.\n",
       "54902    Berrettini M.       Thiem D.\n",
       "54903         Nadal R.   Tsitsipas S.\n",
       "54904        Zverev A.    Medvedev D.\n",
       "54905     Tsitsipas S.     Federer R.\n",
       "54906         Thiem D.      Zverev A.\n",
       "54907     Tsitsipas S.       Thiem D.\n",
       "\n",
       "[31748 rows x 2 columns]"
      ]
     },
     "execution_count": 9,
     "metadata": {},
     "output_type": "execute_result"
    }
   ],
   "source": []
  }
 ],
 "metadata": {
  "kernelspec": {
   "display_name": "Python [conda env:nf] *",
   "language": "python",
   "name": "conda-env-nf-py"
  },
  "language_info": {
   "codemirror_mode": {
    "name": "ipython",
    "version": 3
   },
   "file_extension": ".py",
   "mimetype": "text/x-python",
   "name": "python",
   "nbconvert_exporter": "python",
   "pygments_lexer": "ipython3",
   "version": "3.6.10"
  },
  "latex_envs": {
   "LaTeX_envs_menu_present": true,
   "autoclose": false,
   "autocomplete": true,
   "bibliofile": "biblio.bib",
   "cite_by": "apalike",
   "current_citInitial": 1,
   "eqLabelWithNumbers": true,
   "eqNumInitial": 1,
   "hotkeys": {
    "equation": "Ctrl-E",
    "itemize": "Ctrl-I"
   },
   "labels_anchors": false,
   "latex_user_defs": false,
   "report_style_numbering": false,
   "user_envs_cfg": false
  },
  "toc": {
   "base_numbering": 1,
   "nav_menu": {},
   "number_sections": true,
   "sideBar": true,
   "skip_h1_title": false,
   "title_cell": "Table of Contents",
   "title_sidebar": "Contents",
   "toc_cell": false,
   "toc_position": {
    "height": "calc(100% - 180px)",
    "left": "10px",
    "top": "150px",
    "width": "165.469px"
   },
   "toc_section_display": true,
   "toc_window_display": true
  },
  "varInspector": {
   "cols": {
    "lenName": 16,
    "lenType": 16,
    "lenVar": 40
   },
   "kernels_config": {
    "python": {
     "delete_cmd_postfix": "",
     "delete_cmd_prefix": "del ",
     "library": "var_list.py",
     "varRefreshCmd": "print(var_dic_list())"
    },
    "r": {
     "delete_cmd_postfix": ") ",
     "delete_cmd_prefix": "rm(",
     "library": "var_list.r",
     "varRefreshCmd": "cat(var_dic_list()) "
    }
   },
   "types_to_exclude": [
    "module",
    "function",
    "builtin_function_or_method",
    "instance",
    "_Feature"
   ],
   "window_display": false
  }
 },
 "nbformat": 4,
 "nbformat_minor": 4
}
